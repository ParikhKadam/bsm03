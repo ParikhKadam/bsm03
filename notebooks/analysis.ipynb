{
 "cells": [
  {
   "cell_type": "markdown",
   "metadata": {},
   "source": [
    "Notebook usado para analizar en un pequeño ejemplo de datos como se distribuyen los tags creados, como son los datos numéricos, como correlacionan los datos entre ellos. (Se ha hecho con una sola compañía para aligerar el proceso. Tras esto suponemos que cuando tengamos el resto de datos para las demás compañías, aunque no de la misma manera, pero se comporte parecido, es decir, que el mejor modelo sea el mismo, y que las variables correlacionen de la misma manera o muy parecida).\n",
    "\n",
    "Además en este notebook está todo el trabajo de comprobar que modelo de datos es el más adecuado para el problema de predecir, el modelo de datos usado finalmente será (Robust Scaler + Random Forest sin outliers)."
   ]
  },
  {
   "cell_type": "code",
   "execution_count": 3,
   "metadata": {},
   "outputs": [],
   "source": [
    "import sys\n",
    "import warnings\n",
    "from datetime import datetime\n",
    "from dateutil.relativedelta import relativedelta\n",
    "\n",
    "import pandas as pd\n",
    "import numpy as np\n",
    "import numba as nb\n",
    "import seaborn as sns\n",
    "import matplotlib.pyplot as plt\n",
    "from sklearn.neighbors import KNeighborsClassifier\n",
    "from sklearn.metrics import classification_report\n",
    "from sklearn.preprocessing import RobustScaler, StandardScaler\n",
    "from sklearn.ensemble import RandomForestClassifier\n",
    "\n",
    "sns.set()\n",
    "warnings.filterwarnings(\"ignore\")\n",
    "\n",
    "app_path = '/Users/esanc147/Documents/business/bsm03/web_app'\n",
    "if app_path in sys.path:\n",
    "    from tools.tags import create_tags\n",
    "else: \n",
    "    sys.path.append('/Users/esanc147/Documents/business/bsm03/web_app')\n",
    "    from tools.tags import create_tags\n",
    "    \n",
    "    "
   ]
  },
  {
   "cell_type": "code",
   "execution_count": 54,
   "metadata": {},
   "outputs": [],
   "source": [
    "COLUMNS_TECH = ['symbol', 'date', 'MACD_Signal', 'MACD_Hist', 'MACD', 'SlowK', 'SlowD',\n",
    "       'Chaikin A/D', 'OBV', 'EMA21', 'SMA21', 'WMA21', 'RSI21', 'ADX21',\n",
    "       'CCI21', 'Aroon Up21', 'Aroon Down21', 'Real Lower Band21',\n",
    "       'Real Upper Band21', 'Real Middle Band21', 'EMA28', 'SMA28', 'WMA28',\n",
    "       'RSI28', 'ADX28', 'CCI28', 'Aroon Down28', 'Aroon Up28',\n",
    "       'Real Lower Band28', 'Real Upper Band28', 'Real Middle Band28', 'EMA50',\n",
    "       'SMA50', 'WMA50', 'RSI50', 'ADX50', 'CCI50', 'Aroon Up50',\n",
    "       'Aroon Down50', 'Real Middle Band50', 'Real Lower Band50',\n",
    "       'Real Upper Band50']\n",
    "COLUMNS = ['symbol', 'date', 'close', 'volume', 'open', 'high', 'low']\n",
    "U_COLUMNS = ['close', 'volume', 'MACD_Signal', 'MACD_Hist', 'MACD', 'SlowK', 'SlowD', \n",
    "             'Chaikin A/D', 'OBV', 'RSI21', 'ADX21', 'CCI21', 'Aroon Up21', 'Aroon Down21', \n",
    "             'RSI28', 'ADX28', 'CCI28', 'Aroon Down28', 'Aroon Up28', 'Real Lower Band28', \n",
    "             'Real Upper Band28', 'Real Middle Band28', 'SMA50', 'RSI50', 'ADX50', 'CCI50', \n",
    "             'Aroon Up50', 'Aroon Down50']\n",
    "COLS_WO_FIN = ['close', 'volume', 'MACD_Signal', 'MACD_Hist',\n",
    "       'MACD', 'SlowK', 'SlowD', 'Chaikin A/D', 'OBV', 'EMA21', 'SMA21',\n",
    "       'WMA21', 'RSI21', 'ADX21', 'CCI21', 'Aroon Up21', 'Aroon Down21',\n",
    "       'Real Lower Band21', 'Real Upper Band21', 'Real Middle Band21', 'EMA28',\n",
    "       'SMA28', 'WMA28', 'RSI28', 'ADX28', 'CCI28', 'Aroon Down28',\n",
    "       'Aroon Up28', 'Real Lower Band28', 'Real Upper Band28',\n",
    "       'Real Middle Band28', 'EMA50', 'SMA50', 'WMA50', 'RSI50', 'ADX50',\n",
    "       'CCI50', 'Aroon Up50', 'Aroon Down50', 'Real Middle Band50',\n",
    "       'Real Lower Band50', 'Real Upper Band50']\n",
    "SYMBOLS = ['AAPL', 'MSFT', 'AMZN']\n",
    "FULL_PATH = \"/Users/esanc147/Documents/business/bsm03/web_app/data\""
   ]
  },
  {
   "cell_type": "code",
   "execution_count": 5,
   "metadata": {},
   "outputs": [],
   "source": [
    "symbol = SYMBOLS[2]\n",
    "\n",
    "path_close = f\"{FULL_PATH}/close/{symbol}.csv\"\n",
    "df_close = pd.read_csv(path_close, names=COLUMNS)\n",
    "df_close['date'] = pd.to_datetime(df_close['date'])\n",
    "df_close['volume'] = df_close['volume'].astype(float)\n",
    "\n",
    "path_tech = f\"{FULL_PATH}/tech/{symbol}.csv\"\n",
    "df_tech = pd.read_csv(path_tech, names=COLUMNS_TECH)\n",
    "df_tech['date'] = pd.to_datetime(df_tech['date'])\n",
    "\n",
    "list_df_tagged = []\n",
    "for period in [7, 14, 21, 28]:\n",
    "    df_aux = create_tags(df_close, period)\n",
    "    df_aux[f\"pct_change_{period}\"] = df_aux[f\"pct_change_{period}\"].astype(float)\n",
    "    df_aux[f\"pct_change_{period}\"] = df_aux[f\"pct_change_{period}\"].astype(float)\n",
    "    list_df_tagged.append(df_aux)\n",
    "df_tagged = pd.concat(list_df_tagged, axis=1)\n",
    "df_tagged.dropna(inplace=True)\n",
    "\n",
    "df_close = df_close.set_index(['symbol', 'date'])\n",
    "df_tech = df_tech.set_index(['symbol', 'date'])\n",
    "dataframe = pd.concat([df_close, df_tech, df_tagged], join='inner', axis=1)"
   ]
  },
  {
   "cell_type": "markdown",
   "metadata": {},
   "source": [
    "### Tamaño del dataframe"
   ]
  },
  {
   "cell_type": "code",
   "execution_count": 6,
   "metadata": {},
   "outputs": [
    {
     "data": {
      "text/plain": [
       "(3526, 53)"
      ]
     },
     "execution_count": 6,
     "metadata": {},
     "output_type": "execute_result"
    }
   ],
   "source": [
    "dataframe.shape"
   ]
  },
  {
   "cell_type": "markdown",
   "metadata": {},
   "source": [
    "### Comprobar si alguna columna tiene nulos"
   ]
  },
  {
   "cell_type": "code",
   "execution_count": 7,
   "metadata": {},
   "outputs": [
    {
     "data": {
      "text/plain": [
       "False"
      ]
     },
     "execution_count": 7,
     "metadata": {},
     "output_type": "execute_result"
    }
   ],
   "source": [
    "dataframe.isnull().any().any()"
   ]
  },
  {
   "cell_type": "markdown",
   "metadata": {},
   "source": [
    "### Límites de fechas que tenemos"
   ]
  },
  {
   "cell_type": "code",
   "execution_count": 8,
   "metadata": {},
   "outputs": [
    {
     "data": {
      "text/plain": [
       "('AMZN', Timestamp('2006-04-26 00:00:00'))"
      ]
     },
     "execution_count": 8,
     "metadata": {},
     "output_type": "execute_result"
    }
   ],
   "source": [
    "dataframe.index.min()"
   ]
  },
  {
   "cell_type": "code",
   "execution_count": 9,
   "metadata": {},
   "outputs": [
    {
     "data": {
      "text/plain": [
       "('AMZN', Timestamp('2020-04-28 00:00:00'))"
      ]
     },
     "execution_count": 9,
     "metadata": {},
     "output_type": "execute_result"
    }
   ],
   "source": [
    "dataframe.index.max()"
   ]
  },
  {
   "cell_type": "markdown",
   "metadata": {},
   "source": [
    "### Tipos de datos que tenemos en el dataframe"
   ]
  },
  {
   "cell_type": "code",
   "execution_count": 10,
   "metadata": {},
   "outputs": [
    {
     "data": {
      "text/plain": [
       "float64    49\n",
       "object      4\n",
       "dtype: int64"
      ]
     },
     "execution_count": 10,
     "metadata": {},
     "output_type": "execute_result"
    }
   ],
   "source": [
    "dataframe.dtypes.value_counts()"
   ]
  },
  {
   "cell_type": "markdown",
   "metadata": {},
   "source": [
    "### Como se distribuyen los datos de tagging"
   ]
  },
  {
   "cell_type": "code",
   "execution_count": 11,
   "metadata": {},
   "outputs": [
    {
     "name": "stdout",
     "output_type": "stream",
     "text": [
      "Porcentaje de subida: 50.77% | Porcentaje de bajada: 38.32%\n"
     ]
    },
    {
     "data": {
      "text/plain": [
       "bull            28.332388\n",
       "strong bear     23.596143\n",
       "strong bull     20.334657\n",
       "bear            12.195122\n",
       "keep            10.918888\n",
       "outlier bear     2.524107\n",
       "outlier bull     2.098695\n",
       "Name: tag_7, dtype: float64"
      ]
     },
     "execution_count": 11,
     "metadata": {},
     "output_type": "execute_result"
    },
    {
     "data": {
      "image/png": "[encoded data removed]",
      "text/plain": [
       "<Figure size 432x288 with 1 Axes>"
      ]
     },
     "metadata": {},
     "output_type": "display_data"
    }
   ],
   "source": [
    "dataframe.select_dtypes(object)['tag_7'].value_counts().plot.bar();\n",
    "norm = dataframe.select_dtypes(object)['tag_7'].value_counts(normalize=True) * 100\n",
    "print(f\"Porcentaje de subida: {round(norm[norm.index.str.endswith('bull')].sum(), 2)}% | Porcentaje de bajada: {round(norm[norm.index.str.endswith('bear')].sum(), 2)}%\")\n",
    "norm"
   ]
  },
  {
   "cell_type": "code",
   "execution_count": 12,
   "metadata": {},
   "outputs": [
    {
     "name": "stdout",
     "output_type": "stream",
     "text": [
      "Porcentaje de subida: 54.42% | Porcentaje de bajada: 34.34%\n"
     ]
    },
    {
     "data": {
      "text/plain": [
       "bull            29.211571\n",
       "strong bull     23.312535\n",
       "strong bear     21.100397\n",
       "keep            11.230856\n",
       "bear            10.692002\n",
       "outlier bear     2.552467\n",
       "outlier bull     1.900170\n",
       "Name: tag_14, dtype: float64"
      ]
     },
     "execution_count": 12,
     "metadata": {},
     "output_type": "execute_result"
    },
    {
     "data": {
      "image/png": "[encoded data removed]",
      "text/plain": [
       "<Figure size 432x288 with 1 Axes>"
      ]
     },
     "metadata": {},
     "output_type": "display_data"
    }
   ],
   "source": [
    "dataframe.select_dtypes(object)['tag_14'].value_counts().plot.bar();\n",
    "norm = dataframe.select_dtypes(object)['tag_14'].value_counts(normalize=True) * 100\n",
    "print(f\"Porcentaje de subida: {round(norm[norm.index.str.endswith('bull')].sum(), 2)}% | Porcentaje de bajada: {round(norm[norm.index.str.endswith('bear')].sum(), 2)}%\")\n",
    "norm"
   ]
  },
  {
   "cell_type": "code",
   "execution_count": 13,
   "metadata": {},
   "outputs": [
    {
     "name": "stdout",
     "output_type": "stream",
     "text": [
      "Porcentaje de subida: 56.44% | Porcentaje de bajada: 31.96%\n"
     ]
    },
    {
     "data": {
      "text/plain": [
       "bull            30.657969\n",
       "strong bull     23.936472\n",
       "strong bear     19.483834\n",
       "keep            11.599546\n",
       "bear            10.465116\n",
       "outlier bear     2.013613\n",
       "outlier bull     1.843449\n",
       "Name: tag_21, dtype: float64"
      ]
     },
     "execution_count": 13,
     "metadata": {},
     "output_type": "execute_result"
    },
    {
     "data": {
      "image/png": "[encoded data removed]",
      "text/plain": [
       "<Figure size 432x288 with 1 Axes>"
      ]
     },
     "metadata": {},
     "output_type": "display_data"
    }
   ],
   "source": [
    "dataframe.select_dtypes(object)['tag_21'].value_counts().plot.bar();\n",
    "norm = dataframe.select_dtypes(object)['tag_21'].value_counts(normalize=True) * 100\n",
    "print(f\"Porcentaje de subida: {round(norm[norm.index.str.endswith('bull')].sum(), 2)}% | Porcentaje de bajada: {round(norm[norm.index.str.endswith('bear')].sum(), 2)}%\")\n",
    "norm"
   ]
  },
  {
   "cell_type": "code",
   "execution_count": 14,
   "metadata": {},
   "outputs": [
    {
     "name": "stdout",
     "output_type": "stream",
     "text": [
      "Porcentaje de subida: 58.05% | Porcentaje de bajada: 30.2%\n"
     ]
    },
    {
     "data": {
      "text/plain": [
       "bull            31.480431\n",
       "strong bull     24.503687\n",
       "strong bear     18.377765\n",
       "keep            11.741350\n",
       "bear             9.841180\n",
       "outlier bull     2.070335\n",
       "outlier bear     1.985252\n",
       "Name: tag_28, dtype: float64"
      ]
     },
     "execution_count": 14,
     "metadata": {},
     "output_type": "execute_result"
    },
    {
     "data": {
      "image/png": "[encoded data removed]",
      "text/plain": [
       "<Figure size 432x288 with 1 Axes>"
      ]
     },
     "metadata": {},
     "output_type": "display_data"
    }
   ],
   "source": [
    "dataframe.select_dtypes(object)['tag_28'].value_counts().plot.bar();\n",
    "norm = dataframe.select_dtypes(object)['tag_28'].value_counts(normalize=True) * 100\n",
    "print(f\"Porcentaje de subida: {round(norm[norm.index.str.endswith('bull')].sum(), 2)}% | Porcentaje de bajada: {round(norm[norm.index.str.endswith('bear')].sum(), 2)}%\")\n",
    "norm"
   ]
  },
  {
   "cell_type": "markdown",
   "metadata": {},
   "source": [
    "### Como se distribuyen los datos numéricos"
   ]
  },
  {
   "cell_type": "code",
   "execution_count": 15,
   "metadata": {},
   "outputs": [
    {
     "data": {
      "text/html": [
       "<div>\n",
       "<style scoped>\n",
       "    .dataframe tbody tr th:only-of-type {\n",
       "        vertical-align: middle;\n",
       "    }\n",
       "\n",
       "    .dataframe tbody tr th {\n",
       "        vertical-align: top;\n",
       "    }\n",
       "\n",
       "    .dataframe thead th {\n",
       "        text-align: right;\n",
       "    }\n",
       "</style>\n",
       "<table border=\"1\" class=\"dataframe\">\n",
       "  <thead>\n",
       "    <tr style=\"text-align: right;\">\n",
       "      <th></th>\n",
       "      <th>close</th>\n",
       "      <th>volume</th>\n",
       "      <th>MACD_Signal</th>\n",
       "      <th>MACD_Hist</th>\n",
       "      <th>MACD</th>\n",
       "      <th>SlowK</th>\n",
       "      <th>SlowD</th>\n",
       "      <th>Chaikin A/D</th>\n",
       "      <th>OBV</th>\n",
       "      <th>RSI21</th>\n",
       "      <th>ADX21</th>\n",
       "      <th>CCI21</th>\n",
       "      <th>Aroon Up21</th>\n",
       "      <th>Aroon Down21</th>\n",
       "      <th>RSI28</th>\n",
       "      <th>ADX28</th>\n",
       "      <th>CCI28</th>\n",
       "      <th>Aroon Down28</th>\n",
       "      <th>Aroon Up28</th>\n",
       "      <th>Real Lower Band28</th>\n",
       "      <th>Real Upper Band28</th>\n",
       "      <th>Real Middle Band28</th>\n",
       "      <th>SMA50</th>\n",
       "      <th>RSI50</th>\n",
       "      <th>ADX50</th>\n",
       "      <th>CCI50</th>\n",
       "      <th>Aroon Up50</th>\n",
       "      <th>Aroon Down50</th>\n",
       "    </tr>\n",
       "  </thead>\n",
       "  <tbody>\n",
       "    <tr>\n",
       "      <th>count</th>\n",
       "      <td>3526.000000</td>\n",
       "      <td>3.526000e+03</td>\n",
       "      <td>3526.000000</td>\n",
       "      <td>3526.000000</td>\n",
       "      <td>3526.000000</td>\n",
       "      <td>3526.000000</td>\n",
       "      <td>3526.000000</td>\n",
       "      <td>3.526000e+03</td>\n",
       "      <td>3.526000e+03</td>\n",
       "      <td>3526.000000</td>\n",
       "      <td>3526.000000</td>\n",
       "      <td>3526.000000</td>\n",
       "      <td>3526.000000</td>\n",
       "      <td>3526.000000</td>\n",
       "      <td>3526.000000</td>\n",
       "      <td>3526.000000</td>\n",
       "      <td>3526.000000</td>\n",
       "      <td>3526.000000</td>\n",
       "      <td>3526.000000</td>\n",
       "      <td>3526.000000</td>\n",
       "      <td>3526.000000</td>\n",
       "      <td>3526.000000</td>\n",
       "      <td>3526.000000</td>\n",
       "      <td>3526.000000</td>\n",
       "      <td>3526.000000</td>\n",
       "      <td>3526.000000</td>\n",
       "      <td>3526.000000</td>\n",
       "      <td>3526.000000</td>\n",
       "    </tr>\n",
       "    <tr>\n",
       "      <th>mean</th>\n",
       "      <td>546.173280</td>\n",
       "      <td>5.729599e+06</td>\n",
       "      <td>3.961858</td>\n",
       "      <td>0.125156</td>\n",
       "      <td>4.087014</td>\n",
       "      <td>55.746981</td>\n",
       "      <td>55.741896</td>\n",
       "      <td>1.334618e+09</td>\n",
       "      <td>7.324821e+08</td>\n",
       "      <td>54.703267</td>\n",
       "      <td>21.558566</td>\n",
       "      <td>28.805406</td>\n",
       "      <td>58.975504</td>\n",
       "      <td>40.955620</td>\n",
       "      <td>54.559871</td>\n",
       "      <td>19.176003</td>\n",
       "      <td>32.604216</td>\n",
       "      <td>40.156794</td>\n",
       "      <td>60.002229</td>\n",
       "      <td>499.269401</td>\n",
       "      <td>576.288324</td>\n",
       "      <td>537.778862</td>\n",
       "      <td>531.840424</td>\n",
       "      <td>54.279891</td>\n",
       "      <td>15.059459</td>\n",
       "      <td>42.432129</td>\n",
       "      <td>62.136132</td>\n",
       "      <td>37.248440</td>\n",
       "    </tr>\n",
       "    <tr>\n",
       "      <th>std</th>\n",
       "      <td>601.931181</td>\n",
       "      <td>4.728222e+06</td>\n",
       "      <td>14.179296</td>\n",
       "      <td>5.204399</td>\n",
       "      <td>15.737184</td>\n",
       "      <td>25.046979</td>\n",
       "      <td>23.113039</td>\n",
       "      <td>4.150521e+08</td>\n",
       "      <td>2.508442e+08</td>\n",
       "      <td>9.892523</td>\n",
       "      <td>7.711861</td>\n",
       "      <td>111.241472</td>\n",
       "      <td>35.255237</td>\n",
       "      <td>34.869311</td>\n",
       "      <td>8.651192</td>\n",
       "      <td>6.903640</td>\n",
       "      <td>112.676179</td>\n",
       "      <td>34.580915</td>\n",
       "      <td>34.780126</td>\n",
       "      <td>552.366660</td>\n",
       "      <td>634.424429</td>\n",
       "      <td>592.674877</td>\n",
       "      <td>587.588039</td>\n",
       "      <td>6.605656</td>\n",
       "      <td>5.587586</td>\n",
       "      <td>112.222272</td>\n",
       "      <td>33.991299</td>\n",
       "      <td>33.851257</td>\n",
       "    </tr>\n",
       "    <tr>\n",
       "      <th>min</th>\n",
       "      <td>26.070000</td>\n",
       "      <td>8.813370e+05</td>\n",
       "      <td>-67.632300</td>\n",
       "      <td>-36.030400</td>\n",
       "      <td>-82.597600</td>\n",
       "      <td>1.843300</td>\n",
       "      <td>5.715500</td>\n",
       "      <td>3.172084e+08</td>\n",
       "      <td>1.329609e+08</td>\n",
       "      <td>27.625400</td>\n",
       "      <td>7.679100</td>\n",
       "      <td>-424.391600</td>\n",
       "      <td>0.000000</td>\n",
       "      <td>0.000000</td>\n",
       "      <td>30.835000</td>\n",
       "      <td>7.314500</td>\n",
       "      <td>-435.619500</td>\n",
       "      <td>0.000000</td>\n",
       "      <td>0.000000</td>\n",
       "      <td>22.403900</td>\n",
       "      <td>30.833000</td>\n",
       "      <td>27.784600</td>\n",
       "      <td>29.450000</td>\n",
       "      <td>35.939800</td>\n",
       "      <td>6.641600</td>\n",
       "      <td>-369.671800</td>\n",
       "      <td>0.000000</td>\n",
       "      <td>0.000000</td>\n",
       "    </tr>\n",
       "    <tr>\n",
       "      <th>25%</th>\n",
       "      <td>108.742500</td>\n",
       "      <td>3.117449e+06</td>\n",
       "      <td>-0.913100</td>\n",
       "      <td>-1.032450</td>\n",
       "      <td>-1.009775</td>\n",
       "      <td>34.615175</td>\n",
       "      <td>36.102075</td>\n",
       "      <td>1.030024e+09</td>\n",
       "      <td>5.387952e+08</td>\n",
       "      <td>47.419900</td>\n",
       "      <td>16.051625</td>\n",
       "      <td>-60.675350</td>\n",
       "      <td>24.999975</td>\n",
       "      <td>9.523800</td>\n",
       "      <td>48.151950</td>\n",
       "      <td>14.448075</td>\n",
       "      <td>-55.912400</td>\n",
       "      <td>7.142900</td>\n",
       "      <td>28.571400</td>\n",
       "      <td>85.056525</td>\n",
       "      <td>105.766725</td>\n",
       "      <td>94.075925</td>\n",
       "      <td>89.355550</td>\n",
       "      <td>49.366050</td>\n",
       "      <td>11.312100</td>\n",
       "      <td>-36.857575</td>\n",
       "      <td>32.000000</td>\n",
       "      <td>6.000000</td>\n",
       "    </tr>\n",
       "    <tr>\n",
       "      <th>50%</th>\n",
       "      <td>268.880000</td>\n",
       "      <td>4.609650e+06</td>\n",
       "      <td>1.882400</td>\n",
       "      <td>-0.014750</td>\n",
       "      <td>1.921850</td>\n",
       "      <td>56.855350</td>\n",
       "      <td>56.945550</td>\n",
       "      <td>1.483599e+09</td>\n",
       "      <td>7.183450e+08</td>\n",
       "      <td>54.844050</td>\n",
       "      <td>20.110100</td>\n",
       "      <td>46.568200</td>\n",
       "      <td>66.666700</td>\n",
       "      <td>33.333300</td>\n",
       "      <td>54.539150</td>\n",
       "      <td>17.707950</td>\n",
       "      <td>50.561300</td>\n",
       "      <td>32.142900</td>\n",
       "      <td>67.857100</td>\n",
       "      <td>252.715750</td>\n",
       "      <td>278.314500</td>\n",
       "      <td>265.793150</td>\n",
       "      <td>264.531100</td>\n",
       "      <td>54.008750</td>\n",
       "      <td>13.914950</td>\n",
       "      <td>58.904900</td>\n",
       "      <td>72.000000</td>\n",
       "      <td>26.000000</td>\n",
       "    </tr>\n",
       "    <tr>\n",
       "      <th>75%</th>\n",
       "      <td>771.372500</td>\n",
       "      <td>6.872125e+06</td>\n",
       "      <td>6.474275</td>\n",
       "      <td>1.165025</td>\n",
       "      <td>6.684775</td>\n",
       "      <td>78.214200</td>\n",
       "      <td>76.121775</td>\n",
       "      <td>1.639126e+09</td>\n",
       "      <td>9.225136e+08</td>\n",
       "      <td>61.544875</td>\n",
       "      <td>25.698950</td>\n",
       "      <td>108.173250</td>\n",
       "      <td>90.476200</td>\n",
       "      <td>71.428600</td>\n",
       "      <td>60.557125</td>\n",
       "      <td>22.726675</td>\n",
       "      <td>111.963000</td>\n",
       "      <td>71.428600</td>\n",
       "      <td>92.857100</td>\n",
       "      <td>738.489150</td>\n",
       "      <td>797.938400</td>\n",
       "      <td>768.661875</td>\n",
       "      <td>772.699000</td>\n",
       "      <td>58.950900</td>\n",
       "      <td>17.275650</td>\n",
       "      <td>118.577700</td>\n",
       "      <td>94.000000</td>\n",
       "      <td>66.000000</td>\n",
       "    </tr>\n",
       "    <tr>\n",
       "      <th>max</th>\n",
       "      <td>2410.220000</td>\n",
       "      <td>1.043292e+08</td>\n",
       "      <td>110.027900</td>\n",
       "      <td>51.017500</td>\n",
       "      <td>128.593000</td>\n",
       "      <td>99.937000</td>\n",
       "      <td>97.256900</td>\n",
       "      <td>1.863836e+09</td>\n",
       "      <td>1.201858e+09</td>\n",
       "      <td>90.269600</td>\n",
       "      <td>57.792500</td>\n",
       "      <td>508.265400</td>\n",
       "      <td>100.000000</td>\n",
       "      <td>100.000000</td>\n",
       "      <td>86.580800</td>\n",
       "      <td>51.448900</td>\n",
       "      <td>541.574700</td>\n",
       "      <td>100.000000</td>\n",
       "      <td>100.000000</td>\n",
       "      <td>1896.838500</td>\n",
       "      <td>2530.955800</td>\n",
       "      <td>2113.612500</td>\n",
       "      <td>2029.031200</td>\n",
       "      <td>77.953100</td>\n",
       "      <td>38.795500</td>\n",
       "      <td>674.831800</td>\n",
       "      <td>100.000000</td>\n",
       "      <td>100.000000</td>\n",
       "    </tr>\n",
       "  </tbody>\n",
       "</table>\n",
       "</div>"
      ],
      "text/plain": [
       "             close        volume  MACD_Signal    MACD_Hist         MACD  \\\n",
       "count  3526.000000  3.526000e+03  3526.000000  3526.000000  3526.000000   \n",
       "mean    546.173280  5.729599e+06     3.961858     0.125156     4.087014   \n",
       "std     601.931181  4.728222e+06    14.179296     5.204399    15.737184   \n",
       "min      26.070000  8.813370e+05   -67.632300   -36.030400   -82.597600   \n",
       "25%     108.742500  3.117449e+06    -0.913100    -1.032450    -1.009775   \n",
       "50%     268.880000  4.609650e+06     1.882400    -0.014750     1.921850   \n",
       "75%     771.372500  6.872125e+06     6.474275     1.165025     6.684775   \n",
       "max    2410.220000  1.043292e+08   110.027900    51.017500   128.593000   \n",
       "\n",
       "             SlowK        SlowD   Chaikin A/D           OBV        RSI21  \\\n",
       "count  3526.000000  3526.000000  3.526000e+03  3.526000e+03  3526.000000   \n",
       "mean     55.746981    55.741896  1.334618e+09  7.324821e+08    54.703267   \n",
       "std      25.046979    23.113039  4.150521e+08  2.508442e+08     9.892523   \n",
       "min       1.843300     5.715500  3.172084e+08  1.329609e+08    27.625400   \n",
       "25%      34.615175    36.102075  1.030024e+09  5.387952e+08    47.419900   \n",
       "50%      56.855350    56.945550  1.483599e+09  7.183450e+08    54.844050   \n",
       "75%      78.214200    76.121775  1.639126e+09  9.225136e+08    61.544875   \n",
       "max      99.937000    97.256900  1.863836e+09  1.201858e+09    90.269600   \n",
       "\n",
       "             ADX21        CCI21   Aroon Up21  Aroon Down21        RSI28  \\\n",
       "count  3526.000000  3526.000000  3526.000000   3526.000000  3526.000000   \n",
       "mean     21.558566    28.805406    58.975504     40.955620    54.559871   \n",
       "std       7.711861   111.241472    35.255237     34.869311     8.651192   \n",
       "min       7.679100  -424.391600     0.000000      0.000000    30.835000   \n",
       "25%      16.051625   -60.675350    24.999975      9.523800    48.151950   \n",
       "50%      20.110100    46.568200    66.666700     33.333300    54.539150   \n",
       "75%      25.698950   108.173250    90.476200     71.428600    60.557125   \n",
       "max      57.792500   508.265400   100.000000    100.000000    86.580800   \n",
       "\n",
       "             ADX28        CCI28  Aroon Down28   Aroon Up28  Real Lower Band28  \\\n",
       "count  3526.000000  3526.000000   3526.000000  3526.000000        3526.000000   \n",
       "mean     19.176003    32.604216     40.156794    60.002229         499.269401   \n",
       "std       6.903640   112.676179     34.580915    34.780126         552.366660   \n",
       "min       7.314500  -435.619500      0.000000     0.000000          22.403900   \n",
       "25%      14.448075   -55.912400      7.142900    28.571400          85.056525   \n",
       "50%      17.707950    50.561300     32.142900    67.857100         252.715750   \n",
       "75%      22.726675   111.963000     71.428600    92.857100         738.489150   \n",
       "max      51.448900   541.574700    100.000000   100.000000        1896.838500   \n",
       "\n",
       "       Real Upper Band28  Real Middle Band28        SMA50        RSI50  \\\n",
       "count        3526.000000         3526.000000  3526.000000  3526.000000   \n",
       "mean          576.288324          537.778862   531.840424    54.279891   \n",
       "std           634.424429          592.674877   587.588039     6.605656   \n",
       "min            30.833000           27.784600    29.450000    35.939800   \n",
       "25%           105.766725           94.075925    89.355550    49.366050   \n",
       "50%           278.314500          265.793150   264.531100    54.008750   \n",
       "75%           797.938400          768.661875   772.699000    58.950900   \n",
       "max          2530.955800         2113.612500  2029.031200    77.953100   \n",
       "\n",
       "             ADX50        CCI50   Aroon Up50  Aroon Down50  \n",
       "count  3526.000000  3526.000000  3526.000000   3526.000000  \n",
       "mean     15.059459    42.432129    62.136132     37.248440  \n",
       "std       5.587586   112.222272    33.991299     33.851257  \n",
       "min       6.641600  -369.671800     0.000000      0.000000  \n",
       "25%      11.312100   -36.857575    32.000000      6.000000  \n",
       "50%      13.914950    58.904900    72.000000     26.000000  \n",
       "75%      17.275650   118.577700    94.000000     66.000000  \n",
       "max      38.795500   674.831800   100.000000    100.000000  "
      ]
     },
     "execution_count": 15,
     "metadata": {},
     "output_type": "execute_result"
    }
   ],
   "source": [
    "pd.set_option('display.max_columns', 30)\n",
    "dataframe.select_dtypes(float)[U_COLUMNS].describe()"
   ]
  },
  {
   "cell_type": "markdown",
   "metadata": {},
   "source": [
    "### Mapa de calor de la correlación de las variables"
   ]
  },
  {
   "cell_type": "code",
   "execution_count": 16,
   "metadata": {},
   "outputs": [
    {
     "data": {
      "image/png": "[encoded data removed]",
      "text/plain": [
       "<Figure size 1080x720 with 2 Axes>"
      ]
     },
     "metadata": {},
     "output_type": "display_data"
    }
   ],
   "source": [
    "fig, ax = plt.subplots(figsize=(15,10))\n",
    "sns.heatmap(dataframe[U_COLUMNS].corr(), \n",
    "            xticklabels=True, yticklabels=True, \n",
    "            cmap=\"icefire\");"
   ]
  },
  {
   "cell_type": "markdown",
   "metadata": {},
   "source": [
    "### Función creada por usuario RobustScaler"
   ]
  },
  {
   "cell_type": "code",
   "execution_count": 17,
   "metadata": {},
   "outputs": [],
   "source": [
    "@nb.jit(nopython=False)\n",
    "def ud_robust_scaler(data, columns, rel_delta):\n",
    "    row = 0\n",
    "    arr_sd = data[:, 0:2]\n",
    "    result = np.zeros((data.shape[0], len(columns[2:])))\n",
    "    for date in data[:, 1]:\n",
    "        # Filtrado de los ultimos 4 meses a fecha dada\n",
    "        datetime_ = datetime(date.year, date.month, date.day)\n",
    "        arr_aux = data[(data[:, 1] >= datetime_-rel_delta) \\\n",
    "                       & (data[:, 1] <= datetime_)][:, 2:]\n",
    "        if arr_aux.shape[0] <= 70:\n",
    "            break\n",
    "        for col in range(len(columns[2:])):\n",
    "            p25 = np.percentile(arr_aux[:, col], 25)\n",
    "            p75 = np.percentile(arr_aux[:, col], 75)\n",
    "            p50 = np.percentile(arr_aux[:, col], 50)\n",
    "            iqr = p75 - p25\n",
    "            result[row, col] = (arr_aux[0, col] - p50) / iqr\n",
    "            \n",
    "        row += 1\n",
    "        \n",
    "    return result"
   ]
  },
  {
   "cell_type": "markdown",
   "metadata": {},
   "source": [
    "### KNN"
   ]
  },
  {
   "cell_type": "code",
   "execution_count": 18,
   "metadata": {},
   "outputs": [],
   "source": [
    "dataframe_reset = dataframe.reset_index()\n",
    "dataframe_train = dataframe_reset[dataframe_reset['date'].dt.year <= 2017] \\\n",
    "                    .sort_values(by='date', ascending=False) \\\n",
    "                    .set_index(['symbol', 'date'])\n",
    "                    \n",
    "dataframe_test = dataframe_reset[(dataframe_reset['date'].dt.year > 2017)\n",
    "                                 & (dataframe_reset['date'].dt.year < 2019)] \\\n",
    "                    .sort_values(by='date', ascending=False) \\\n",
    "                    .set_index(['symbol', 'date'])"
   ]
  },
  {
   "cell_type": "markdown",
   "metadata": {},
   "source": [
    "#### KNN - Todos los datos | UDF | Con outliers"
   ]
  },
  {
   "cell_type": "code",
   "execution_count": 19,
   "metadata": {},
   "outputs": [
    {
     "name": "stdout",
     "output_type": "stream",
     "text": [
      "              precision    recall  f1-score   support\n",
      "\n",
      "        bear       0.08      0.39      0.13        18\n",
      "        bull       0.54      0.38      0.44        98\n",
      "        keep       0.30      0.15      0.20        39\n",
      "outlier bear       0.14      1.00      0.25         1\n",
      "outlier bull       0.00      0.00      0.00         2\n",
      " strong bear       0.45      0.27      0.33        49\n",
      " strong bull       0.34      0.27      0.30        44\n",
      "\n",
      "    accuracy                           0.30       251\n",
      "   macro avg       0.26      0.35      0.24       251\n",
      "weighted avg       0.41      0.30      0.33       251\n",
      "\n"
     ]
    }
   ],
   "source": [
    "knn = KNeighborsClassifier(weights='distance')\n",
    "\n",
    "df_aux = dataframe_train.reset_index()\n",
    "cols = ['symbol', 'date']\n",
    "cols.extend(list(df_aux.select_dtypes(float).columns))\n",
    "df_aux = df_aux[cols]\n",
    "X_train = ud_robust_scaler(df_aux.values, df_aux.columns, relativedelta(months=4))\n",
    "y_train = dataframe_train['tag_28'].values\n",
    "\n",
    "df_aux = dataframe_test.reset_index()\n",
    "cols = ['symbol', 'date']\n",
    "cols.extend(list(df_aux.select_dtypes(float).columns))\n",
    "df_aux = df_aux[cols]\n",
    "X_test = ud_robust_scaler(df_aux.values, df_aux.columns, relativedelta(months=4))\n",
    "y_test = dataframe_test['tag_28'].values\n",
    "\n",
    "knn.fit(X_train, y_train)\n",
    "\n",
    "y_pred = knn.predict(X_test)\n",
    "\n",
    "print(classification_report(y_test, y_pred))"
   ]
  },
  {
   "cell_type": "markdown",
   "metadata": {},
   "source": [
    "#### KNN - Todos los datos | Sin escalado | Con outliers"
   ]
  },
  {
   "cell_type": "code",
   "execution_count": 20,
   "metadata": {},
   "outputs": [],
   "source": [
    "knn = KNeighborsClassifier(weights='distance')"
   ]
  },
  {
   "cell_type": "code",
   "execution_count": 21,
   "metadata": {},
   "outputs": [],
   "source": [
    "X_train = dataframe_train.select_dtypes(float).values\n",
    "y_train = dataframe_train['tag_28'].values\n",
    "\n",
    "X_test = dataframe_test.select_dtypes(float).values\n",
    "y_test = dataframe_test['tag_28'].values"
   ]
  },
  {
   "cell_type": "code",
   "execution_count": 22,
   "metadata": {},
   "outputs": [],
   "source": [
    "knn.fit(X_train, y_train);"
   ]
  },
  {
   "cell_type": "code",
   "execution_count": 23,
   "metadata": {},
   "outputs": [],
   "source": [
    "y_pred = knn.predict(X_test)"
   ]
  },
  {
   "cell_type": "code",
   "execution_count": 24,
   "metadata": {},
   "outputs": [
    {
     "name": "stdout",
     "output_type": "stream",
     "text": [
      "              precision    recall  f1-score   support\n",
      "\n",
      "        bear       0.00      0.00      0.00        18\n",
      "        bull       0.00      0.00      0.00        98\n",
      "        keep       0.00      0.00      0.00        39\n",
      "outlier bear       0.00      0.00      0.00         1\n",
      "outlier bull       0.00      0.00      0.00         2\n",
      " strong bear       0.78      0.59      0.67        49\n",
      " strong bull       0.21      1.00      0.34        44\n",
      "\n",
      "    accuracy                           0.29       251\n",
      "   macro avg       0.14      0.23      0.15       251\n",
      "weighted avg       0.19      0.29      0.19       251\n",
      "\n"
     ]
    }
   ],
   "source": [
    "print(classification_report(y_test, y_pred))"
   ]
  },
  {
   "cell_type": "markdown",
   "metadata": {},
   "source": [
    "#### KNN - COLS_WO_FIN | Sin escalado | Con outliers"
   ]
  },
  {
   "cell_type": "code",
   "execution_count": 31,
   "metadata": {},
   "outputs": [],
   "source": [
    "knn = KNeighborsClassifier(weights='distance')"
   ]
  },
  {
   "cell_type": "code",
   "execution_count": 32,
   "metadata": {},
   "outputs": [],
   "source": [
    "X_train = dataframe_train.select_dtypes(float)[COLS_WO_FIN].values\n",
    "y_train = dataframe_train['tag_28'].values\n",
    "\n",
    "X_test = dataframe_test.select_dtypes(float)[COLS_WO_FIN].values\n",
    "y_test = dataframe_test['tag_28'].values"
   ]
  },
  {
   "cell_type": "code",
   "execution_count": 33,
   "metadata": {},
   "outputs": [],
   "source": [
    "knn.fit(X_train, y_train);"
   ]
  },
  {
   "cell_type": "code",
   "execution_count": 34,
   "metadata": {},
   "outputs": [],
   "source": [
    "y_pred = knn.predict(X_test)"
   ]
  },
  {
   "cell_type": "code",
   "execution_count": 35,
   "metadata": {},
   "outputs": [
    {
     "name": "stdout",
     "output_type": "stream",
     "text": [
      "              precision    recall  f1-score   support\n",
      "\n",
      "        bear       0.00      0.00      0.00        18\n",
      "        bull       0.00      0.00      0.00        98\n",
      "        keep       0.00      0.00      0.00        39\n",
      "outlier bear       0.00      0.00      0.00         1\n",
      "outlier bull       0.00      0.00      0.00         2\n",
      " strong bear       0.78      0.59      0.67        49\n",
      " strong bull       0.21      1.00      0.34        44\n",
      "\n",
      "    accuracy                           0.29       251\n",
      "   macro avg       0.14      0.23      0.15       251\n",
      "weighted avg       0.19      0.29      0.19       251\n",
      "\n"
     ]
    }
   ],
   "source": [
    "print(classification_report(y_test, y_pred))"
   ]
  },
  {
   "cell_type": "markdown",
   "metadata": {},
   "source": [
    "#### KNN - U_COLUMNS | Sin escalado | Con outliers"
   ]
  },
  {
   "cell_type": "code",
   "execution_count": 36,
   "metadata": {},
   "outputs": [],
   "source": [
    "knn = KNeighborsClassifier(weights='distance')"
   ]
  },
  {
   "cell_type": "code",
   "execution_count": 37,
   "metadata": {},
   "outputs": [],
   "source": [
    "X_train = dataframe_train.select_dtypes(float)[U_COLUMNS].values\n",
    "y_train = dataframe_train['tag_28'].values\n",
    "\n",
    "X_test = dataframe_test.select_dtypes(float)[U_COLUMNS].values\n",
    "y_test = dataframe_test['tag_28'].values"
   ]
  },
  {
   "cell_type": "code",
   "execution_count": 38,
   "metadata": {},
   "outputs": [],
   "source": [
    "knn.fit(X_train, y_train);"
   ]
  },
  {
   "cell_type": "code",
   "execution_count": 39,
   "metadata": {},
   "outputs": [],
   "source": [
    "y_pred = knn.predict(X_test)"
   ]
  },
  {
   "cell_type": "code",
   "execution_count": 40,
   "metadata": {},
   "outputs": [
    {
     "name": "stdout",
     "output_type": "stream",
     "text": [
      "              precision    recall  f1-score   support\n",
      "\n",
      "        bear       0.00      0.00      0.00        18\n",
      "        bull       0.00      0.00      0.00        98\n",
      "        keep       0.00      0.00      0.00        39\n",
      "outlier bear       0.00      0.00      0.00         1\n",
      "outlier bull       0.00      0.00      0.00         2\n",
      " strong bear       0.78      0.59      0.67        49\n",
      " strong bull       0.21      1.00      0.34        44\n",
      "\n",
      "    accuracy                           0.29       251\n",
      "   macro avg       0.14      0.23      0.15       251\n",
      "weighted avg       0.19      0.29      0.19       251\n",
      "\n"
     ]
    }
   ],
   "source": [
    "print(classification_report(y_test, y_pred))"
   ]
  },
  {
   "cell_type": "markdown",
   "metadata": {},
   "source": [
    "#### KNN - U_COLUMNS | UDF | Con outliers"
   ]
  },
  {
   "cell_type": "code",
   "execution_count": 41,
   "metadata": {},
   "outputs": [
    {
     "name": "stdout",
     "output_type": "stream",
     "text": [
      "              precision    recall  f1-score   support\n",
      "\n",
      "        bear       0.10      0.11      0.11        18\n",
      "        bull       0.38      0.26      0.30        98\n",
      "        keep       0.11      0.05      0.07        39\n",
      "outlier bear       0.00      0.00      0.00         1\n",
      "outlier bull       0.00      0.00      0.00         2\n",
      " strong bear       0.21      0.14      0.17        49\n",
      " strong bull       0.26      0.25      0.26        44\n",
      "\n",
      "    accuracy                           0.19       251\n",
      "   macro avg       0.15      0.12      0.13       251\n",
      "weighted avg       0.26      0.19      0.22       251\n",
      "\n"
     ]
    }
   ],
   "source": [
    "knn = KNeighborsClassifier(weights='distance')\n",
    "\n",
    "df_aux = dataframe_train.reset_index()\n",
    "cols = ['symbol', 'date']\n",
    "cols.extend(U_COLUMNS)\n",
    "df_aux = df_aux[cols]\n",
    "X_train = ud_robust_scaler(df_aux.values, df_aux.columns, relativedelta(months=4))\n",
    "y_train = dataframe_train['tag_28'].values\n",
    "\n",
    "df_aux = dataframe_test.reset_index()\n",
    "cols = ['symbol', 'date']\n",
    "cols.extend(U_COLUMNS)\n",
    "df_aux = df_aux[cols]\n",
    "X_test = ud_robust_scaler(df_aux.values, df_aux.columns, relativedelta(months=4))\n",
    "y_test = dataframe_test['tag_28'].values\n",
    "\n",
    "knn.fit(X_train, y_train)\n",
    "\n",
    "y_pred = knn.predict(X_test)\n",
    "\n",
    "print(classification_report(y_test, y_pred))"
   ]
  },
  {
   "cell_type": "markdown",
   "metadata": {},
   "source": [
    "#### KNN - Todos los datos | Sin escalado | Sin outliers"
   ]
  },
  {
   "cell_type": "code",
   "execution_count": 42,
   "metadata": {},
   "outputs": [],
   "source": [
    "knn = KNeighborsClassifier(weights='distance')"
   ]
  },
  {
   "cell_type": "code",
   "execution_count": 43,
   "metadata": {},
   "outputs": [],
   "source": [
    "X_train = dataframe_train.select_dtypes(float).values\n",
    "y_train = dataframe_train['tag_28'].values\n",
    "y_train = np.where(y_train == 'outlier bear', 'strong bear', y_train)\n",
    "y_train = np.where(y_train == 'outlier bull', 'strong bull', y_train)\n",
    "\n",
    "X_test = dataframe_test.select_dtypes(float).values\n",
    "y_test = dataframe_test['tag_28'].values\n",
    "y_test = np.where(y_test == 'outlier bear', 'strong bear', y_test)\n",
    "y_test = np.where(y_test == 'outlier bull', 'strong bull', y_test)"
   ]
  },
  {
   "cell_type": "code",
   "execution_count": 44,
   "metadata": {},
   "outputs": [],
   "source": [
    "# X_train = dataframe_train[~dataframe_train['tag_28'].isin(['outlier bear', 'outlier bull'])] \\\n",
    "#             .select_dtypes(float).values\n",
    "# y_train = dataframe_train[~dataframe_train['tag_28'].isin(['outlier bear', 'outlier bull'])]['tag_28'].values\n",
    "\n",
    "# X_test = dataframe_test.select_dtypes(float).values\n",
    "# y_test = dataframe_test['tag_28'].values\n",
    "# y_test = np.where(y_test == 'outlier bear', 'strong bear', y_test)\n",
    "# y_test = np.where(y_test == 'outlier bull', 'strong bull', y_test)"
   ]
  },
  {
   "cell_type": "code",
   "execution_count": 45,
   "metadata": {},
   "outputs": [],
   "source": [
    "knn.fit(X_train, y_train);"
   ]
  },
  {
   "cell_type": "code",
   "execution_count": 46,
   "metadata": {},
   "outputs": [],
   "source": [
    "y_pred = knn.predict(X_test)"
   ]
  },
  {
   "cell_type": "code",
   "execution_count": 47,
   "metadata": {},
   "outputs": [
    {
     "name": "stdout",
     "output_type": "stream",
     "text": [
      "              precision    recall  f1-score   support\n",
      "\n",
      "        bear       0.00      0.00      0.00        18\n",
      "        bull       0.00      0.00      0.00        98\n",
      "        keep       0.00      0.00      0.00        39\n",
      " strong bear       0.78      0.58      0.67        50\n",
      " strong bull       0.21      1.00      0.35        46\n",
      "\n",
      "    accuracy                           0.30       251\n",
      "   macro avg       0.20      0.32      0.20       251\n",
      "weighted avg       0.20      0.30      0.20       251\n",
      "\n"
     ]
    }
   ],
   "source": [
    "print(classification_report(y_test, y_pred))"
   ]
  },
  {
   "cell_type": "markdown",
   "metadata": {},
   "source": [
    "#### KNN - COLS_WO_FIN | Sin escalado | Sin outliers"
   ]
  },
  {
   "cell_type": "code",
   "execution_count": 55,
   "metadata": {},
   "outputs": [],
   "source": [
    "knn = KNeighborsClassifier(weights='distance')"
   ]
  },
  {
   "cell_type": "code",
   "execution_count": 56,
   "metadata": {},
   "outputs": [],
   "source": [
    "X_train = dataframe_train.select_dtypes(float)[COLS_WO_FIN].values\n",
    "y_train = dataframe_train['tag_28'].values\n",
    "y_train = np.where(y_train == 'outlier bear', 'strong bear', y_train)\n",
    "y_train = np.where(y_train == 'outlier bull', 'strong bull', y_train)\n",
    "\n",
    "X_test = dataframe_test.select_dtypes(float)[COLS_WO_FIN].values\n",
    "y_test = dataframe_test['tag_28'].values\n",
    "y_test = np.where(y_test == 'outlier bear', 'strong bear', y_test)\n",
    "y_test = np.where(y_test == 'outlier bull', 'strong bull', y_test)"
   ]
  },
  {
   "cell_type": "code",
   "execution_count": 57,
   "metadata": {},
   "outputs": [],
   "source": [
    "# X_train = dataframe_train[~dataframe_train['tag_28'].isin(['outlier bear', 'outlier bull'])] \\\n",
    "#             .select_dtypes(float)[COLS_WO_FIN].values\n",
    "# y_train = dataframe_train[~dataframe_train['tag_28'].isin(['outlier bear', 'outlier bull'])]['tag_28'].values\n",
    "\n",
    "# X_test = dataframe_test.select_dtypes(float)[COLS_WO_FIN].values\n",
    "# y_test = dataframe_test['tag_28'].values\n",
    "# y_test = np.where(y_test == 'outlier bear', 'strong bear', y_test)\n",
    "# y_test = np.where(y_test == 'outlier bull', 'strong bull', y_test)"
   ]
  },
  {
   "cell_type": "code",
   "execution_count": 58,
   "metadata": {},
   "outputs": [],
   "source": [
    "knn.fit(X_train, y_train);"
   ]
  },
  {
   "cell_type": "code",
   "execution_count": 59,
   "metadata": {},
   "outputs": [],
   "source": [
    "y_pred = knn.predict(X_test)"
   ]
  },
  {
   "cell_type": "code",
   "execution_count": 60,
   "metadata": {},
   "outputs": [
    {
     "name": "stdout",
     "output_type": "stream",
     "text": [
      "              precision    recall  f1-score   support\n",
      "\n",
      "        bear       0.00      0.00      0.00        18\n",
      "        bull       0.00      0.00      0.00        98\n",
      "        keep       0.00      0.00      0.00        39\n",
      " strong bear       0.78      0.58      0.67        50\n",
      " strong bull       0.21      1.00      0.35        46\n",
      "\n",
      "    accuracy                           0.30       251\n",
      "   macro avg       0.20      0.32      0.20       251\n",
      "weighted avg       0.20      0.30      0.20       251\n",
      "\n"
     ]
    }
   ],
   "source": [
    "print(classification_report(y_test, y_pred))"
   ]
  },
  {
   "cell_type": "markdown",
   "metadata": {},
   "source": [
    "#### KNN - U_COLUMNS | Sin escalado | Sin outliers"
   ]
  },
  {
   "cell_type": "code",
   "execution_count": 61,
   "metadata": {},
   "outputs": [],
   "source": [
    "knn = KNeighborsClassifier(weights='distance')\n",
    "\n",
    "X_train = dataframe_train.select_dtypes(float)[U_COLUMNS].values\n",
    "y_train = dataframe_train['tag_28'].values\n",
    "y_train = np.where(y_train == 'outlier bear', 'strong bear', y_train)\n",
    "y_train = np.where(y_train == 'outlier bull', 'strong bull', y_train)\n",
    "\n",
    "X_test = dataframe_test.select_dtypes(float)[U_COLUMNS].values\n",
    "y_test = dataframe_test['tag_28'].values\n",
    "y_test = np.where(y_test == 'outlier bear', 'strong bear', y_test)\n",
    "y_test = np.where(y_test == 'outlier bull', 'strong bull', y_test)"
   ]
  },
  {
   "cell_type": "code",
   "execution_count": 62,
   "metadata": {},
   "outputs": [],
   "source": [
    "knn.fit(X_train, y_train);"
   ]
  },
  {
   "cell_type": "code",
   "execution_count": 63,
   "metadata": {},
   "outputs": [],
   "source": [
    "y_pred = knn.predict(X_test)"
   ]
  },
  {
   "cell_type": "code",
   "execution_count": 64,
   "metadata": {},
   "outputs": [
    {
     "name": "stdout",
     "output_type": "stream",
     "text": [
      "              precision    recall  f1-score   support\n",
      "\n",
      "        bear       0.00      0.00      0.00        18\n",
      "        bull       0.00      0.00      0.00        98\n",
      "        keep       0.00      0.00      0.00        39\n",
      " strong bear       0.78      0.58      0.67        50\n",
      " strong bull       0.21      1.00      0.35        46\n",
      "\n",
      "    accuracy                           0.30       251\n",
      "   macro avg       0.20      0.32      0.20       251\n",
      "weighted avg       0.20      0.30      0.20       251\n",
      "\n"
     ]
    }
   ],
   "source": [
    "print(classification_report(y_test, y_pred))"
   ]
  },
  {
   "cell_type": "code",
   "execution_count": 65,
   "metadata": {},
   "outputs": [],
   "source": [
    "knn = KNeighborsClassifier(weights='distance')\n",
    "\n",
    "X_train = dataframe_train[~dataframe_train['tag_28'].isin(['outlier bear', 'outlier bull'])] \\\n",
    "            .select_dtypes(float)[U_COLUMNS].values\n",
    "y_train = dataframe_train[~dataframe_train['tag_28'].isin(['outlier bear', 'outlier bull'])]['tag_28'].values\n",
    "\n",
    "X_test = dataframe_test.select_dtypes(float)[U_COLUMNS].values\n",
    "y_test = dataframe_test['tag_28'].values\n",
    "y_test = np.where(y_test == 'outlier bear', 'strong bear', y_test)\n",
    "y_test = np.where(y_test == 'outlier bull', 'strong bull', y_test)"
   ]
  },
  {
   "cell_type": "code",
   "execution_count": 66,
   "metadata": {},
   "outputs": [],
   "source": [
    "knn.fit(X_train, y_train);"
   ]
  },
  {
   "cell_type": "code",
   "execution_count": 67,
   "metadata": {},
   "outputs": [],
   "source": [
    "y_pred = knn.predict(X_test)"
   ]
  },
  {
   "cell_type": "code",
   "execution_count": 68,
   "metadata": {},
   "outputs": [
    {
     "name": "stdout",
     "output_type": "stream",
     "text": [
      "              precision    recall  f1-score   support\n",
      "\n",
      "        bear       0.00      0.00      0.00        18\n",
      "        bull       0.00      0.00      0.00        98\n",
      "        keep       0.00      0.00      0.00        39\n",
      " strong bear       0.78      0.58      0.67        50\n",
      " strong bull       0.21      1.00      0.35        46\n",
      "\n",
      "    accuracy                           0.30       251\n",
      "   macro avg       0.20      0.32      0.20       251\n",
      "weighted avg       0.20      0.30      0.20       251\n",
      "\n"
     ]
    }
   ],
   "source": [
    "print(classification_report(y_test, y_pred))"
   ]
  },
  {
   "cell_type": "markdown",
   "metadata": {},
   "source": [
    "#### KNN - U_COLUMNS | Robust Scaler | Con outliers"
   ]
  },
  {
   "cell_type": "code",
   "execution_count": 69,
   "metadata": {},
   "outputs": [],
   "source": [
    "knn = KNeighborsClassifier(weights='distance')\n",
    "scl = RobustScaler()"
   ]
  },
  {
   "cell_type": "code",
   "execution_count": 70,
   "metadata": {},
   "outputs": [],
   "source": [
    "X_train = dataframe_train.select_dtypes(float)[U_COLUMNS].values\n",
    "X_scl_train = scl.fit_transform(X_train)\n",
    "y_train = dataframe_train['tag_28'].values\n",
    "\n",
    "X_test = dataframe_test.select_dtypes(float)[U_COLUMNS].values\n",
    "X_scl_test = scl.transform(X_test)\n",
    "y_test = dataframe_test['tag_28'].values"
   ]
  },
  {
   "cell_type": "code",
   "execution_count": 71,
   "metadata": {},
   "outputs": [],
   "source": [
    "knn.fit(X_scl_train, y_train);"
   ]
  },
  {
   "cell_type": "code",
   "execution_count": 72,
   "metadata": {},
   "outputs": [],
   "source": [
    "y_pred = knn.predict(X_scl_test)"
   ]
  },
  {
   "cell_type": "code",
   "execution_count": 73,
   "metadata": {},
   "outputs": [
    {
     "name": "stdout",
     "output_type": "stream",
     "text": [
      "              precision    recall  f1-score   support\n",
      "\n",
      "        bear       0.00      0.00      0.00        18\n",
      "        bull       0.40      0.62      0.49        98\n",
      "        keep       0.00      0.00      0.00        39\n",
      "outlier bear       0.00      0.00      0.00         1\n",
      "outlier bull       0.00      0.00      0.00         2\n",
      " strong bear       0.00      0.00      0.00        49\n",
      " strong bull       0.18      0.32      0.23        44\n",
      "\n",
      "    accuracy                           0.30       251\n",
      "   macro avg       0.08      0.13      0.10       251\n",
      "weighted avg       0.19      0.30      0.23       251\n",
      "\n"
     ]
    }
   ],
   "source": [
    "print(classification_report(y_test, y_pred))"
   ]
  },
  {
   "cell_type": "markdown",
   "metadata": {},
   "source": [
    "#### KNN - U_COLUMNS | Robust Scaler | Sin outliers"
   ]
  },
  {
   "cell_type": "code",
   "execution_count": 74,
   "metadata": {},
   "outputs": [],
   "source": [
    "knn = KNeighborsClassifier(weights='distance')\n",
    "scl = RobustScaler()\n",
    "\n",
    "X_train = dataframe_train.select_dtypes(float)[U_COLUMNS].values\n",
    "y_train = dataframe_train['tag_28'].values\n",
    "y_train = np.where(y_train == 'outlier bear', 'strong bear', y_train)\n",
    "y_train = np.where(y_train == 'outlier bull', 'strong bull', y_train)\n",
    "X_scl_train = scl.fit_transform(X_train)\n",
    "\n",
    "X_test = dataframe_test.select_dtypes(float)[U_COLUMNS].values\n",
    "y_test = dataframe_test['tag_28'].values\n",
    "y_test = np.where(y_test == 'outlier bear', 'strong bear', y_test)\n",
    "y_test = np.where(y_test == 'outlier bull', 'strong bull', y_test)\n",
    "X_scl_test = scl.transform(X_test)"
   ]
  },
  {
   "cell_type": "code",
   "execution_count": 75,
   "metadata": {},
   "outputs": [],
   "source": [
    "knn.fit(X_scl_train, y_train);"
   ]
  },
  {
   "cell_type": "code",
   "execution_count": 76,
   "metadata": {},
   "outputs": [],
   "source": [
    "y_pred = knn.predict(X_scl_test)"
   ]
  },
  {
   "cell_type": "code",
   "execution_count": 77,
   "metadata": {},
   "outputs": [
    {
     "name": "stdout",
     "output_type": "stream",
     "text": [
      "              precision    recall  f1-score   support\n",
      "\n",
      "        bear       0.00      0.00      0.00        18\n",
      "        bull       0.40      0.62      0.49        98\n",
      "        keep       0.00      0.00      0.00        39\n",
      " strong bear       0.00      0.00      0.00        50\n",
      " strong bull       0.21      0.35      0.26        46\n",
      "\n",
      "    accuracy                           0.31       251\n",
      "   macro avg       0.12      0.19      0.15       251\n",
      "weighted avg       0.20      0.31      0.24       251\n",
      "\n"
     ]
    }
   ],
   "source": [
    "print(classification_report(y_test, y_pred))"
   ]
  },
  {
   "cell_type": "code",
   "execution_count": 78,
   "metadata": {},
   "outputs": [],
   "source": [
    "knn = KNeighborsClassifier(weights='distance')\n",
    "scl = RobustScaler()\n",
    "\n",
    "X_train = dataframe_train[~dataframe_train['tag_28'].isin(['outlier bear', 'outlier bull'])] \\\n",
    "            .select_dtypes(float)[U_COLUMNS].values\n",
    "y_train = dataframe_train[~dataframe_train['tag_28'].isin(['outlier bear', 'outlier bull'])]['tag_28'].values\n",
    "X_scl_train = scl.fit_transform(X_train)\n",
    "X_test = dataframe_test.select_dtypes(float)[U_COLUMNS].values\n",
    "y_test = dataframe_test['tag_28'].values\n",
    "y_test = np.where(y_test == 'outlier bear', 'strong bear', y_test)\n",
    "y_test = np.where(y_test == 'outlier bull', 'strong bull', y_test)\n",
    "X_scl_test = scl.transform(X_test)"
   ]
  },
  {
   "cell_type": "code",
   "execution_count": 79,
   "metadata": {},
   "outputs": [],
   "source": [
    "knn.fit(X_scl_train, y_train);"
   ]
  },
  {
   "cell_type": "code",
   "execution_count": 80,
   "metadata": {},
   "outputs": [],
   "source": [
    "y_pred = knn.predict(X_scl_test)"
   ]
  },
  {
   "cell_type": "code",
   "execution_count": 81,
   "metadata": {},
   "outputs": [
    {
     "name": "stdout",
     "output_type": "stream",
     "text": [
      "              precision    recall  f1-score   support\n",
      "\n",
      "        bear       0.00      0.00      0.00        18\n",
      "        bull       0.40      0.62      0.49        98\n",
      "        keep       0.00      0.00      0.00        39\n",
      " strong bear       0.00      0.00      0.00        50\n",
      " strong bull       0.22      0.35      0.27        46\n",
      "\n",
      "    accuracy                           0.31       251\n",
      "   macro avg       0.12      0.19      0.15       251\n",
      "weighted avg       0.20      0.31      0.24       251\n",
      "\n"
     ]
    }
   ],
   "source": [
    "print(classification_report(y_test, y_pred))"
   ]
  },
  {
   "cell_type": "markdown",
   "metadata": {},
   "source": [
    "### Random Forest"
   ]
  },
  {
   "cell_type": "code",
   "execution_count": 82,
   "metadata": {},
   "outputs": [],
   "source": [
    "dataframe_reset = dataframe.reset_index()\n",
    "dataframe_train = dataframe_reset[dataframe_reset['date'].dt.year <= 2017].set_index(['symbol', 'date'])\n",
    "dataframe_test = dataframe_reset[(dataframe_reset['date'].dt.year > 2017)\n",
    "                                 & (dataframe_reset['date'].dt.year < 2019)].set_index(['symbol', 'date'])"
   ]
  },
  {
   "cell_type": "markdown",
   "metadata": {},
   "source": [
    "#### Random Forest - Todos los datos | Sin escalado | Con outliers"
   ]
  },
  {
   "cell_type": "code",
   "execution_count": 83,
   "metadata": {},
   "outputs": [],
   "source": [
    "clf = RandomForestClassifier(criterion='entropy')"
   ]
  },
  {
   "cell_type": "code",
   "execution_count": 84,
   "metadata": {},
   "outputs": [],
   "source": [
    "X_train = dataframe_train.select_dtypes(float).values\n",
    "y_train = dataframe_train['tag_28'].values\n",
    "\n",
    "X_test = dataframe_test.select_dtypes(float).values\n",
    "y_test = dataframe_test['tag_28'].values"
   ]
  },
  {
   "cell_type": "code",
   "execution_count": 85,
   "metadata": {},
   "outputs": [],
   "source": [
    "clf.fit(X_train, y_train);"
   ]
  },
  {
   "cell_type": "code",
   "execution_count": 86,
   "metadata": {},
   "outputs": [],
   "source": [
    "y_pred = clf.predict(X_test)"
   ]
  },
  {
   "cell_type": "code",
   "execution_count": 87,
   "metadata": {},
   "outputs": [
    {
     "name": "stdout",
     "output_type": "stream",
     "text": [
      "              precision    recall  f1-score   support\n",
      "\n",
      "        bear       0.32      0.44      0.37        18\n",
      "        bull       0.64      0.81      0.71        98\n",
      "        keep       0.88      0.18      0.30        39\n",
      "outlier bear       0.00      0.00      0.00         1\n",
      "outlier bull       0.00      0.00      0.00         2\n",
      " strong bear       0.74      0.82      0.78        49\n",
      " strong bull       0.46      0.43      0.45        44\n",
      "\n",
      "    accuracy                           0.61       251\n",
      "   macro avg       0.43      0.38      0.37       251\n",
      "weighted avg       0.64      0.61      0.58       251\n",
      "\n"
     ]
    }
   ],
   "source": [
    "print(classification_report(y_test, y_pred))"
   ]
  },
  {
   "cell_type": "markdown",
   "metadata": {},
   "source": [
    "#### Random Forest - COLS_WO_FIN | Sin escalado | Con outliers"
   ]
  },
  {
   "cell_type": "code",
   "execution_count": 88,
   "metadata": {},
   "outputs": [],
   "source": [
    "clf = RandomForestClassifier(criterion='entropy')"
   ]
  },
  {
   "cell_type": "code",
   "execution_count": 89,
   "metadata": {},
   "outputs": [],
   "source": [
    "X_train = dataframe_train.select_dtypes(float)[COLS_WO_FIN].values\n",
    "y_train = dataframe_train['tag_28'].values\n",
    "\n",
    "X_test = dataframe_test.select_dtypes(float)[COLS_WO_FIN].values\n",
    "y_test = dataframe_test['tag_28'].values"
   ]
  },
  {
   "cell_type": "code",
   "execution_count": 90,
   "metadata": {},
   "outputs": [],
   "source": [
    "clf.fit(X_train, y_train);"
   ]
  },
  {
   "cell_type": "code",
   "execution_count": 91,
   "metadata": {},
   "outputs": [],
   "source": [
    "y_pred = clf.predict(X_test)"
   ]
  },
  {
   "cell_type": "code",
   "execution_count": 92,
   "metadata": {},
   "outputs": [
    {
     "name": "stdout",
     "output_type": "stream",
     "text": [
      "              precision    recall  f1-score   support\n",
      "\n",
      "        bear       0.00      0.00      0.00        18\n",
      "        bull       0.31      0.52      0.39        98\n",
      "        keep       0.00      0.00      0.00        39\n",
      "outlier bear       0.00      0.00      0.00         1\n",
      "outlier bull       0.00      0.00      0.00         2\n",
      " strong bear       0.08      0.02      0.03        49\n",
      " strong bull       0.25      0.32      0.28        44\n",
      "\n",
      "    accuracy                           0.26       251\n",
      "   macro avg       0.09      0.12      0.10       251\n",
      "weighted avg       0.18      0.26      0.21       251\n",
      "\n"
     ]
    }
   ],
   "source": [
    "print(classification_report(y_test, y_pred))"
   ]
  },
  {
   "cell_type": "markdown",
   "metadata": {},
   "source": [
    "#### Random Forest - U_COLUMNS | Sin escalado | Con outliers"
   ]
  },
  {
   "cell_type": "code",
   "execution_count": 161,
   "metadata": {},
   "outputs": [],
   "source": [
    "clf = RandomForestClassifier(criterion='entropy')"
   ]
  },
  {
   "cell_type": "code",
   "execution_count": 162,
   "metadata": {},
   "outputs": [],
   "source": [
    "X_train = dataframe_train.select_dtypes(float)[U_COLUMNS].values\n",
    "y_train = dataframe_train['tag_28'].values\n",
    "\n",
    "X_test = dataframe_test.select_dtypes(float)[U_COLUMNS].values\n",
    "y_test = dataframe_test['tag_28'].values"
   ]
  },
  {
   "cell_type": "code",
   "execution_count": 163,
   "metadata": {},
   "outputs": [],
   "source": [
    "clf.fit(X_train, y_train);"
   ]
  },
  {
   "cell_type": "code",
   "execution_count": 164,
   "metadata": {},
   "outputs": [],
   "source": [
    "y_pred = clf.predict(X_test)"
   ]
  },
  {
   "cell_type": "code",
   "execution_count": 165,
   "metadata": {},
   "outputs": [
    {
     "name": "stdout",
     "output_type": "stream",
     "text": [
      "              precision    recall  f1-score   support\n",
      "\n",
      "        bear       0.00      0.00      0.00        18\n",
      "        bull       0.37      0.58      0.45        98\n",
      "        keep       0.20      0.03      0.05        39\n",
      "outlier bear       0.00      0.00      0.00         1\n",
      "outlier bull       0.00      0.00      0.00         2\n",
      " strong bear       0.31      0.10      0.15        49\n",
      " strong bull       0.35      0.45      0.40        44\n",
      "\n",
      "    accuracy                           0.33       251\n",
      "   macro avg       0.18      0.17      0.15       251\n",
      "weighted avg       0.30      0.33      0.28       251\n",
      "\n"
     ]
    }
   ],
   "source": [
    "print(classification_report(y_test, y_pred))"
   ]
  },
  {
   "cell_type": "markdown",
   "metadata": {},
   "source": [
    "#### Random Forest - Todos los datos | Sin escalado | Sin outliers"
   ]
  },
  {
   "cell_type": "code",
   "execution_count": 98,
   "metadata": {},
   "outputs": [],
   "source": [
    "clf = RandomForestClassifier(criterion='entropy')"
   ]
  },
  {
   "cell_type": "code",
   "execution_count": 99,
   "metadata": {},
   "outputs": [],
   "source": [
    "X_train = dataframe_train.select_dtypes(float).values\n",
    "y_train = dataframe_train['tag_28'].values\n",
    "y_train = np.where(y_train == 'outlier bear', 'strong bear', y_train)\n",
    "y_train = np.where(y_train == 'outlier bull', 'strong bull', y_train)\n",
    "\n",
    "X_test = dataframe_test.select_dtypes(float).values\n",
    "y_test = dataframe_test['tag_28'].values\n",
    "y_test = np.where(y_test == 'outlier bear', 'strong bear', y_test)\n",
    "y_test = np.where(y_test == 'outlier bull', 'strong bull', y_test)"
   ]
  },
  {
   "cell_type": "code",
   "execution_count": 100,
   "metadata": {},
   "outputs": [],
   "source": [
    "X_train = dataframe_train[~dataframe_train['tag_28'].isin(['outlier bear', 'outlier bull'])] \\\n",
    "            .select_dtypes(float).values\n",
    "y_train = dataframe_train[~dataframe_train['tag_28'].isin(['outlier bear', 'outlier bull'])]['tag_28'].values\n",
    "\n",
    "X_test = dataframe_test.select_dtypes(float).values\n",
    "y_test = dataframe_test['tag_28'].values\n",
    "y_test = np.where(y_test == 'outlier bear', 'strong bear', y_test)\n",
    "y_test = np.where(y_test == 'outlier bull', 'strong bull', y_test)"
   ]
  },
  {
   "cell_type": "code",
   "execution_count": 101,
   "metadata": {},
   "outputs": [],
   "source": [
    "clf.fit(X_train, y_train);"
   ]
  },
  {
   "cell_type": "code",
   "execution_count": 102,
   "metadata": {},
   "outputs": [],
   "source": [
    "y_pred = clf.predict(X_test)"
   ]
  },
  {
   "cell_type": "code",
   "execution_count": 103,
   "metadata": {},
   "outputs": [
    {
     "name": "stdout",
     "output_type": "stream",
     "text": [
      "              precision    recall  f1-score   support\n",
      "\n",
      "        bear       0.35      0.50      0.41        18\n",
      "        bull       0.66      0.66      0.66        98\n",
      "        keep       1.00      0.23      0.38        39\n",
      " strong bear       0.76      0.82      0.79        50\n",
      " strong bull       0.47      0.65      0.55        46\n",
      "\n",
      "    accuracy                           0.61       251\n",
      "   macro avg       0.65      0.57      0.56       251\n",
      "weighted avg       0.68      0.61      0.60       251\n",
      "\n"
     ]
    }
   ],
   "source": [
    "print(classification_report(y_test, y_pred))"
   ]
  },
  {
   "cell_type": "markdown",
   "metadata": {},
   "source": [
    "#### Random Forest - COLS_WO_FIN | Sin escalado | Sin outliers"
   ]
  },
  {
   "cell_type": "code",
   "execution_count": 166,
   "metadata": {},
   "outputs": [],
   "source": [
    "clf = RandomForestClassifier(criterion='entropy')"
   ]
  },
  {
   "cell_type": "code",
   "execution_count": 167,
   "metadata": {},
   "outputs": [],
   "source": [
    "X_train = dataframe_train.select_dtypes(float)[COLS_WO_FIN].values\n",
    "y_train = dataframe_train['tag_28'].values\n",
    "y_train = np.where(y_train == 'outlier bear', 'strong bear', y_train)\n",
    "y_train = np.where(y_train == 'outlier bull', 'strong bull', y_train)\n",
    "\n",
    "X_test = dataframe_test.select_dtypes(float)[COLS_WO_FIN].values\n",
    "y_test = dataframe_test['tag_28'].values\n",
    "y_test = np.where(y_test == 'outlier bear', 'strong bear', y_test)\n",
    "y_test = np.where(y_test == 'outlier bull', 'strong bull', y_test)"
   ]
  },
  {
   "cell_type": "code",
   "execution_count": 168,
   "metadata": {},
   "outputs": [],
   "source": [
    "# X_train = dataframe_train[~dataframe_train['tag_28'].isin(['outlier bear', 'outlier bull'])] \\\n",
    "#             .select_dtypes(float)[COLS_WO_FIN].values\n",
    "# y_train = dataframe_train[~dataframe_train['tag_28'].isin(['outlier bear', 'outlier bull'])]['tag_28'].values\n",
    "\n",
    "# X_test = dataframe_test.select_dtypes(float)[COLS_WO_FIN].values\n",
    "# y_test = dataframe_test['tag_28'].values\n",
    "# y_test = np.where(y_test == 'outlier bear', 'strong bear', y_test)\n",
    "# y_test = np.where(y_test == 'outlier bull', 'strong bull', y_test)"
   ]
  },
  {
   "cell_type": "code",
   "execution_count": 169,
   "metadata": {},
   "outputs": [],
   "source": [
    "clf.fit(X_train, y_train);"
   ]
  },
  {
   "cell_type": "code",
   "execution_count": 170,
   "metadata": {},
   "outputs": [],
   "source": [
    "y_pred = clf.predict(X_test)"
   ]
  },
  {
   "cell_type": "code",
   "execution_count": 171,
   "metadata": {},
   "outputs": [
    {
     "name": "stdout",
     "output_type": "stream",
     "text": [
      "              precision    recall  f1-score   support\n",
      "\n",
      "        bear       0.00      0.00      0.00        18\n",
      "        bull       0.32      0.51      0.40        98\n",
      "        keep       0.00      0.00      0.00        39\n",
      " strong bear       0.00      0.00      0.00        50\n",
      " strong bull       0.31      0.43      0.36        46\n",
      "\n",
      "    accuracy                           0.28       251\n",
      "   macro avg       0.13      0.19      0.15       251\n",
      "weighted avg       0.18      0.28      0.22       251\n",
      "\n"
     ]
    }
   ],
   "source": [
    "print(classification_report(y_test, y_pred))"
   ]
  },
  {
   "cell_type": "markdown",
   "metadata": {},
   "source": [
    "#### Random Forest - U_COLUMNS | Sin escalado | Sin outliers"
   ]
  },
  {
   "cell_type": "code",
   "execution_count": 180,
   "metadata": {},
   "outputs": [],
   "source": [
    "clf = RandomForestClassifier(criterion='entropy')\n",
    "\n",
    "X_train = dataframe_train.select_dtypes(float)[U_COLUMNS].values\n",
    "y_train = dataframe_train['tag_28'].values\n",
    "y_train = np.where(y_train == 'outlier bear', 'strong bear', y_train)\n",
    "y_train = np.where(y_train == 'outlier bull', 'strong bull', y_train)\n",
    "\n",
    "X_test = dataframe_test.select_dtypes(float)[U_COLUMNS].values\n",
    "y_test = dataframe_test['tag_28'].values\n",
    "y_test = np.where(y_test == 'outlier bear', 'strong bear', y_test)\n",
    "y_test = np.where(y_test == 'outlier bull', 'strong bull', y_test)"
   ]
  },
  {
   "cell_type": "code",
   "execution_count": 181,
   "metadata": {},
   "outputs": [],
   "source": [
    "clf.fit(X_train, y_train);"
   ]
  },
  {
   "cell_type": "code",
   "execution_count": 182,
   "metadata": {},
   "outputs": [],
   "source": [
    "y_pred = clf.predict(X_test)"
   ]
  },
  {
   "cell_type": "code",
   "execution_count": 183,
   "metadata": {},
   "outputs": [
    {
     "name": "stdout",
     "output_type": "stream",
     "text": [
      "              precision    recall  f1-score   support\n",
      "\n",
      "        bear       0.00      0.00      0.00        18\n",
      "        bull       0.37      0.71      0.49        98\n",
      "        keep       0.00      0.00      0.00        39\n",
      " strong bear       0.33      0.06      0.10        50\n",
      " strong bull       0.42      0.28      0.34        46\n",
      "\n",
      "    accuracy                           0.34       251\n",
      "   macro avg       0.23      0.21      0.19       251\n",
      "weighted avg       0.29      0.34      0.27       251\n",
      "\n"
     ]
    }
   ],
   "source": [
    "print(classification_report(y_test, y_pred))"
   ]
  },
  {
   "cell_type": "code",
   "execution_count": 184,
   "metadata": {},
   "outputs": [],
   "source": [
    "clf = RandomForestClassifier(criterion='entropy')\n",
    "\n",
    "X_train = dataframe_train[~dataframe_train['tag_28'].isin(['outlier bear', 'outlier bull'])] \\\n",
    "            .select_dtypes(float)[U_COLUMNS].values\n",
    "y_train = dataframe_train[~dataframe_train['tag_28'].isin(['outlier bear', 'outlier bull'])]['tag_28'].values\n",
    "\n",
    "X_test = dataframe_test.select_dtypes(float)[U_COLUMNS].values\n",
    "y_test = dataframe_test['tag_28'].values\n",
    "y_test = np.where(y_test == 'outlier bear', 'strong bear', y_test)\n",
    "y_test = np.where(y_test == 'outlier bull', 'strong bull', y_test)"
   ]
  },
  {
   "cell_type": "code",
   "execution_count": 185,
   "metadata": {},
   "outputs": [],
   "source": [
    "clf.fit(X_train, y_train);"
   ]
  },
  {
   "cell_type": "code",
   "execution_count": 186,
   "metadata": {},
   "outputs": [],
   "source": [
    "y_pred = clf.predict(X_test)"
   ]
  },
  {
   "cell_type": "code",
   "execution_count": 187,
   "metadata": {},
   "outputs": [
    {
     "name": "stdout",
     "output_type": "stream",
     "text": [
      "              precision    recall  f1-score   support\n",
      "\n",
      "        bear       0.00      0.00      0.00        18\n",
      "        bull       0.34      0.57      0.43        98\n",
      "        keep       1.00      0.03      0.05        39\n",
      " strong bear       0.18      0.12      0.14        50\n",
      " strong bull       0.50      0.43      0.47        46\n",
      "\n",
      "    accuracy                           0.33       251\n",
      "   macro avg       0.40      0.23      0.22       251\n",
      "weighted avg       0.42      0.33      0.29       251\n",
      "\n"
     ]
    }
   ],
   "source": [
    "print(classification_report(y_test, y_pred))"
   ]
  },
  {
   "cell_type": "markdown",
   "metadata": {},
   "source": [
    "#### Random Forest - U_COLUMNS | Robust Scaler | Con outliers"
   ]
  },
  {
   "cell_type": "code",
   "execution_count": 188,
   "metadata": {},
   "outputs": [],
   "source": [
    "clf = RandomForestClassifier(criterion='entropy')\n",
    "scl = RobustScaler()"
   ]
  },
  {
   "cell_type": "code",
   "execution_count": 189,
   "metadata": {},
   "outputs": [],
   "source": [
    "X_train = dataframe_train.select_dtypes(float)[U_COLUMNS].values\n",
    "X_scl_train = scl.fit_transform(X_train)\n",
    "y_train = dataframe_train['tag_28'].values\n",
    "\n",
    "X_test = dataframe_test.select_dtypes(float)[U_COLUMNS].values\n",
    "X_scl_test = scl.transform(X_test)\n",
    "y_test = dataframe_test['tag_28'].values"
   ]
  },
  {
   "cell_type": "code",
   "execution_count": 190,
   "metadata": {},
   "outputs": [],
   "source": [
    "clf.fit(X_scl_train, y_train);"
   ]
  },
  {
   "cell_type": "code",
   "execution_count": 191,
   "metadata": {},
   "outputs": [],
   "source": [
    "y_pred = clf.predict(X_scl_test)"
   ]
  },
  {
   "cell_type": "code",
   "execution_count": 192,
   "metadata": {},
   "outputs": [
    {
     "name": "stdout",
     "output_type": "stream",
     "text": [
      "              precision    recall  f1-score   support\n",
      "\n",
      "        bear       0.00      0.00      0.00        18\n",
      "        bull       0.33      0.48      0.39        98\n",
      "        keep       0.50      0.05      0.09        39\n",
      "outlier bear       0.00      0.00      0.00         1\n",
      "outlier bull       0.00      0.00      0.00         2\n",
      " strong bear       0.11      0.06      0.08        49\n",
      " strong bull       0.26      0.34      0.30        44\n",
      "\n",
      "    accuracy                           0.27       251\n",
      "   macro avg       0.17      0.13      0.12       251\n",
      "weighted avg       0.28      0.27      0.24       251\n",
      "\n"
     ]
    }
   ],
   "source": [
    "print(classification_report(y_test, y_pred))"
   ]
  },
  {
   "cell_type": "markdown",
   "metadata": {},
   "source": [
    "#### Random Forest - U_COLUMNS | Robust Scaler | Sin outliers"
   ]
  },
  {
   "cell_type": "code",
   "execution_count": 193,
   "metadata": {},
   "outputs": [],
   "source": [
    "clf = RandomForestClassifier(criterion='entropy')\n",
    "scl = RobustScaler()\n",
    "\n",
    "X_train = dataframe_train.select_dtypes(float)[U_COLUMNS].values\n",
    "y_train = dataframe_train['tag_28'].values\n",
    "y_train = np.where(y_train == 'outlier bear', 'strong bear', y_train)\n",
    "y_train = np.where(y_train == 'outlier bull', 'strong bull', y_train)\n",
    "X_scl_train = scl.fit_transform(X_train)\n",
    "\n",
    "X_test = dataframe_test.select_dtypes(float)[U_COLUMNS].values\n",
    "y_test = dataframe_test['tag_28'].values\n",
    "y_test = np.where(y_test == 'outlier bear', 'strong bear', y_test)\n",
    "y_test = np.where(y_test == 'outlier bull', 'strong bull', y_test)\n",
    "X_scl_test = scl.transform(X_test)"
   ]
  },
  {
   "cell_type": "code",
   "execution_count": 194,
   "metadata": {},
   "outputs": [],
   "source": [
    "clf.fit(X_scl_train, y_train);"
   ]
  },
  {
   "cell_type": "code",
   "execution_count": 195,
   "metadata": {},
   "outputs": [],
   "source": [
    "y_pred = clf.predict(X_scl_test)"
   ]
  },
  {
   "cell_type": "code",
   "execution_count": 196,
   "metadata": {},
   "outputs": [
    {
     "name": "stdout",
     "output_type": "stream",
     "text": [
      "              precision    recall  f1-score   support\n",
      "\n",
      "        bear       0.04      0.06      0.05        18\n",
      "        bull       0.34      0.58      0.43        98\n",
      "        keep       0.00      0.00      0.00        39\n",
      " strong bear       0.29      0.12      0.17        50\n",
      " strong bull       0.32      0.26      0.29        46\n",
      "\n",
      "    accuracy                           0.30       251\n",
      "   macro avg       0.20      0.20      0.19       251\n",
      "weighted avg       0.25      0.30      0.26       251\n",
      "\n"
     ]
    }
   ],
   "source": [
    "print(classification_report(y_test, y_pred))"
   ]
  },
  {
   "cell_type": "code",
   "execution_count": 197,
   "metadata": {},
   "outputs": [],
   "source": [
    "clf = RandomForestClassifier(criterion='entropy')\n",
    "scl = RobustScaler()\n",
    "\n",
    "X_train = dataframe_train[~dataframe_train['tag_28'].isin(['outlier bear', 'outlier bull'])] \\\n",
    "            .select_dtypes(float)[U_COLUMNS].values\n",
    "y_train = dataframe_train[~dataframe_train['tag_28'].isin(['outlier bear', 'outlier bull'])]['tag_28'].values\n",
    "X_scl_train = scl.fit_transform(X_train)\n",
    "X_test = dataframe_test.select_dtypes(float)[U_COLUMNS].values\n",
    "y_test = dataframe_test['tag_28'].values\n",
    "y_test = np.where(y_test == 'outlier bear', 'strong bear', y_test)\n",
    "y_test = np.where(y_test == 'outlier bull', 'strong bull', y_test)\n",
    "X_scl_test = scl.transform(X_test)"
   ]
  },
  {
   "cell_type": "code",
   "execution_count": 198,
   "metadata": {},
   "outputs": [],
   "source": [
    "clf.fit(X_scl_train, y_train);"
   ]
  },
  {
   "cell_type": "code",
   "execution_count": 199,
   "metadata": {},
   "outputs": [],
   "source": [
    "y_pred = clf.predict(X_scl_test)"
   ]
  },
  {
   "cell_type": "code",
   "execution_count": 200,
   "metadata": {},
   "outputs": [
    {
     "name": "stdout",
     "output_type": "stream",
     "text": [
      "              precision    recall  f1-score   support\n",
      "\n",
      "        bear       0.00      0.00      0.00        18\n",
      "        bull       0.36      0.50      0.42        98\n",
      "        keep       0.75      0.08      0.14        39\n",
      " strong bear       0.23      0.14      0.18        50\n",
      " strong bull       0.40      0.50      0.45        46\n",
      "\n",
      "    accuracy                           0.33       251\n",
      "   macro avg       0.35      0.24      0.24       251\n",
      "weighted avg       0.38      0.33      0.30       251\n",
      "\n"
     ]
    }
   ],
   "source": [
    "print(classification_report(y_test, y_pred))"
   ]
  },
  {
   "cell_type": "markdown",
   "metadata": {},
   "source": [
    "#### Random Forest - U_COLUMNS | UDF | Con outliers"
   ]
  },
  {
   "cell_type": "code",
   "execution_count": 201,
   "metadata": {},
   "outputs": [
    {
     "name": "stdout",
     "output_type": "stream",
     "text": [
      "              precision    recall  f1-score   support\n",
      "\n",
      "        bear       0.00      0.00      0.00        18\n",
      "        bull       0.39      0.98      0.55        98\n",
      "        keep       0.00      0.00      0.00        39\n",
      "outlier bear       0.00      0.00      0.00         1\n",
      "outlier bull       0.00      0.00      0.00         2\n",
      " strong bear       0.00      0.00      0.00        49\n",
      " strong bull       0.00      0.00      0.00        44\n",
      "\n",
      "    accuracy                           0.38       251\n",
      "   macro avg       0.06      0.14      0.08       251\n",
      "weighted avg       0.15      0.38      0.22       251\n",
      "\n"
     ]
    }
   ],
   "source": [
    "knn = RandomForestClassifier(criterion='entropy')\n",
    "\n",
    "df_aux = dataframe_train.reset_index()\n",
    "cols = ['symbol', 'date']\n",
    "cols.extend(U_COLUMNS)\n",
    "df_aux = df_aux[cols]\n",
    "X_train = ud_robust_scaler(df_aux.values, df_aux.columns, relativedelta(months=4))\n",
    "y_train = dataframe_train['tag_28'].values\n",
    "\n",
    "df_aux = dataframe_test.reset_index()\n",
    "cols = ['symbol', 'date']\n",
    "cols.extend(U_COLUMNS)\n",
    "df_aux = df_aux[cols]\n",
    "X_test = ud_robust_scaler(df_aux.values, df_aux.columns, relativedelta(months=4))\n",
    "y_test = dataframe_test['tag_28'].values\n",
    "\n",
    "knn.fit(X_train, y_train)\n",
    "\n",
    "y_pred = knn.predict(X_test)\n",
    "\n",
    "print(classification_report(y_test, y_pred))"
   ]
  },
  {
   "cell_type": "markdown",
   "metadata": {},
   "source": [
    "#### Random Forest - COLS_WO_FIN | UDF | Con outliers"
   ]
  },
  {
   "cell_type": "code",
   "execution_count": 202,
   "metadata": {},
   "outputs": [
    {
     "name": "stdout",
     "output_type": "stream",
     "text": [
      "              precision    recall  f1-score   support\n",
      "\n",
      "        bear       0.00      0.00      0.00        18\n",
      "        bull       0.39      0.98      0.55        98\n",
      "        keep       0.00      0.00      0.00        39\n",
      "outlier bear       0.00      0.00      0.00         1\n",
      "outlier bull       0.00      0.00      0.00         2\n",
      " strong bear       0.00      0.00      0.00        49\n",
      " strong bull       0.00      0.00      0.00        44\n",
      "\n",
      "    accuracy                           0.38       251\n",
      "   macro avg       0.06      0.14      0.08       251\n",
      "weighted avg       0.15      0.38      0.22       251\n",
      "\n"
     ]
    }
   ],
   "source": [
    "knn = RandomForestClassifier(criterion='entropy')\n",
    "\n",
    "df_aux = dataframe_train.reset_index()\n",
    "cols = ['symbol', 'date']\n",
    "cols.extend(COLS_WO_FIN)\n",
    "df_aux = df_aux[cols]\n",
    "X_train = ud_robust_scaler(df_aux.values, df_aux.columns, relativedelta(months=4))\n",
    "y_train = dataframe_train['tag_28'].values\n",
    "\n",
    "df_aux = dataframe_test.reset_index()\n",
    "cols = ['symbol', 'date']\n",
    "cols.extend(COLS_WO_FIN)\n",
    "df_aux = df_aux[cols]\n",
    "X_test = ud_robust_scaler(df_aux.values, df_aux.columns, relativedelta(months=4))\n",
    "y_test = dataframe_test['tag_28'].values\n",
    "\n",
    "knn.fit(X_train, y_train)\n",
    "\n",
    "y_pred = knn.predict(X_test)\n",
    "\n",
    "print(classification_report(y_test, y_pred))"
   ]
  },
  {
   "cell_type": "markdown",
   "metadata": {},
   "source": [
    "#### Random Forest - U_COLUMNS | UDF | Sin outliers"
   ]
  },
  {
   "cell_type": "code",
   "execution_count": 203,
   "metadata": {},
   "outputs": [],
   "source": [
    "clf = RandomForestClassifier(criterion='entropy')\n",
    "\n",
    "df_aux = dataframe_train.reset_index()\n",
    "cols = ['symbol', 'date']\n",
    "cols.extend(U_COLUMNS)\n",
    "df_aux = df_aux[cols]\n",
    "X_train = ud_robust_scaler(df_aux.values, df_aux.columns, relativedelta(months=4))\n",
    "y_train = dataframe_train['tag_28'].values\n",
    "y_train = np.where(y_train == 'outlier bear', 'strong bear', y_train)\n",
    "y_train = np.where(y_train == 'outlier bull', 'strong bull', y_train)\n",
    "\n",
    "df_aux = dataframe_test.reset_index()\n",
    "cols = ['symbol', 'date']\n",
    "cols.extend(U_COLUMNS)\n",
    "df_aux = df_aux[cols]\n",
    "X_test = ud_robust_scaler(df_aux.values, df_aux.columns, relativedelta(months=4))\n",
    "y_test = dataframe_test['tag_28'].values\n",
    "y_test = np.where(y_test == 'outlier bear', 'strong bear', y_test)\n",
    "y_test = np.where(y_test == 'outlier bull', 'strong bull', y_test)"
   ]
  },
  {
   "cell_type": "code",
   "execution_count": 204,
   "metadata": {},
   "outputs": [],
   "source": [
    "clf.fit(X_train, y_train);"
   ]
  },
  {
   "cell_type": "code",
   "execution_count": 205,
   "metadata": {},
   "outputs": [],
   "source": [
    "y_pred = clf.predict(X_test)"
   ]
  },
  {
   "cell_type": "code",
   "execution_count": 206,
   "metadata": {},
   "outputs": [
    {
     "name": "stdout",
     "output_type": "stream",
     "text": [
      "              precision    recall  f1-score   support\n",
      "\n",
      "        bear       0.00      0.00      0.00        18\n",
      "        bull       0.39      0.98      0.55        98\n",
      "        keep       0.00      0.00      0.00        39\n",
      " strong bear       0.00      0.00      0.00        50\n",
      " strong bull       0.00      0.00      0.00        46\n",
      "\n",
      "    accuracy                           0.38       251\n",
      "   macro avg       0.08      0.20      0.11       251\n",
      "weighted avg       0.15      0.38      0.22       251\n",
      "\n"
     ]
    }
   ],
   "source": [
    "print(classification_report(y_test, y_pred))"
   ]
  },
  {
   "cell_type": "code",
   "execution_count": 153,
   "metadata": {},
   "outputs": [
    {
     "ename": "IndexError",
     "evalue": "index 28 is out of bounds for axis 1 with size 28",
     "output_type": "error",
     "traceback": [
      "\u001b[0;31m---------------------------------------------------------------------------\u001b[0m",
      "\u001b[0;31mIndexError\u001b[0m                                Traceback (most recent call last)",
      "\u001b[0;32m<ipython-input-153-0c9aa6167fb8>\u001b[0m in \u001b[0;36m<module>\u001b[0;34m\u001b[0m\n\u001b[1;32m      5\u001b[0m \u001b[0mcols\u001b[0m\u001b[0;34m.\u001b[0m\u001b[0mextend\u001b[0m\u001b[0;34m(\u001b[0m\u001b[0mU_COLUMNS\u001b[0m\u001b[0;34m)\u001b[0m\u001b[0;34m\u001b[0m\u001b[0;34m\u001b[0m\u001b[0m\n\u001b[1;32m      6\u001b[0m \u001b[0mdf_aux\u001b[0m \u001b[0;34m=\u001b[0m \u001b[0mdf_aux\u001b[0m\u001b[0;34m[\u001b[0m\u001b[0;34m~\u001b[0m\u001b[0mdf_aux\u001b[0m\u001b[0;34m[\u001b[0m\u001b[0;34m'tag_28'\u001b[0m\u001b[0;34m]\u001b[0m\u001b[0;34m.\u001b[0m\u001b[0misin\u001b[0m\u001b[0;34m(\u001b[0m\u001b[0;34m[\u001b[0m\u001b[0;34m'outlier bear'\u001b[0m\u001b[0;34m,\u001b[0m \u001b[0;34m'outlier bull'\u001b[0m\u001b[0;34m]\u001b[0m\u001b[0;34m)\u001b[0m\u001b[0;34m]\u001b[0m\u001b[0;34m\u001b[0m\u001b[0;34m\u001b[0m\u001b[0m\n\u001b[0;32m----> 7\u001b[0;31m \u001b[0mX_train\u001b[0m \u001b[0;34m=\u001b[0m \u001b[0mud_robust_scaler\u001b[0m\u001b[0;34m(\u001b[0m\u001b[0mdf_aux\u001b[0m\u001b[0;34m[\u001b[0m\u001b[0mcols\u001b[0m\u001b[0;34m]\u001b[0m\u001b[0;34m.\u001b[0m\u001b[0mvalues\u001b[0m\u001b[0;34m,\u001b[0m \u001b[0mdf_aux\u001b[0m\u001b[0;34m.\u001b[0m\u001b[0mcolumns\u001b[0m\u001b[0;34m,\u001b[0m \u001b[0mrelativedelta\u001b[0m\u001b[0;34m(\u001b[0m\u001b[0mmonths\u001b[0m\u001b[0;34m=\u001b[0m\u001b[0;36m4\u001b[0m\u001b[0;34m)\u001b[0m\u001b[0;34m)\u001b[0m\u001b[0;34m\u001b[0m\u001b[0;34m\u001b[0m\u001b[0m\n\u001b[0m\u001b[1;32m      8\u001b[0m \u001b[0my_train\u001b[0m \u001b[0;34m=\u001b[0m \u001b[0mdf_aux\u001b[0m\u001b[0;34m[\u001b[0m\u001b[0;34m~\u001b[0m\u001b[0mdf_aux\u001b[0m\u001b[0;34m[\u001b[0m\u001b[0;34m'tag_28'\u001b[0m\u001b[0;34m]\u001b[0m\u001b[0;34m.\u001b[0m\u001b[0misin\u001b[0m\u001b[0;34m(\u001b[0m\u001b[0;34m[\u001b[0m\u001b[0;34m'outlier bear'\u001b[0m\u001b[0;34m,\u001b[0m \u001b[0;34m'outlier bull'\u001b[0m\u001b[0;34m]\u001b[0m\u001b[0;34m)\u001b[0m\u001b[0;34m]\u001b[0m\u001b[0;34m[\u001b[0m\u001b[0;34m'tag_28'\u001b[0m\u001b[0;34m]\u001b[0m\u001b[0;34m.\u001b[0m\u001b[0mvalues\u001b[0m\u001b[0;34m\u001b[0m\u001b[0;34m\u001b[0m\u001b[0m\n\u001b[1;32m      9\u001b[0m \u001b[0;34m\u001b[0m\u001b[0m\n",
      "\u001b[0;31mIndexError\u001b[0m: index 28 is out of bounds for axis 1 with size 28"
     ]
    }
   ],
   "source": [
    "clf = RandomForestClassifier(criterion='entropy')\n",
    "\n",
    "df_aux = dataframe_train.reset_index()\n",
    "cols = ['symbol', 'date']\n",
    "cols.extend(U_COLUMNS)\n",
    "df_aux = df_aux[~df_aux['tag_28'].isin(['outlier bear', 'outlier bull'])]\n",
    "X_train = ud_robust_scaler(df_aux[cols].values, df_aux.columns, relativedelta(months=4))\n",
    "y_train = df_aux[~df_aux['tag_28'].isin(['outlier bear', 'outlier bull'])]['tag_28'].values\n",
    "\n",
    "df_aux = dataframe_test.reset_index()\n",
    "cols = ['symbol', 'date']\n",
    "cols.extend(U_COLUMNS)\n",
    "df_aux = df_aux[~df_aux['tag_28'].isin(['outlier bear', 'outlier bull'])]\n",
    "X_test = ud_robust_scaler(df_aux[cols].values, df_aux.columns, relativedelta(months=4))\n",
    "y_test = df_aux['tag_28'].values\n",
    "y_test = np.where(y_test == 'outlier bear', 'strong bear', y_test)\n",
    "y_test = np.where(y_test == 'outlier bull', 'strong bull', y_test)\n"
   ]
  },
  {
   "cell_type": "code",
   "execution_count": 154,
   "metadata": {},
   "outputs": [],
   "source": [
    "clf.fit(X_train, y_train);"
   ]
  },
  {
   "cell_type": "code",
   "execution_count": 155,
   "metadata": {},
   "outputs": [],
   "source": [
    "y_pred = clf.predict(X_test)"
   ]
  },
  {
   "cell_type": "code",
   "execution_count": 156,
   "metadata": {},
   "outputs": [
    {
     "name": "stdout",
     "output_type": "stream",
     "text": [
      "              precision    recall  f1-score   support\n",
      "\n",
      "        bear       0.00      0.00      0.00        18\n",
      "        bull       0.39      0.98      0.55        98\n",
      "        keep       0.00      0.00      0.00        39\n",
      " strong bear       0.00      0.00      0.00        50\n",
      " strong bull       0.00      0.00      0.00        46\n",
      "\n",
      "    accuracy                           0.38       251\n",
      "   macro avg       0.08      0.20      0.11       251\n",
      "weighted avg       0.15      0.38      0.22       251\n",
      "\n"
     ]
    }
   ],
   "source": [
    "print(classification_report(y_test, y_pred))"
   ]
  },
  {
   "cell_type": "code",
   "execution_count": null,
   "metadata": {},
   "outputs": [],
   "source": []
  }
 ],
 "metadata": {
  "kernelspec": {
   "display_name": "Python 3",
   "language": "python",
   "name": "python3"
  },
  "language_info": {
   "codemirror_mode": {
    "name": "ipython",
    "version": 3
   },
   "file_extension": ".py",
   "mimetype": "text/x-python",
   "name": "python",
   "nbconvert_exporter": "python",
   "pygments_lexer": "ipython3",
   "version": "3.7.7"
  }
 },
 "nbformat": 4,
 "nbformat_minor": 4
}
