{
 "cells": [
  {
   "cell_type": "markdown",
   "metadata": {},
   "source": [
    "Este notebook se ha usado para analizar cual es el PCA que mejor se adaptaba a las necesidades del problema.\n",
    "\n",
    "Se ha comentado todo el análisis dejando solo de manera ejecutable la parte de código que crea los PCA correspondientes."
   ]
  },
  {
   "cell_type": "code",
   "execution_count": 4,
   "metadata": {},
   "outputs": [],
   "source": [
    "import sys\n",
    "import warnings\n",
    "import pickle\n",
    "import os\n",
    "from datetime import datetime\n",
    "from dateutil.relativedelta import relativedelta\n",
    "\n",
    "import pandas as pd\n",
    "import numpy as np\n",
    "import numba as nb\n",
    "import seaborn as sns\n",
    "import matplotlib.pyplot as plt\n",
    "import plotly.express as px\n",
    "from sklearn.metrics import classification_report\n",
    "from sklearn.decomposition import PCA\n",
    "from sklearn.preprocessing import MinMaxScaler\n",
    "from sklearn.metrics.pairwise import cosine_similarity\n",
    "\n",
    "sns.set()\n",
    "warnings.filterwarnings(\"ignore\")\n",
    "\n",
    "app_path = '/Users/esanc147/Documents/business/bsm03/web_app'\n",
    "if app_path in sys.path:\n",
    "    from tools.tags import create_tags\n",
    "else: \n",
    "    sys.path.append('/Users/esanc147/Documents/business/bsm03/web_app')\n",
    "    from tools.tags import create_tags"
   ]
  },
  {
   "cell_type": "markdown",
   "metadata": {},
   "source": [
    "## Valores por defecto"
   ]
  },
  {
   "cell_type": "code",
   "execution_count": 5,
   "metadata": {},
   "outputs": [],
   "source": [
    "COLUMNS_TECH = ['symbol', 'date', 'MACD_Signal', 'MACD_Hist', 'MACD', 'SlowK', 'SlowD',\n",
    "       'Chaikin A/D', 'OBV', 'RSI21', 'ADX21',\n",
    "       'CCI21', 'Aroon Up21', 'Aroon Down21',\n",
    "       'RSI28', 'ADX28', 'CCI28', 'Aroon Down28', 'Aroon Up28',\n",
    "       'Real Lower Band28', 'Real Upper Band28', 'Real Middle Band28',\n",
    "       'SMA50', 'RSI50', 'ADX50', 'CCI50', 'Aroon Up50',\n",
    "       'Aroon Down50']\n",
    "COLUMNS = ['symbol', 'date', 'close', 'volume', 'open', 'high', 'low']\n",
    "U_COLUMNS = ['close', 'volume', 'MACD_Signal', 'MACD_Hist', 'MACD', 'SlowK', 'SlowD',\n",
    "             'Chaikin A/D', 'OBV', 'RSI21', 'ADX21', 'CCI21', 'Aroon Up21', 'Aroon Down21',\n",
    "             'RSI28', 'ADX28', 'CCI28', 'Aroon Down28', 'Aroon Up28', 'Real Lower Band28',\n",
    "             'Real Upper Band28', 'Real Middle Band28', 'SMA50', 'RSI50', 'ADX50', 'CCI50',\n",
    "             'Aroon Up50', 'Aroon Down50']\n",
    "FULL_PATH = \"/Users/esanc147/Documents/business/bsm03/web_app/data\"\n",
    "SYMBOLS = [s.split('.csv')[0] for s in os.listdir(f\"{FULL_PATH}/tech/\") if '.L' not in s]\n",
    "PERIOD = [7, 14, 21, 28]"
   ]
  },
  {
   "cell_type": "markdown",
   "metadata": {},
   "source": [
    "## Carga de los datos"
   ]
  },
  {
   "cell_type": "code",
   "execution_count": 6,
   "metadata": {},
   "outputs": [
    {
     "name": "stdout",
     "output_type": "stream",
     "text": [
      "+1000 symbols loaded\n",
      "+1000 symbols loaded\n",
      "+1000 symbols loaded\n",
      "+1000 symbols loaded\n",
      "+1000 symbols loaded\n",
      "+1000 symbols loaded\n",
      "+1000 symbols loaded\n"
     ]
    }
   ],
   "source": [
    "symbols = SYMBOLS\n",
    "\n",
    "total_dataframes = list()\n",
    "\n",
    "i = 1\n",
    "for symbol in symbols:\n",
    "    if (i % 1000) == 0:\n",
    "        print(\"+1000 symbols loaded\")\n",
    "    path_close = f\"{FULL_PATH}/close/{symbol}.csv\"\n",
    "    df_close = pd.read_csv(path_close, names=COLUMNS)\n",
    "    df_close['date'] = pd.to_datetime(df_close['date'])\n",
    "    df_close['volume'] = df_close['volume'].astype(float)\n",
    "\n",
    "    path_tech = f\"{FULL_PATH}/tech/{symbol}.csv\"\n",
    "    df_tech = pd.read_csv(path_tech, names=COLUMNS_TECH)\n",
    "    df_tech['date'] = pd.to_datetime(df_tech['date'])\n",
    "\n",
    "#    list_df_tagged = []\n",
    "#    for period in PERIOD:\n",
    "#        df_aux = create_tags(df_close, period)\n",
    "#        df_aux[f\"pct_change_{period}\"] = df_aux[f\"pct_change_{period}\"].astype(float)\n",
    "#        df_aux[f\"pct_change_{period}\"] = df_aux[f\"pct_change_{period}\"].astype(float)\n",
    "#        list_df_tagged.append(df_aux)\n",
    "#    df_tagged = pd.concat(list_df_tagged, axis=1)\n",
    "#    df_tagged.dropna(inplace=True)\n",
    "\n",
    "    df_close = df_close.set_index(['symbol', 'date'])\n",
    "    df_tech = df_tech.set_index(['symbol', 'date'])\n",
    "    dataframe = pd.concat([df_close, df_tech], join='inner', axis=1)\n",
    "    total_dataframes.append(dataframe)\n",
    "    i += 1\n",
    "tot_dataframe = pd.concat(total_dataframes)"
   ]
  },
  {
   "cell_type": "markdown",
   "metadata": {},
   "source": [
    "## Cargar los modelos"
   ]
  },
  {
   "cell_type": "raw",
   "metadata": {},
   "source": [
    "path_rf = f\"{FULL_PATH}/model/rf_7.pkl\"\n",
    "path_rs = f\"{FULL_PATH}/model/robust_scaler_7.pkl\""
   ]
  },
  {
   "cell_type": "raw",
   "metadata": {},
   "source": [
    "clf = pickle.load(open(path_rf, 'rb'))\n",
    "scl = pickle.load(open(path_rs, 'rb'))"
   ]
  },
  {
   "cell_type": "markdown",
   "metadata": {},
   "source": [
    "## Calcula las predicciones"
   ]
  },
  {
   "cell_type": "raw",
   "metadata": {},
   "source": [
    "X = dataframe[U_COLUMNS].values\n",
    "\n",
    "y = dataframe[\"tag_7\"].values\n",
    "y = np.where(y == 'outlier bear', 'strong bear', y)\n",
    "y = np.where(y == 'outlier bull', 'strong bull', y)"
   ]
  },
  {
   "cell_type": "raw",
   "metadata": {},
   "source": [
    "X_scl = scl.transform(X)"
   ]
  },
  {
   "cell_type": "raw",
   "metadata": {},
   "source": [
    "y_pred = clf.predict(X_scl)"
   ]
  },
  {
   "cell_type": "raw",
   "metadata": {},
   "source": [
    "df_trading = pd.DataFrame(data=X_scl, columns=U_COLUMNS, index=dataframe.index)"
   ]
  },
  {
   "cell_type": "raw",
   "metadata": {},
   "source": [
    "df_trading['tag_7'] = y\n",
    "df_trading['tag_7_pred'] = y_pred"
   ]
  },
  {
   "cell_type": "raw",
   "metadata": {},
   "source": [
    "df_trading.head(5)"
   ]
  },
  {
   "cell_type": "raw",
   "metadata": {},
   "source": [
    "round(df_trading.groupby('tag_7_pred')['tag_7'].value_counts(normalize=True) * 100, 2)"
   ]
  },
  {
   "cell_type": "raw",
   "metadata": {},
   "source": [
    "df_trading['tag_y'] = df_trading['tag_7_pred'] + ' - ' + df_trading['tag_7']"
   ]
  },
  {
   "cell_type": "raw",
   "metadata": {},
   "source": [
    "df_trading.head()"
   ]
  },
  {
   "cell_type": "markdown",
   "metadata": {},
   "source": [
    "## Aplicamos la reducción de dimensionalidad"
   ]
  },
  {
   "cell_type": "raw",
   "metadata": {},
   "source": [
    "pca = PCA(n_components=len(U_COLUMNS))"
   ]
  },
  {
   "cell_type": "raw",
   "metadata": {},
   "source": [
    "X_pca = pca.fit_transform(df_trading[U_COLUMNS].values)"
   ]
  },
  {
   "cell_type": "raw",
   "metadata": {},
   "source": [
    "df_ratio = pd.DataFrame({'cols': [f'PC{idx}' for idx in range(0, len(U_COLUMNS))], 'ratio': pca.explained_variance_ratio_})"
   ]
  },
  {
   "cell_type": "raw",
   "metadata": {},
   "source": [
    "ax = sns.barplot(\"cols\", y=\"ratio\", data=df_ratio)\n",
    "plt.xticks(rotation=75);"
   ]
  },
  {
   "cell_type": "raw",
   "metadata": {},
   "source": [
    "pca = PCA(4)\n",
    "X_pca = pca.fit_transform(df_trading[U_COLUMNS].values)\n",
    "df_radar = pd.DataFrame(X_pca, columns=[f'PC{idx}' for idx in range(0, 4)], index=df_trading.index)\n",
    "df_radar['tag_y'] = df_trading['tag_y']"
   ]
  },
  {
   "cell_type": "raw",
   "metadata": {},
   "source": [
    "df_radar.head()"
   ]
  },
  {
   "cell_type": "markdown",
   "metadata": {},
   "source": [
    "## Guardamos los modelos de reducción de dimensionalidad"
   ]
  },
  {
   "cell_type": "code",
   "execution_count": 7,
   "metadata": {},
   "outputs": [],
   "source": [
    "df_reset = tot_dataframe.reset_index()\n",
    "df = df_reset[(df_reset['date'].dt.year > 2019)\n",
    "              & (df_reset['date'].dt.month <= 6)] \\\n",
    "         .set_index(['symbol', 'date']) \\\n",
    "         .sort_values(by='date', ascending=False)\n",
    "\n",
    "for day in PERIOD:\n",
    "\n",
    "    path_rs = f\"{FULL_PATH}/model/robust_scaler_{day}.pkl\"\n",
    "    \n",
    "    scl = pickle.load(open(path_rs, 'rb'))\n",
    "    \n",
    "    X = df[U_COLUMNS].values\n",
    "    X_scl = scl.transform(X)\n",
    "    \n",
    "    pca = PCA(4, random_state=32)\n",
    "    pca.fit(X_scl)\n",
    "    pickle.dump(pca, open(f\"{FULL_PATH}/model/pca_{day}.pkl\", 'wb'))"
   ]
  },
  {
   "cell_type": "code",
   "execution_count": null,
   "metadata": {},
   "outputs": [],
   "source": []
  }
 ],
 "metadata": {
  "kernelspec": {
   "display_name": "Python 3",
   "language": "python",
   "name": "python3"
  },
  "language_info": {
   "codemirror_mode": {
    "name": "ipython",
    "version": 3
   },
   "file_extension": ".py",
   "mimetype": "text/x-python",
   "name": "python",
   "nbconvert_exporter": "python",
   "pygments_lexer": "ipython3",
   "version": "3.7.7"
  }
 },
 "nbformat": 4,
 "nbformat_minor": 4
}
