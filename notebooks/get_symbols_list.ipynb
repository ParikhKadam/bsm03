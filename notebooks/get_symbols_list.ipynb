{
 "cells": [
  {
   "cell_type": "markdown",
   "metadata": {},
   "source": [
    "Con este notebook se obtiene una lista con las compañías que se van a usar en el modelo"
   ]
  },
  {
   "cell_type": "code",
   "execution_count": 156,
   "metadata": {},
   "outputs": [],
   "source": [
    "import requests\n",
    "import pandas as pd\n",
    "from fuzzywuzzy import fuzz\n",
    "from fuzzywuzzy import process"
   ]
  },
  {
   "cell_type": "code",
   "execution_count": 157,
   "metadata": {},
   "outputs": [],
   "source": [
    "key_finnhub = \"your_finnhub_api_key_here\""
   ]
  },
  {
   "cell_type": "code",
   "execution_count": 158,
   "metadata": {},
   "outputs": [],
   "source": [
    "symbols = list()"
   ]
  },
  {
   "cell_type": "code",
   "execution_count": 159,
   "metadata": {},
   "outputs": [
    {
     "data": {
      "text/plain": [
       "(True, 204)"
      ]
     },
     "execution_count": 159,
     "metadata": {},
     "output_type": "execute_result"
    }
   ],
   "source": [
    "market = \"MC\"\n",
    "url = f\"https://finnhub.io/api/v1/stock/symbol?exchange={market}&token={key_finnhub}\"\n",
    "r = requests.get(url)\n",
    "l = r.json()\n",
    "all([elem.get('symbol') == elem.get('displaySymbol') for elem in l]), len(l)"
   ]
  },
  {
   "cell_type": "code",
   "execution_count": 160,
   "metadata": {},
   "outputs": [],
   "source": [
    "symbols.extend(l)"
   ]
  },
  {
   "cell_type": "code",
   "execution_count": 161,
   "metadata": {},
   "outputs": [
    {
     "data": {
      "text/plain": [
       "(True, 4094)"
      ]
     },
     "execution_count": 161,
     "metadata": {},
     "output_type": "execute_result"
    }
   ],
   "source": [
    "market = \"L\"\n",
    "url = f\"https://finnhub.io/api/v1/stock/symbol?exchange={market}&token={key_finnhub}\"\n",
    "r = requests.get(url)\n",
    "l = r.json()\n",
    "all([elem.get('symbol') == elem.get('displaySymbol') for elem in l]), len(l)"
   ]
  },
  {
   "cell_type": "code",
   "execution_count": 162,
   "metadata": {},
   "outputs": [],
   "source": [
    "symbols.extend(l)"
   ]
  },
  {
   "cell_type": "code",
   "execution_count": 163,
   "metadata": {},
   "outputs": [
    {
     "data": {
      "text/plain": [
       "(True, 8930)"
      ]
     },
     "execution_count": 163,
     "metadata": {},
     "output_type": "execute_result"
    }
   ],
   "source": [
    "market = \"US\"\n",
    "url = f\"https://finnhub.io/api/v1/stock/symbol?exchange={market}&token={key_finnhub}\"\n",
    "r = requests.get(url)\n",
    "l = r.json()\n",
    "all([elem.get('symbol') == elem.get('displaySymbol') for elem in l]), len(l)"
   ]
  },
  {
   "cell_type": "code",
   "execution_count": 164,
   "metadata": {},
   "outputs": [],
   "source": [
    "symbols.extend(l)"
   ]
  },
  {
   "cell_type": "code",
   "execution_count": 213,
   "metadata": {},
   "outputs": [],
   "source": [
    "df = pd.DataFrame(symbols)"
   ]
  },
  {
   "cell_type": "code",
   "execution_count": 214,
   "metadata": {},
   "outputs": [
    {
     "data": {
      "text/plain": [
       "                                         1020\n",
       "ISHARES IV PLC                            129\n",
       "MULTI UNITS LUXEMBOURG                    124\n",
       "XTRACKERS                                 104\n",
       "ISHARES II PLC                             86\n",
       "                                         ... \n",
       "BLACKROCK MUNIYIELD ARIZONA                 1\n",
       "ENERGIZER HOLDINGS INC                      1\n",
       "Autonomy Spain Real Estate SOCIMI SAU       1\n",
       "CALAMOS GLOBAL DYNAMIC INCOM                1\n",
       "EP GLOBAL OPPORTUNITIES TRUST PLC           1\n",
       "Name: description, Length: 10030, dtype: int64"
      ]
     },
     "execution_count": 214,
     "metadata": {},
     "output_type": "execute_result"
    }
   ],
   "source": [
    "df['description'].value_counts()"
   ]
  },
  {
   "cell_type": "code",
   "execution_count": 218,
   "metadata": {},
   "outputs": [],
   "source": [
    "# Me quedo con los que tienen descripcion unica\n",
    "df_tot = df[~df['description'].duplicated(keep=False)]"
   ]
  },
  {
   "cell_type": "code",
   "execution_count": 219,
   "metadata": {},
   "outputs": [
    {
     "data": {
      "text/plain": [
       "O'SHARES GLOBAL INTERNET GIA         1\n",
       "OILEX LD                             1\n",
       "Aperam SA                            1\n",
       "GETECH GROUP PLC                     1\n",
       "JOHN HANCOCK MULT FACT INDUS         1\n",
       "                                    ..\n",
       "VERASTEM INC                         1\n",
       "BARONSMEAD VENTURE TRUST PLC         1\n",
       "IVERIC BIO INC                       1\n",
       "TFI INTERNATIONAL INC                1\n",
       "EP GLOBAL OPPORTUNITIES TRUST PLC    1\n",
       "Name: description, Length: 9682, dtype: int64"
      ]
     },
     "execution_count": 219,
     "metadata": {},
     "output_type": "execute_result"
    }
   ],
   "source": [
    "df_tot['description'].value_counts()"
   ]
  },
  {
   "cell_type": "code",
   "execution_count": 220,
   "metadata": {},
   "outputs": [
    {
     "name": "stderr",
     "output_type": "stream",
     "text": [
      "//anaconda3/envs/bsm03/lib/python3.7/site-packages/ipykernel_launcher.py:1: SettingWithCopyWarning: \n",
      "A value is trying to be set on a copy of a slice from a DataFrame.\n",
      "Try using .loc[row_indexer,col_indexer] = value instead\n",
      "\n",
      "See the caveats in the documentation: https://pandas.pydata.org/pandas-docs/stable/user_guide/indexing.html#returning-a-view-versus-a-copy\n",
      "  \"\"\"Entry point for launching an IPython kernel.\n"
     ]
    }
   ],
   "source": [
    "df_tot['p1'] = df_tot['symbol'].str.split('.').str[0]"
   ]
  },
  {
   "cell_type": "code",
   "execution_count": 211,
   "metadata": {},
   "outputs": [
    {
     "data": {
      "text/html": [
       "<div>\n",
       "<style scoped>\n",
       "    .dataframe tbody tr th:only-of-type {\n",
       "        vertical-align: middle;\n",
       "    }\n",
       "\n",
       "    .dataframe tbody tr th {\n",
       "        vertical-align: top;\n",
       "    }\n",
       "\n",
       "    .dataframe thead th {\n",
       "        text-align: right;\n",
       "    }\n",
       "</style>\n",
       "<table border=\"1\" class=\"dataframe\">\n",
       "  <thead>\n",
       "    <tr style=\"text-align: right;\">\n",
       "      <th></th>\n",
       "      <th>description</th>\n",
       "      <th>displaySymbol</th>\n",
       "      <th>symbol</th>\n",
       "      <th>p1</th>\n",
       "    </tr>\n",
       "  </thead>\n",
       "  <tbody>\n",
       "    <tr>\n",
       "      <th>142</th>\n",
       "      <td>Banco Santander SA</td>\n",
       "      <td>SAN.MC</td>\n",
       "      <td>SAN.MC</td>\n",
       "      <td>SAN</td>\n",
       "    </tr>\n",
       "    <tr>\n",
       "      <th>11282</th>\n",
       "      <td>BANCO SANTANDER SA-SPON ADR</td>\n",
       "      <td>SAN</td>\n",
       "      <td>SAN</td>\n",
       "      <td>SAN</td>\n",
       "    </tr>\n",
       "    <tr>\n",
       "      <th>11284</th>\n",
       "      <td>SANDSTORM GOLD LTD</td>\n",
       "      <td>SAND</td>\n",
       "      <td>SAND</td>\n",
       "      <td>SAND</td>\n",
       "    </tr>\n",
       "    <tr>\n",
       "      <th>11285</th>\n",
       "      <td>SANMINA CORP</td>\n",
       "      <td>SANM</td>\n",
       "      <td>SANM</td>\n",
       "      <td>SANM</td>\n",
       "    </tr>\n",
       "    <tr>\n",
       "      <th>11286</th>\n",
       "      <td>S&amp;W SEED CO</td>\n",
       "      <td>SANW</td>\n",
       "      <td>SANW</td>\n",
       "      <td>SANW</td>\n",
       "    </tr>\n",
       "  </tbody>\n",
       "</table>\n",
       "</div>"
      ],
      "text/plain": [
       "                       description displaySymbol  symbol    p1\n",
       "142             Banco Santander SA        SAN.MC  SAN.MC   SAN\n",
       "11282  BANCO SANTANDER SA-SPON ADR           SAN     SAN   SAN\n",
       "11284           SANDSTORM GOLD LTD          SAND    SAND  SAND\n",
       "11285                 SANMINA CORP          SANM    SANM  SANM\n",
       "11286                  S&W SEED CO          SANW    SANW  SANW"
      ]
     },
     "execution_count": 211,
     "metadata": {},
     "output_type": "execute_result"
    }
   ],
   "source": [
    "df_tot[df_tot['symbol'].str.startswith('SAN')]"
   ]
  },
  {
   "cell_type": "code",
   "execution_count": 223,
   "metadata": {},
   "outputs": [
    {
     "data": {
      "text/plain": [
       "DIA     3\n",
       "BIO     3\n",
       "MED     3\n",
       "COM     3\n",
       "IAG     3\n",
       "       ..\n",
       "BWA     1\n",
       "LEU     1\n",
       "TSRI    1\n",
       "MAW     1\n",
       "STEM    1\n",
       "Name: p1, Length: 9184, dtype: int64"
      ]
     },
     "execution_count": 223,
     "metadata": {},
     "output_type": "execute_result"
    }
   ],
   "source": [
    "df_tot['p1'].value_counts()"
   ]
  },
  {
   "cell_type": "code",
   "execution_count": 170,
   "metadata": {},
   "outputs": [],
   "source": [
    "dup = df_tot[df_tot['p1'].duplicated(keep=False)].sort_values(by='p1')"
   ]
  },
  {
   "cell_type": "code",
   "execution_count": 183,
   "metadata": {},
   "outputs": [],
   "source": [
    "choices = dup['description'].values"
   ]
  },
  {
   "cell_type": "code",
   "execution_count": 184,
   "metadata": {},
   "outputs": [],
   "source": [
    "list_ = list()\n",
    "for elem in choices:\n",
    "    p = process.extract(elem, choices, limit=3)\n",
    "    if p[1][1] >= 90:\n",
    "        list_.append({'a': p[0][0], 'b': p[1][0], 'score': p[1][1]})"
   ]
  },
  {
   "cell_type": "code",
   "execution_count": 185,
   "metadata": {},
   "outputs": [
    {
     "data": {
      "text/html": [
       "<div>\n",
       "<style scoped>\n",
       "    .dataframe tbody tr th:only-of-type {\n",
       "        vertical-align: middle;\n",
       "    }\n",
       "\n",
       "    .dataframe tbody tr th {\n",
       "        vertical-align: top;\n",
       "    }\n",
       "\n",
       "    .dataframe thead th {\n",
       "        text-align: right;\n",
       "    }\n",
       "</style>\n",
       "<table border=\"1\" class=\"dataframe\">\n",
       "  <thead>\n",
       "    <tr style=\"text-align: right;\">\n",
       "      <th></th>\n",
       "      <th>description</th>\n",
       "      <th>displaySymbol</th>\n",
       "      <th>symbol</th>\n",
       "      <th>p1</th>\n",
       "    </tr>\n",
       "  </thead>\n",
       "  <tbody>\n",
       "    <tr>\n",
       "      <th>4299</th>\n",
       "      <td>ALCOA CORP</td>\n",
       "      <td>AA</td>\n",
       "      <td>AA</td>\n",
       "      <td>AA</td>\n",
       "    </tr>\n",
       "    <tr>\n",
       "      <th>214</th>\n",
       "      <td>AA PLC</td>\n",
       "      <td>AA.L</td>\n",
       "      <td>AA.L</td>\n",
       "      <td>AA</td>\n",
       "    </tr>\n",
       "    <tr>\n",
       "      <th>4303</th>\n",
       "      <td>AMERICAN AIRLINES GROUP INC</td>\n",
       "      <td>AAL</td>\n",
       "      <td>AAL</td>\n",
       "      <td>AAL</td>\n",
       "    </tr>\n",
       "    <tr>\n",
       "      <th>416</th>\n",
       "      <td>ANGLO AMERICAN PLC</td>\n",
       "      <td>AAL.L</td>\n",
       "      <td>AAL.L</td>\n",
       "      <td>AAL</td>\n",
       "    </tr>\n",
       "    <tr>\n",
       "      <th>4312</th>\n",
       "      <td>ALMADEN MINERALS LTD - B</td>\n",
       "      <td>AAU</td>\n",
       "      <td>AAU</td>\n",
       "      <td>AAU</td>\n",
       "    </tr>\n",
       "    <tr>\n",
       "      <th>...</th>\n",
       "      <td>...</td>\n",
       "      <td>...</td>\n",
       "      <td>...</td>\n",
       "      <td>...</td>\n",
       "    </tr>\n",
       "    <tr>\n",
       "      <th>13083</th>\n",
       "      <td>PROSHARES ULTRA FTSE CHINA50</td>\n",
       "      <td>XPP</td>\n",
       "      <td>XPP</td>\n",
       "      <td>XPP</td>\n",
       "    </tr>\n",
       "    <tr>\n",
       "      <th>13136</th>\n",
       "      <td>YATRA ONLINE INC</td>\n",
       "      <td>YTRA</td>\n",
       "      <td>YTRA</td>\n",
       "      <td>YTRA</td>\n",
       "    </tr>\n",
       "    <tr>\n",
       "      <th>181</th>\n",
       "      <td>Trajano Iberia Socimi SA</td>\n",
       "      <td>YTRA.MC</td>\n",
       "      <td>YTRA.MC</td>\n",
       "      <td>YTRA</td>\n",
       "    </tr>\n",
       "    <tr>\n",
       "      <th>4290</th>\n",
       "      <td>ZENITH ENERGY LTD.</td>\n",
       "      <td>ZEN.L</td>\n",
       "      <td>ZEN.L</td>\n",
       "      <td>ZEN</td>\n",
       "    </tr>\n",
       "    <tr>\n",
       "      <th>13156</th>\n",
       "      <td>ZENDESK INC</td>\n",
       "      <td>ZEN</td>\n",
       "      <td>ZEN</td>\n",
       "      <td>ZEN</td>\n",
       "    </tr>\n",
       "  </tbody>\n",
       "</table>\n",
       "<p>980 rows × 4 columns</p>\n",
       "</div>"
      ],
      "text/plain": [
       "                        description displaySymbol   symbol    p1\n",
       "4299                     ALCOA CORP            AA       AA    AA\n",
       "214                          AA PLC          AA.L     AA.L    AA\n",
       "4303    AMERICAN AIRLINES GROUP INC           AAL      AAL   AAL\n",
       "416              ANGLO AMERICAN PLC         AAL.L    AAL.L   AAL\n",
       "4312       ALMADEN MINERALS LTD - B           AAU      AAU   AAU\n",
       "...                             ...           ...      ...   ...\n",
       "13083  PROSHARES ULTRA FTSE CHINA50           XPP      XPP   XPP\n",
       "13136              YATRA ONLINE INC          YTRA     YTRA  YTRA\n",
       "181        Trajano Iberia Socimi SA       YTRA.MC  YTRA.MC  YTRA\n",
       "4290             ZENITH ENERGY LTD.         ZEN.L    ZEN.L   ZEN\n",
       "13156                   ZENDESK INC           ZEN      ZEN   ZEN\n",
       "\n",
       "[980 rows x 4 columns]"
      ]
     },
     "execution_count": 185,
     "metadata": {},
     "output_type": "execute_result"
    }
   ],
   "source": [
    "dup"
   ]
  },
  {
   "cell_type": "code",
   "execution_count": 186,
   "metadata": {},
   "outputs": [],
   "source": [
    "df_scr = pd.DataFrame(list_)"
   ]
  },
  {
   "cell_type": "code",
   "execution_count": 187,
   "metadata": {},
   "outputs": [],
   "source": [
    "dataframe = pd.merge(dup, df_scr, left_on='description', right_on='a')"
   ]
  },
  {
   "cell_type": "code",
   "execution_count": 225,
   "metadata": {},
   "outputs": [
    {
     "data": {
      "text/html": [
       "<div>\n",
       "<style scoped>\n",
       "    .dataframe tbody tr th:only-of-type {\n",
       "        vertical-align: middle;\n",
       "    }\n",
       "\n",
       "    .dataframe tbody tr th {\n",
       "        vertical-align: top;\n",
       "    }\n",
       "\n",
       "    .dataframe thead th {\n",
       "        text-align: right;\n",
       "    }\n",
       "</style>\n",
       "<table border=\"1\" class=\"dataframe\">\n",
       "  <thead>\n",
       "    <tr style=\"text-align: right;\">\n",
       "      <th></th>\n",
       "      <th>description</th>\n",
       "      <th>displaySymbol</th>\n",
       "      <th>symbol</th>\n",
       "      <th>p1</th>\n",
       "      <th>a</th>\n",
       "      <th>b</th>\n",
       "      <th>score</th>\n",
       "    </tr>\n",
       "  </thead>\n",
       "  <tbody>\n",
       "    <tr>\n",
       "      <th>0</th>\n",
       "      <td>FEDERAL AGRIC MTG CORP-CL A</td>\n",
       "      <td>AGM.A</td>\n",
       "      <td>AGM.A</td>\n",
       "      <td>AGM</td>\n",
       "      <td>FEDERAL AGRIC MTG CORP-CL A</td>\n",
       "      <td>FEDERAL AGRIC MTG CORP-CL C</td>\n",
       "      <td>96</td>\n",
       "    </tr>\n",
       "    <tr>\n",
       "      <th>1</th>\n",
       "      <td>FEDERAL AGRIC MTG CORP-CL C</td>\n",
       "      <td>AGM</td>\n",
       "      <td>AGM</td>\n",
       "      <td>AGM</td>\n",
       "      <td>FEDERAL AGRIC MTG CORP-CL C</td>\n",
       "      <td>FEDERAL AGRIC MTG CORP-CL A</td>\n",
       "      <td>96</td>\n",
       "    </tr>\n",
       "    <tr>\n",
       "      <th>2</th>\n",
       "      <td>EMBOTELLADORA ANDINA-ADR A</td>\n",
       "      <td>AKO.A</td>\n",
       "      <td>AKO.A</td>\n",
       "      <td>AKO</td>\n",
       "      <td>EMBOTELLADORA ANDINA-ADR A</td>\n",
       "      <td>EMBOTELLADORA ANDINA-ADR B</td>\n",
       "      <td>96</td>\n",
       "    </tr>\n",
       "    <tr>\n",
       "      <th>3</th>\n",
       "      <td>EMBOTELLADORA ANDINA-ADR B</td>\n",
       "      <td>AKO.B</td>\n",
       "      <td>AKO.B</td>\n",
       "      <td>AKO</td>\n",
       "      <td>EMBOTELLADORA ANDINA-ADR B</td>\n",
       "      <td>EMBOTELLADORA ANDINA-ADR A</td>\n",
       "      <td>96</td>\n",
       "    </tr>\n",
       "    <tr>\n",
       "      <th>4</th>\n",
       "      <td>ASTRAZENECA PLC</td>\n",
       "      <td>AZN.L</td>\n",
       "      <td>AZN.L</td>\n",
       "      <td>AZN</td>\n",
       "      <td>ASTRAZENECA PLC</td>\n",
       "      <td>ASTRAZENECA PLC-SPONS ADR</td>\n",
       "      <td>90</td>\n",
       "    </tr>\n",
       "    <tr>\n",
       "      <th>...</th>\n",
       "      <td>...</td>\n",
       "      <td>...</td>\n",
       "      <td>...</td>\n",
       "      <td>...</td>\n",
       "      <td>...</td>\n",
       "      <td>...</td>\n",
       "      <td>...</td>\n",
       "    </tr>\n",
       "    <tr>\n",
       "      <th>66</th>\n",
       "      <td>VODAFONE GROUP PLC-SP ADR</td>\n",
       "      <td>VOD</td>\n",
       "      <td>VOD</td>\n",
       "      <td>VOD</td>\n",
       "      <td>VODAFONE GROUP PLC-SP ADR</td>\n",
       "      <td>VODAFONE GROUP PLC</td>\n",
       "      <td>95</td>\n",
       "    </tr>\n",
       "    <tr>\n",
       "      <th>67</th>\n",
       "      <td>WPP PLC</td>\n",
       "      <td>WPP.L</td>\n",
       "      <td>WPP.L</td>\n",
       "      <td>WPP</td>\n",
       "      <td>WPP PLC</td>\n",
       "      <td>WPP PLC-SPONSORED ADR</td>\n",
       "      <td>90</td>\n",
       "    </tr>\n",
       "    <tr>\n",
       "      <th>68</th>\n",
       "      <td>WPP PLC-SPONSORED ADR</td>\n",
       "      <td>WPP</td>\n",
       "      <td>WPP</td>\n",
       "      <td>WPP</td>\n",
       "      <td>WPP PLC-SPONSORED ADR</td>\n",
       "      <td>WPP PLC</td>\n",
       "      <td>90</td>\n",
       "    </tr>\n",
       "    <tr>\n",
       "      <th>69</th>\n",
       "      <td>WATSCO INC</td>\n",
       "      <td>WSO</td>\n",
       "      <td>WSO</td>\n",
       "      <td>WSO</td>\n",
       "      <td>WATSCO INC</td>\n",
       "      <td>WATSCO INC  -CL B</td>\n",
       "      <td>90</td>\n",
       "    </tr>\n",
       "    <tr>\n",
       "      <th>70</th>\n",
       "      <td>WATSCO INC  -CL B</td>\n",
       "      <td>WSO.B</td>\n",
       "      <td>WSO.B</td>\n",
       "      <td>WSO</td>\n",
       "      <td>WATSCO INC  -CL B</td>\n",
       "      <td>WATSCO INC</td>\n",
       "      <td>90</td>\n",
       "    </tr>\n",
       "  </tbody>\n",
       "</table>\n",
       "<p>71 rows × 7 columns</p>\n",
       "</div>"
      ],
      "text/plain": [
       "                    description displaySymbol symbol   p1  \\\n",
       "0   FEDERAL AGRIC MTG CORP-CL A         AGM.A  AGM.A  AGM   \n",
       "1   FEDERAL AGRIC MTG CORP-CL C           AGM    AGM  AGM   \n",
       "2    EMBOTELLADORA ANDINA-ADR A         AKO.A  AKO.A  AKO   \n",
       "3    EMBOTELLADORA ANDINA-ADR B         AKO.B  AKO.B  AKO   \n",
       "4               ASTRAZENECA PLC         AZN.L  AZN.L  AZN   \n",
       "..                          ...           ...    ...  ...   \n",
       "66    VODAFONE GROUP PLC-SP ADR           VOD    VOD  VOD   \n",
       "67                      WPP PLC         WPP.L  WPP.L  WPP   \n",
       "68        WPP PLC-SPONSORED ADR           WPP    WPP  WPP   \n",
       "69                   WATSCO INC           WSO    WSO  WSO   \n",
       "70            WATSCO INC  -CL B         WSO.B  WSO.B  WSO   \n",
       "\n",
       "                              a                            b  score  \n",
       "0   FEDERAL AGRIC MTG CORP-CL A  FEDERAL AGRIC MTG CORP-CL C     96  \n",
       "1   FEDERAL AGRIC MTG CORP-CL C  FEDERAL AGRIC MTG CORP-CL A     96  \n",
       "2    EMBOTELLADORA ANDINA-ADR A   EMBOTELLADORA ANDINA-ADR B     96  \n",
       "3    EMBOTELLADORA ANDINA-ADR B   EMBOTELLADORA ANDINA-ADR A     96  \n",
       "4               ASTRAZENECA PLC    ASTRAZENECA PLC-SPONS ADR     90  \n",
       "..                          ...                          ...    ...  \n",
       "66    VODAFONE GROUP PLC-SP ADR           VODAFONE GROUP PLC     95  \n",
       "67                      WPP PLC        WPP PLC-SPONSORED ADR     90  \n",
       "68        WPP PLC-SPONSORED ADR                      WPP PLC     90  \n",
       "69                   WATSCO INC            WATSCO INC  -CL B     90  \n",
       "70            WATSCO INC  -CL B                   WATSCO INC     90  \n",
       "\n",
       "[71 rows x 7 columns]"
      ]
     },
     "execution_count": 225,
     "metadata": {},
     "output_type": "execute_result"
    }
   ],
   "source": [
    "dataframe"
   ]
  },
  {
   "cell_type": "code",
   "execution_count": 226,
   "metadata": {},
   "outputs": [],
   "source": [
    "val = [elem for elem in dataframe['description'].values if '-' in elem]"
   ]
  },
  {
   "cell_type": "code",
   "execution_count": 227,
   "metadata": {},
   "outputs": [
    {
     "data": {
      "text/html": [
       "<div>\n",
       "<style scoped>\n",
       "    .dataframe tbody tr th:only-of-type {\n",
       "        vertical-align: middle;\n",
       "    }\n",
       "\n",
       "    .dataframe tbody tr th {\n",
       "        vertical-align: top;\n",
       "    }\n",
       "\n",
       "    .dataframe thead th {\n",
       "        text-align: right;\n",
       "    }\n",
       "</style>\n",
       "<table border=\"1\" class=\"dataframe\">\n",
       "  <thead>\n",
       "    <tr style=\"text-align: right;\">\n",
       "      <th></th>\n",
       "      <th>description</th>\n",
       "      <th>displaySymbol</th>\n",
       "      <th>symbol</th>\n",
       "      <th>p1</th>\n",
       "      <th>a</th>\n",
       "      <th>b</th>\n",
       "      <th>score</th>\n",
       "    </tr>\n",
       "  </thead>\n",
       "  <tbody>\n",
       "    <tr>\n",
       "      <th>0</th>\n",
       "      <td>FEDERAL AGRIC MTG CORP-CL A</td>\n",
       "      <td>AGM.A</td>\n",
       "      <td>AGM.A</td>\n",
       "      <td>AGM</td>\n",
       "      <td>FEDERAL AGRIC MTG CORP-CL A</td>\n",
       "      <td>FEDERAL AGRIC MTG CORP-CL C</td>\n",
       "      <td>96</td>\n",
       "    </tr>\n",
       "    <tr>\n",
       "      <th>1</th>\n",
       "      <td>FEDERAL AGRIC MTG CORP-CL C</td>\n",
       "      <td>AGM</td>\n",
       "      <td>AGM</td>\n",
       "      <td>AGM</td>\n",
       "      <td>FEDERAL AGRIC MTG CORP-CL C</td>\n",
       "      <td>FEDERAL AGRIC MTG CORP-CL A</td>\n",
       "      <td>96</td>\n",
       "    </tr>\n",
       "    <tr>\n",
       "      <th>2</th>\n",
       "      <td>EMBOTELLADORA ANDINA-ADR A</td>\n",
       "      <td>AKO.A</td>\n",
       "      <td>AKO.A</td>\n",
       "      <td>AKO</td>\n",
       "      <td>EMBOTELLADORA ANDINA-ADR A</td>\n",
       "      <td>EMBOTELLADORA ANDINA-ADR B</td>\n",
       "      <td>96</td>\n",
       "    </tr>\n",
       "    <tr>\n",
       "      <th>3</th>\n",
       "      <td>EMBOTELLADORA ANDINA-ADR B</td>\n",
       "      <td>AKO.B</td>\n",
       "      <td>AKO.B</td>\n",
       "      <td>AKO</td>\n",
       "      <td>EMBOTELLADORA ANDINA-ADR B</td>\n",
       "      <td>EMBOTELLADORA ANDINA-ADR A</td>\n",
       "      <td>96</td>\n",
       "    </tr>\n",
       "    <tr>\n",
       "      <th>5</th>\n",
       "      <td>ASTRAZENECA PLC-SPONS ADR</td>\n",
       "      <td>AZN</td>\n",
       "      <td>AZN</td>\n",
       "      <td>AZN</td>\n",
       "      <td>ASTRAZENECA PLC-SPONS ADR</td>\n",
       "      <td>ASTRAZENECA PLC</td>\n",
       "      <td>90</td>\n",
       "    </tr>\n",
       "    <tr>\n",
       "      <th>7</th>\n",
       "      <td>BROWN-FORMAN CORP-CLASS B</td>\n",
       "      <td>BF.B</td>\n",
       "      <td>BF.B</td>\n",
       "      <td>BF</td>\n",
       "      <td>BROWN-FORMAN CORP-CLASS B</td>\n",
       "      <td>BROWN-FORMAN CORP-CLASS A</td>\n",
       "      <td>96</td>\n",
       "    </tr>\n",
       "    <tr>\n",
       "      <th>8</th>\n",
       "      <td>BROWN-FORMAN CORP-CLASS A</td>\n",
       "      <td>BF.A</td>\n",
       "      <td>BF.A</td>\n",
       "      <td>BF</td>\n",
       "      <td>BROWN-FORMAN CORP-CLASS A</td>\n",
       "      <td>BROWN-FORMAN CORP-CLASS B</td>\n",
       "      <td>96</td>\n",
       "    </tr>\n",
       "    <tr>\n",
       "      <th>9</th>\n",
       "      <td>BIGLARI HOLDINGS INC-B</td>\n",
       "      <td>BH</td>\n",
       "      <td>BH</td>\n",
       "      <td>BH</td>\n",
       "      <td>BIGLARI HOLDINGS INC-B</td>\n",
       "      <td>BIGLARI HOLDINGS INC-A</td>\n",
       "      <td>95</td>\n",
       "    </tr>\n",
       "    <tr>\n",
       "      <th>10</th>\n",
       "      <td>BIGLARI HOLDINGS INC-A</td>\n",
       "      <td>BH.A</td>\n",
       "      <td>BH.A</td>\n",
       "      <td>BH</td>\n",
       "      <td>BIGLARI HOLDINGS INC-A</td>\n",
       "      <td>BIGLARI HOLDINGS INC-B</td>\n",
       "      <td>95</td>\n",
       "    </tr>\n",
       "    <tr>\n",
       "      <th>11</th>\n",
       "      <td>BIO-RAD LABORATORIES-A</td>\n",
       "      <td>BIO</td>\n",
       "      <td>BIO</td>\n",
       "      <td>BIO</td>\n",
       "      <td>BIO-RAD LABORATORIES-A</td>\n",
       "      <td>BIO-RAD LABORATORIES -CL B</td>\n",
       "      <td>90</td>\n",
       "    </tr>\n",
       "    <tr>\n",
       "      <th>12</th>\n",
       "      <td>BIO-RAD LABORATORIES -CL B</td>\n",
       "      <td>BIO.B</td>\n",
       "      <td>BIO.B</td>\n",
       "      <td>BIO</td>\n",
       "      <td>BIO-RAD LABORATORIES -CL B</td>\n",
       "      <td>BIO-RAD LABORATORIES-A</td>\n",
       "      <td>90</td>\n",
       "    </tr>\n",
       "    <tr>\n",
       "      <th>17</th>\n",
       "      <td>BERKSHIRE HATHAWAY INC-CL A</td>\n",
       "      <td>BRK.A</td>\n",
       "      <td>BRK.A</td>\n",
       "      <td>BRK</td>\n",
       "      <td>BERKSHIRE HATHAWAY INC-CL A</td>\n",
       "      <td>BERKSHIRE HATHAWAY INC-CL B</td>\n",
       "      <td>96</td>\n",
       "    </tr>\n",
       "    <tr>\n",
       "      <th>18</th>\n",
       "      <td>BERKSHIRE HATHAWAY INC-CL B</td>\n",
       "      <td>BRK.B</td>\n",
       "      <td>BRK.B</td>\n",
       "      <td>BRK</td>\n",
       "      <td>BERKSHIRE HATHAWAY INC-CL B</td>\n",
       "      <td>BERKSHIRE HATHAWAY INC-CL A</td>\n",
       "      <td>96</td>\n",
       "    </tr>\n",
       "    <tr>\n",
       "      <th>19</th>\n",
       "      <td>COCA-COLA EUROPEAN PARTNERS</td>\n",
       "      <td>CCEP</td>\n",
       "      <td>CCEP</td>\n",
       "      <td>CCEP</td>\n",
       "      <td>COCA-COLA EUROPEAN PARTNERS</td>\n",
       "      <td>COCA-COLA EUROPEAN PARTNERS PLC</td>\n",
       "      <td>95</td>\n",
       "    </tr>\n",
       "    <tr>\n",
       "      <th>20</th>\n",
       "      <td>COCA-COLA EUROPEAN PARTNERS PLC</td>\n",
       "      <td>CCEP.L</td>\n",
       "      <td>CCEP.L</td>\n",
       "      <td>CCEP</td>\n",
       "      <td>COCA-COLA EUROPEAN PARTNERS PLC</td>\n",
       "      <td>Coca-Cola European Partners plc</td>\n",
       "      <td>100</td>\n",
       "    </tr>\n",
       "    <tr>\n",
       "      <th>21</th>\n",
       "      <td>COCA-COLA EUROPEAN PARTNERS PLC</td>\n",
       "      <td>CCEP.L</td>\n",
       "      <td>CCEP.L</td>\n",
       "      <td>CCEP</td>\n",
       "      <td>COCA-COLA EUROPEAN PARTNERS PLC</td>\n",
       "      <td>Coca-Cola European Partners plc</td>\n",
       "      <td>100</td>\n",
       "    </tr>\n",
       "    <tr>\n",
       "      <th>22</th>\n",
       "      <td>CLEARWAY ENERGY INC-A</td>\n",
       "      <td>CWEN.A</td>\n",
       "      <td>CWEN.A</td>\n",
       "      <td>CWEN</td>\n",
       "      <td>CLEARWAY ENERGY INC-A</td>\n",
       "      <td>CLEARWAY ENERGY INC-C</td>\n",
       "      <td>95</td>\n",
       "    </tr>\n",
       "    <tr>\n",
       "      <th>23</th>\n",
       "      <td>CLEARWAY ENERGY INC-C</td>\n",
       "      <td>CWEN</td>\n",
       "      <td>CWEN</td>\n",
       "      <td>CWEN</td>\n",
       "      <td>CLEARWAY ENERGY INC-C</td>\n",
       "      <td>CLEARWAY ENERGY INC-A</td>\n",
       "      <td>95</td>\n",
       "    </tr>\n",
       "    <tr>\n",
       "      <th>28</th>\n",
       "      <td>GREIF INC-CL A</td>\n",
       "      <td>GEF</td>\n",
       "      <td>GEF</td>\n",
       "      <td>GEF</td>\n",
       "      <td>GREIF INC-CL A</td>\n",
       "      <td>GREIF INC-CL B</td>\n",
       "      <td>93</td>\n",
       "    </tr>\n",
       "    <tr>\n",
       "      <th>29</th>\n",
       "      <td>GREIF INC-CL B</td>\n",
       "      <td>GEF.B</td>\n",
       "      <td>GEF.B</td>\n",
       "      <td>GEF</td>\n",
       "      <td>GREIF INC-CL B</td>\n",
       "      <td>GREIF INC-CL A</td>\n",
       "      <td>93</td>\n",
       "    </tr>\n",
       "    <tr>\n",
       "      <th>32</th>\n",
       "      <td>GLAXOSMITHKLINE PLC-SPON ADR</td>\n",
       "      <td>GSK</td>\n",
       "      <td>GSK</td>\n",
       "      <td>GSK</td>\n",
       "      <td>GLAXOSMITHKLINE PLC-SPON ADR</td>\n",
       "      <td>GLAXOSMITHKLINE PLC</td>\n",
       "      <td>95</td>\n",
       "    </tr>\n",
       "    <tr>\n",
       "      <th>37</th>\n",
       "      <td>GRAY TELEVISION INC-A</td>\n",
       "      <td>GTN.A</td>\n",
       "      <td>GTN.A</td>\n",
       "      <td>GTN</td>\n",
       "      <td>GRAY TELEVISION INC-A</td>\n",
       "      <td>GRAY TELEVISION INC</td>\n",
       "      <td>95</td>\n",
       "    </tr>\n",
       "    <tr>\n",
       "      <th>39</th>\n",
       "      <td>HEICO CORP-CLASS A</td>\n",
       "      <td>HEI.A</td>\n",
       "      <td>HEI.A</td>\n",
       "      <td>HEI</td>\n",
       "      <td>HEICO CORP-CLASS A</td>\n",
       "      <td>HEICO CORP</td>\n",
       "      <td>90</td>\n",
       "    </tr>\n",
       "    <tr>\n",
       "      <th>40</th>\n",
       "      <td>HAVERTY FURNITURE COS-CL A</td>\n",
       "      <td>HVT.A</td>\n",
       "      <td>HVT.A</td>\n",
       "      <td>HVT</td>\n",
       "      <td>HAVERTY FURNITURE COS-CL A</td>\n",
       "      <td>HAVERTY FURNITURE</td>\n",
       "      <td>90</td>\n",
       "    </tr>\n",
       "    <tr>\n",
       "      <th>46</th>\n",
       "      <td>WILEY (JOHN) &amp; SONS-CL B</td>\n",
       "      <td>JW.B</td>\n",
       "      <td>JW.B</td>\n",
       "      <td>JW</td>\n",
       "      <td>WILEY (JOHN) &amp; SONS-CL B</td>\n",
       "      <td>WILEY (JOHN) &amp; SONS-CLASS A</td>\n",
       "      <td>90</td>\n",
       "    </tr>\n",
       "    <tr>\n",
       "      <th>47</th>\n",
       "      <td>WILEY (JOHN) &amp; SONS-CLASS A</td>\n",
       "      <td>JW.A</td>\n",
       "      <td>JW.A</td>\n",
       "      <td>JW</td>\n",
       "      <td>WILEY (JOHN) &amp; SONS-CLASS A</td>\n",
       "      <td>WILEY (JOHN) &amp; SONS-CL B</td>\n",
       "      <td>90</td>\n",
       "    </tr>\n",
       "    <tr>\n",
       "      <th>48</th>\n",
       "      <td>LIONS GATE ENTERTAINMENT-B</td>\n",
       "      <td>LGF.B</td>\n",
       "      <td>LGF.B</td>\n",
       "      <td>LGF</td>\n",
       "      <td>LIONS GATE ENTERTAINMENT-B</td>\n",
       "      <td>LIONS GATE ENTERTAINMENT-A</td>\n",
       "      <td>96</td>\n",
       "    </tr>\n",
       "    <tr>\n",
       "      <th>49</th>\n",
       "      <td>LIONS GATE ENTERTAINMENT-A</td>\n",
       "      <td>LGF.A</td>\n",
       "      <td>LGF.A</td>\n",
       "      <td>LGF</td>\n",
       "      <td>LIONS GATE ENTERTAINMENT-A</td>\n",
       "      <td>LIONS GATE ENTERTAINMENT-B</td>\n",
       "      <td>96</td>\n",
       "    </tr>\n",
       "    <tr>\n",
       "      <th>50</th>\n",
       "      <td>MOOG INC-CLASS A</td>\n",
       "      <td>MOG.A</td>\n",
       "      <td>MOG.A</td>\n",
       "      <td>MOG</td>\n",
       "      <td>MOOG INC-CLASS A</td>\n",
       "      <td>MOOG INC-CLASS B</td>\n",
       "      <td>94</td>\n",
       "    </tr>\n",
       "    <tr>\n",
       "      <th>51</th>\n",
       "      <td>MOOG INC-CLASS B</td>\n",
       "      <td>MOG.B</td>\n",
       "      <td>MOG.B</td>\n",
       "      <td>MOG</td>\n",
       "      <td>MOOG INC-CLASS B</td>\n",
       "      <td>MOOG INC-CLASS A</td>\n",
       "      <td>94</td>\n",
       "    </tr>\n",
       "    <tr>\n",
       "      <th>53</th>\n",
       "      <td>ROYAL DUTCH SHELL-SPON ADR-A</td>\n",
       "      <td>RDS.A</td>\n",
       "      <td>RDS.A</td>\n",
       "      <td>RDS</td>\n",
       "      <td>ROYAL DUTCH SHELL-SPON ADR-A</td>\n",
       "      <td>ROYAL DUTCH SHELL-SPON ADR-B</td>\n",
       "      <td>96</td>\n",
       "    </tr>\n",
       "    <tr>\n",
       "      <th>54</th>\n",
       "      <td>ROYAL DUTCH SHELL-SPON ADR-B</td>\n",
       "      <td>RDS.B</td>\n",
       "      <td>RDS.B</td>\n",
       "      <td>RDS</td>\n",
       "      <td>ROYAL DUTCH SHELL-SPON ADR-B</td>\n",
       "      <td>ROYAL DUTCH SHELL-SPON ADR-A</td>\n",
       "      <td>96</td>\n",
       "    </tr>\n",
       "    <tr>\n",
       "      <th>56</th>\n",
       "      <td>RIO TINTO PLC-SPON ADR</td>\n",
       "      <td>RIO</td>\n",
       "      <td>RIO</td>\n",
       "      <td>RIO</td>\n",
       "      <td>RIO TINTO PLC-SPON ADR</td>\n",
       "      <td>RIO TINTO PLC</td>\n",
       "      <td>90</td>\n",
       "    </tr>\n",
       "    <tr>\n",
       "      <th>57</th>\n",
       "      <td>BANCO SANTANDER SA-SPON ADR</td>\n",
       "      <td>SAN</td>\n",
       "      <td>SAN</td>\n",
       "      <td>SAN</td>\n",
       "      <td>BANCO SANTANDER SA-SPON ADR</td>\n",
       "      <td>Banco Santander SA</td>\n",
       "      <td>90</td>\n",
       "    </tr>\n",
       "    <tr>\n",
       "      <th>59</th>\n",
       "      <td>CONSTELLATION BRANDS INC-A</td>\n",
       "      <td>STZ</td>\n",
       "      <td>STZ</td>\n",
       "      <td>STZ</td>\n",
       "      <td>CONSTELLATION BRANDS INC-A</td>\n",
       "      <td>CONSTELLATION BRANDS INC-B</td>\n",
       "      <td>96</td>\n",
       "    </tr>\n",
       "    <tr>\n",
       "      <th>60</th>\n",
       "      <td>CONSTELLATION BRANDS INC-B</td>\n",
       "      <td>STZ.B</td>\n",
       "      <td>STZ.B</td>\n",
       "      <td>STZ</td>\n",
       "      <td>CONSTELLATION BRANDS INC-B</td>\n",
       "      <td>CONSTELLATION BRANDS INC-A</td>\n",
       "      <td>96</td>\n",
       "    </tr>\n",
       "    <tr>\n",
       "      <th>61</th>\n",
       "      <td>MOLSON COORS BEVERAGE CO - B</td>\n",
       "      <td>TAP</td>\n",
       "      <td>TAP</td>\n",
       "      <td>TAP</td>\n",
       "      <td>MOLSON COORS BEVERAGE CO - B</td>\n",
       "      <td>MOLSON COORS BEVERAGE CO - A</td>\n",
       "      <td>96</td>\n",
       "    </tr>\n",
       "    <tr>\n",
       "      <th>62</th>\n",
       "      <td>MOLSON COORS BEVERAGE CO - A</td>\n",
       "      <td>TAP.A</td>\n",
       "      <td>TAP.A</td>\n",
       "      <td>TAP</td>\n",
       "      <td>MOLSON COORS BEVERAGE CO - A</td>\n",
       "      <td>MOLSON COORS BEVERAGE CO - B</td>\n",
       "      <td>96</td>\n",
       "    </tr>\n",
       "    <tr>\n",
       "      <th>64</th>\n",
       "      <td>TELEFONICA SA-SPON ADR</td>\n",
       "      <td>TEF</td>\n",
       "      <td>TEF</td>\n",
       "      <td>TEF</td>\n",
       "      <td>TELEFONICA SA-SPON ADR</td>\n",
       "      <td>Telefonica SA</td>\n",
       "      <td>90</td>\n",
       "    </tr>\n",
       "    <tr>\n",
       "      <th>66</th>\n",
       "      <td>VODAFONE GROUP PLC-SP ADR</td>\n",
       "      <td>VOD</td>\n",
       "      <td>VOD</td>\n",
       "      <td>VOD</td>\n",
       "      <td>VODAFONE GROUP PLC-SP ADR</td>\n",
       "      <td>VODAFONE GROUP PLC</td>\n",
       "      <td>95</td>\n",
       "    </tr>\n",
       "    <tr>\n",
       "      <th>68</th>\n",
       "      <td>WPP PLC-SPONSORED ADR</td>\n",
       "      <td>WPP</td>\n",
       "      <td>WPP</td>\n",
       "      <td>WPP</td>\n",
       "      <td>WPP PLC-SPONSORED ADR</td>\n",
       "      <td>WPP PLC</td>\n",
       "      <td>90</td>\n",
       "    </tr>\n",
       "    <tr>\n",
       "      <th>70</th>\n",
       "      <td>WATSCO INC  -CL B</td>\n",
       "      <td>WSO.B</td>\n",
       "      <td>WSO.B</td>\n",
       "      <td>WSO</td>\n",
       "      <td>WATSCO INC  -CL B</td>\n",
       "      <td>WATSCO INC</td>\n",
       "      <td>90</td>\n",
       "    </tr>\n",
       "  </tbody>\n",
       "</table>\n",
       "</div>"
      ],
      "text/plain": [
       "                        description displaySymbol  symbol    p1  \\\n",
       "0       FEDERAL AGRIC MTG CORP-CL A         AGM.A   AGM.A   AGM   \n",
       "1       FEDERAL AGRIC MTG CORP-CL C           AGM     AGM   AGM   \n",
       "2        EMBOTELLADORA ANDINA-ADR A         AKO.A   AKO.A   AKO   \n",
       "3        EMBOTELLADORA ANDINA-ADR B         AKO.B   AKO.B   AKO   \n",
       "5         ASTRAZENECA PLC-SPONS ADR           AZN     AZN   AZN   \n",
       "7         BROWN-FORMAN CORP-CLASS B          BF.B    BF.B    BF   \n",
       "8         BROWN-FORMAN CORP-CLASS A          BF.A    BF.A    BF   \n",
       "9            BIGLARI HOLDINGS INC-B            BH      BH    BH   \n",
       "10           BIGLARI HOLDINGS INC-A          BH.A    BH.A    BH   \n",
       "11           BIO-RAD LABORATORIES-A           BIO     BIO   BIO   \n",
       "12       BIO-RAD LABORATORIES -CL B         BIO.B   BIO.B   BIO   \n",
       "17      BERKSHIRE HATHAWAY INC-CL A         BRK.A   BRK.A   BRK   \n",
       "18      BERKSHIRE HATHAWAY INC-CL B         BRK.B   BRK.B   BRK   \n",
       "19      COCA-COLA EUROPEAN PARTNERS          CCEP    CCEP  CCEP   \n",
       "20  COCA-COLA EUROPEAN PARTNERS PLC        CCEP.L  CCEP.L  CCEP   \n",
       "21  COCA-COLA EUROPEAN PARTNERS PLC        CCEP.L  CCEP.L  CCEP   \n",
       "22            CLEARWAY ENERGY INC-A        CWEN.A  CWEN.A  CWEN   \n",
       "23            CLEARWAY ENERGY INC-C          CWEN    CWEN  CWEN   \n",
       "28                   GREIF INC-CL A           GEF     GEF   GEF   \n",
       "29                   GREIF INC-CL B         GEF.B   GEF.B   GEF   \n",
       "32     GLAXOSMITHKLINE PLC-SPON ADR           GSK     GSK   GSK   \n",
       "37            GRAY TELEVISION INC-A         GTN.A   GTN.A   GTN   \n",
       "39               HEICO CORP-CLASS A         HEI.A   HEI.A   HEI   \n",
       "40       HAVERTY FURNITURE COS-CL A         HVT.A   HVT.A   HVT   \n",
       "46         WILEY (JOHN) & SONS-CL B          JW.B    JW.B    JW   \n",
       "47      WILEY (JOHN) & SONS-CLASS A          JW.A    JW.A    JW   \n",
       "48       LIONS GATE ENTERTAINMENT-B         LGF.B   LGF.B   LGF   \n",
       "49       LIONS GATE ENTERTAINMENT-A         LGF.A   LGF.A   LGF   \n",
       "50                 MOOG INC-CLASS A         MOG.A   MOG.A   MOG   \n",
       "51                 MOOG INC-CLASS B         MOG.B   MOG.B   MOG   \n",
       "53     ROYAL DUTCH SHELL-SPON ADR-A         RDS.A   RDS.A   RDS   \n",
       "54     ROYAL DUTCH SHELL-SPON ADR-B         RDS.B   RDS.B   RDS   \n",
       "56           RIO TINTO PLC-SPON ADR           RIO     RIO   RIO   \n",
       "57      BANCO SANTANDER SA-SPON ADR           SAN     SAN   SAN   \n",
       "59       CONSTELLATION BRANDS INC-A           STZ     STZ   STZ   \n",
       "60       CONSTELLATION BRANDS INC-B         STZ.B   STZ.B   STZ   \n",
       "61     MOLSON COORS BEVERAGE CO - B           TAP     TAP   TAP   \n",
       "62     MOLSON COORS BEVERAGE CO - A         TAP.A   TAP.A   TAP   \n",
       "64           TELEFONICA SA-SPON ADR           TEF     TEF   TEF   \n",
       "66        VODAFONE GROUP PLC-SP ADR           VOD     VOD   VOD   \n",
       "68            WPP PLC-SPONSORED ADR           WPP     WPP   WPP   \n",
       "70                WATSCO INC  -CL B         WSO.B   WSO.B   WSO   \n",
       "\n",
       "                                  a                                b  score  \n",
       "0       FEDERAL AGRIC MTG CORP-CL A      FEDERAL AGRIC MTG CORP-CL C     96  \n",
       "1       FEDERAL AGRIC MTG CORP-CL C      FEDERAL AGRIC MTG CORP-CL A     96  \n",
       "2        EMBOTELLADORA ANDINA-ADR A       EMBOTELLADORA ANDINA-ADR B     96  \n",
       "3        EMBOTELLADORA ANDINA-ADR B       EMBOTELLADORA ANDINA-ADR A     96  \n",
       "5         ASTRAZENECA PLC-SPONS ADR                  ASTRAZENECA PLC     90  \n",
       "7         BROWN-FORMAN CORP-CLASS B        BROWN-FORMAN CORP-CLASS A     96  \n",
       "8         BROWN-FORMAN CORP-CLASS A        BROWN-FORMAN CORP-CLASS B     96  \n",
       "9            BIGLARI HOLDINGS INC-B           BIGLARI HOLDINGS INC-A     95  \n",
       "10           BIGLARI HOLDINGS INC-A           BIGLARI HOLDINGS INC-B     95  \n",
       "11           BIO-RAD LABORATORIES-A       BIO-RAD LABORATORIES -CL B     90  \n",
       "12       BIO-RAD LABORATORIES -CL B           BIO-RAD LABORATORIES-A     90  \n",
       "17      BERKSHIRE HATHAWAY INC-CL A      BERKSHIRE HATHAWAY INC-CL B     96  \n",
       "18      BERKSHIRE HATHAWAY INC-CL B      BERKSHIRE HATHAWAY INC-CL A     96  \n",
       "19      COCA-COLA EUROPEAN PARTNERS  COCA-COLA EUROPEAN PARTNERS PLC     95  \n",
       "20  COCA-COLA EUROPEAN PARTNERS PLC  Coca-Cola European Partners plc    100  \n",
       "21  COCA-COLA EUROPEAN PARTNERS PLC  Coca-Cola European Partners plc    100  \n",
       "22            CLEARWAY ENERGY INC-A            CLEARWAY ENERGY INC-C     95  \n",
       "23            CLEARWAY ENERGY INC-C            CLEARWAY ENERGY INC-A     95  \n",
       "28                   GREIF INC-CL A                   GREIF INC-CL B     93  \n",
       "29                   GREIF INC-CL B                   GREIF INC-CL A     93  \n",
       "32     GLAXOSMITHKLINE PLC-SPON ADR              GLAXOSMITHKLINE PLC     95  \n",
       "37            GRAY TELEVISION INC-A              GRAY TELEVISION INC     95  \n",
       "39               HEICO CORP-CLASS A                       HEICO CORP     90  \n",
       "40       HAVERTY FURNITURE COS-CL A                HAVERTY FURNITURE     90  \n",
       "46         WILEY (JOHN) & SONS-CL B      WILEY (JOHN) & SONS-CLASS A     90  \n",
       "47      WILEY (JOHN) & SONS-CLASS A         WILEY (JOHN) & SONS-CL B     90  \n",
       "48       LIONS GATE ENTERTAINMENT-B       LIONS GATE ENTERTAINMENT-A     96  \n",
       "49       LIONS GATE ENTERTAINMENT-A       LIONS GATE ENTERTAINMENT-B     96  \n",
       "50                 MOOG INC-CLASS A                 MOOG INC-CLASS B     94  \n",
       "51                 MOOG INC-CLASS B                 MOOG INC-CLASS A     94  \n",
       "53     ROYAL DUTCH SHELL-SPON ADR-A     ROYAL DUTCH SHELL-SPON ADR-B     96  \n",
       "54     ROYAL DUTCH SHELL-SPON ADR-B     ROYAL DUTCH SHELL-SPON ADR-A     96  \n",
       "56           RIO TINTO PLC-SPON ADR                    RIO TINTO PLC     90  \n",
       "57      BANCO SANTANDER SA-SPON ADR               Banco Santander SA     90  \n",
       "59       CONSTELLATION BRANDS INC-A       CONSTELLATION BRANDS INC-B     96  \n",
       "60       CONSTELLATION BRANDS INC-B       CONSTELLATION BRANDS INC-A     96  \n",
       "61     MOLSON COORS BEVERAGE CO - B     MOLSON COORS BEVERAGE CO - A     96  \n",
       "62     MOLSON COORS BEVERAGE CO - A     MOLSON COORS BEVERAGE CO - B     96  \n",
       "64           TELEFONICA SA-SPON ADR                    Telefonica SA     90  \n",
       "66        VODAFONE GROUP PLC-SP ADR               VODAFONE GROUP PLC     95  \n",
       "68            WPP PLC-SPONSORED ADR                          WPP PLC     90  \n",
       "70                WATSCO INC  -CL B                       WATSCO INC     90  "
      ]
     },
     "execution_count": 227,
     "metadata": {},
     "output_type": "execute_result"
    }
   ],
   "source": [
    "dataframe[dataframe['description'].isin(val)]"
   ]
  },
  {
   "cell_type": "code",
   "execution_count": 229,
   "metadata": {},
   "outputs": [],
   "source": [
    "df_fin = df_tot[~df_tot['description'].isin(val)]"
   ]
  },
  {
   "cell_type": "code",
   "execution_count": 233,
   "metadata": {},
   "outputs": [
    {
     "data": {
      "text/plain": [
       "PAC      3\n",
       "BME      3\n",
       "GRF      3\n",
       "AMS      3\n",
       "COM      3\n",
       "        ..\n",
       "GRP=     1\n",
       "KCAC=    1\n",
       "CTB      1\n",
       "PAUG     1\n",
       "STEM     1\n",
       "Name: p1, Length: 9173, dtype: int64"
      ]
     },
     "execution_count": 233,
     "metadata": {},
     "output_type": "execute_result"
    }
   ],
   "source": [
    "df_fin['p1'].value_counts()"
   ]
  },
  {
   "cell_type": "code",
   "execution_count": 234,
   "metadata": {},
   "outputs": [
    {
     "data": {
      "text/html": [
       "<div>\n",
       "<style scoped>\n",
       "    .dataframe tbody tr th:only-of-type {\n",
       "        vertical-align: middle;\n",
       "    }\n",
       "\n",
       "    .dataframe tbody tr th {\n",
       "        vertical-align: top;\n",
       "    }\n",
       "\n",
       "    .dataframe thead th {\n",
       "        text-align: right;\n",
       "    }\n",
       "</style>\n",
       "<table border=\"1\" class=\"dataframe\">\n",
       "  <thead>\n",
       "    <tr style=\"text-align: right;\">\n",
       "      <th></th>\n",
       "      <th>description</th>\n",
       "      <th>displaySymbol</th>\n",
       "      <th>symbol</th>\n",
       "      <th>p1</th>\n",
       "    </tr>\n",
       "  </thead>\n",
       "  <tbody>\n",
       "    <tr>\n",
       "      <th>123</th>\n",
       "      <td>Papeles y Cartones de Europa SA</td>\n",
       "      <td>PAC.MC</td>\n",
       "      <td>PAC.MC</td>\n",
       "      <td>PAC</td>\n",
       "    </tr>\n",
       "    <tr>\n",
       "      <th>2901</th>\n",
       "      <td>PACIFIC ASSETS TRUST PLC</td>\n",
       "      <td>PAC.L</td>\n",
       "      <td>PAC.L</td>\n",
       "      <td>PAC</td>\n",
       "    </tr>\n",
       "    <tr>\n",
       "      <th>10286</th>\n",
       "      <td>GRUPO AEROPORTUARIO PAC-ADR</td>\n",
       "      <td>PAC</td>\n",
       "      <td>PAC</td>\n",
       "      <td>PAC</td>\n",
       "    </tr>\n",
       "  </tbody>\n",
       "</table>\n",
       "</div>"
      ],
      "text/plain": [
       "                           description displaySymbol  symbol   p1\n",
       "123    Papeles y Cartones de Europa SA        PAC.MC  PAC.MC  PAC\n",
       "2901          PACIFIC ASSETS TRUST PLC         PAC.L   PAC.L  PAC\n",
       "10286      GRUPO AEROPORTUARIO PAC-ADR           PAC     PAC  PAC"
      ]
     },
     "execution_count": 234,
     "metadata": {},
     "output_type": "execute_result"
    }
   ],
   "source": [
    "df_fin[df_fin['p1'] == 'PAC']"
   ]
  },
  {
   "cell_type": "code",
   "execution_count": 235,
   "metadata": {},
   "outputs": [],
   "source": [
    "v = df_fin['description'].values"
   ]
  },
  {
   "cell_type": "code",
   "execution_count": 238,
   "metadata": {},
   "outputs": [
    {
     "data": {
      "text/plain": [
       "8407"
      ]
     },
     "execution_count": 238,
     "metadata": {},
     "output_type": "execute_result"
    }
   ],
   "source": [
    "len([e for e in v if '-' not in e])"
   ]
  },
  {
   "cell_type": "code",
   "execution_count": 240,
   "metadata": {},
   "outputs": [
    {
     "data": {
      "text/plain": [
       "CDE        1\n",
       "LDOS       1\n",
       "SINO       1\n",
       "LZB        1\n",
       "WIT        1\n",
       "          ..\n",
       "EARS       1\n",
       "EVK        1\n",
       "AFSM       1\n",
       "IYW        1\n",
       "SGRE.MC    1\n",
       "Name: symbol, Length: 9641, dtype: int64"
      ]
     },
     "execution_count": 240,
     "metadata": {},
     "output_type": "execute_result"
    }
   ],
   "source": [
    "df_fin['symbol'].value_counts()"
   ]
  },
  {
   "cell_type": "code",
   "execution_count": 242,
   "metadata": {},
   "outputs": [
    {
     "data": {
      "text/plain": [
       "True"
      ]
     },
     "execution_count": 242,
     "metadata": {},
     "output_type": "execute_result"
    }
   ],
   "source": [
    "'AMZN' in df_fin['symbol'].values"
   ]
  },
  {
   "cell_type": "code",
   "execution_count": 253,
   "metadata": {},
   "outputs": [],
   "source": [
    "data = df_fin[['description', 'symbol']].reset_index(drop=True)"
   ]
  },
  {
   "cell_type": "code",
   "execution_count": 254,
   "metadata": {},
   "outputs": [],
   "source": [
    "data = data[~data['description'].str.endswith('USD')]"
   ]
  },
  {
   "cell_type": "code",
   "execution_count": 255,
   "metadata": {},
   "outputs": [],
   "source": [
    "data = data[~data['description'].str.endswith('CLASS A')]"
   ]
  },
  {
   "cell_type": "code",
   "execution_count": 260,
   "metadata": {},
   "outputs": [],
   "source": [
    "data = data.reset_index(drop=True)"
   ]
  },
  {
   "cell_type": "code",
   "execution_count": 270,
   "metadata": {},
   "outputs": [
    {
     "data": {
      "text/plain": [
       "(9530, 2)"
      ]
     },
     "execution_count": 270,
     "metadata": {},
     "output_type": "execute_result"
    }
   ],
   "source": [
    "data."
   ]
  },
  {
   "cell_type": "code",
   "execution_count": 268,
   "metadata": {},
   "outputs": [
    {
     "data": {
      "text/html": [
       "<div>\n",
       "<style scoped>\n",
       "    .dataframe tbody tr th:only-of-type {\n",
       "        vertical-align: middle;\n",
       "    }\n",
       "\n",
       "    .dataframe tbody tr th {\n",
       "        vertical-align: top;\n",
       "    }\n",
       "\n",
       "    .dataframe thead th {\n",
       "        text-align: right;\n",
       "    }\n",
       "</style>\n",
       "<table border=\"1\" class=\"dataframe\">\n",
       "  <thead>\n",
       "    <tr style=\"text-align: right;\">\n",
       "      <th></th>\n",
       "      <th>description</th>\n",
       "      <th>symbol</th>\n",
       "    </tr>\n",
       "  </thead>\n",
       "  <tbody>\n",
       "    <tr>\n",
       "      <th>2035</th>\n",
       "      <td>ASSOCIATED CAPITAL GROUP - A</td>\n",
       "      <td>AC</td>\n",
       "    </tr>\n",
       "    <tr>\n",
       "      <th>2038</th>\n",
       "      <td>ACAMAR PARTNERS ACQUISITI- A</td>\n",
       "      <td>ACAM</td>\n",
       "    </tr>\n",
       "    <tr>\n",
       "      <th>2244</th>\n",
       "      <td>ALTAIR ENGINEERING INC - A</td>\n",
       "      <td>ALTR</td>\n",
       "    </tr>\n",
       "    <tr>\n",
       "      <th>2271</th>\n",
       "      <td>AMERICAN HOMES 4 RENT- A</td>\n",
       "      <td>AMH</td>\n",
       "    </tr>\n",
       "    <tr>\n",
       "      <th>2319</th>\n",
       "      <td>ANGI HOMESERVICES INC- A</td>\n",
       "      <td>ANGI</td>\n",
       "    </tr>\n",
       "    <tr>\n",
       "      <th>2357</th>\n",
       "      <td>APPFOLIO INC - A</td>\n",
       "      <td>APPF</td>\n",
       "    </tr>\n",
       "    <tr>\n",
       "      <th>2395</th>\n",
       "      <td>ARES MANAGEMENT CORP - A</td>\n",
       "      <td>ARES</td>\n",
       "    </tr>\n",
       "    <tr>\n",
       "      <th>2487</th>\n",
       "      <td>ALTICE USA INC- A</td>\n",
       "      <td>ATUS</td>\n",
       "    </tr>\n",
       "    <tr>\n",
       "      <th>2628</th>\n",
       "      <td>ATRECA INC - A</td>\n",
       "      <td>BCEL</td>\n",
       "    </tr>\n",
       "    <tr>\n",
       "      <th>2661</th>\n",
       "      <td>BLOOM ENERGY CORP- A</td>\n",
       "      <td>BE</td>\n",
       "    </tr>\n",
       "    <tr>\n",
       "      <th>3034</th>\n",
       "      <td>CARDTRONICS PLC - A</td>\n",
       "      <td>CATM</td>\n",
       "    </tr>\n",
       "    <tr>\n",
       "      <th>3053</th>\n",
       "      <td>CBRE GROUP INC - A</td>\n",
       "      <td>CBRE</td>\n",
       "    </tr>\n",
       "    <tr>\n",
       "      <th>3225</th>\n",
       "      <td>CINEDIGM CORP - A</td>\n",
       "      <td>CIDM</td>\n",
       "    </tr>\n",
       "    <tr>\n",
       "      <th>3388</th>\n",
       "      <td>COWEN INC - A</td>\n",
       "      <td>COWN</td>\n",
       "    </tr>\n",
       "    <tr>\n",
       "      <th>3461</th>\n",
       "      <td>CROWDSTRIKE HOLDINGS INC - A</td>\n",
       "      <td>CRWD</td>\n",
       "    </tr>\n",
       "    <tr>\n",
       "      <th>3706</th>\n",
       "      <td>DISCOVERY INC - A</td>\n",
       "      <td>DISCA</td>\n",
       "    </tr>\n",
       "    <tr>\n",
       "      <th>4174</th>\n",
       "      <td>EARTHSTONE ENERGY INC - A</td>\n",
       "      <td>ESTE</td>\n",
       "    </tr>\n",
       "    <tr>\n",
       "      <th>4219</th>\n",
       "      <td>EVOLENT HEALTH INC - A</td>\n",
       "      <td>EVH</td>\n",
       "    </tr>\n",
       "    <tr>\n",
       "      <th>4228</th>\n",
       "      <td>EVERCORE INC - A</td>\n",
       "      <td>EVR</td>\n",
       "    </tr>\n",
       "    <tr>\n",
       "      <th>4452</th>\n",
       "      <td>FITBIT INC - A</td>\n",
       "      <td>FIT</td>\n",
       "    </tr>\n",
       "    <tr>\n",
       "      <th>4669</th>\n",
       "      <td>FINTECH ACQUISITION CORP - A</td>\n",
       "      <td>FTAC</td>\n",
       "    </tr>\n",
       "    <tr>\n",
       "      <th>4900</th>\n",
       "      <td>GLOBUS MEDICAL INC - A</td>\n",
       "      <td>GMED</td>\n",
       "    </tr>\n",
       "    <tr>\n",
       "      <th>4916</th>\n",
       "      <td>GREENLANE HOLDINGS INC - A</td>\n",
       "      <td>GNLN</td>\n",
       "    </tr>\n",
       "    <tr>\n",
       "      <th>5119</th>\n",
       "      <td>HEBRON TECHNOLOGY CO LTD - A</td>\n",
       "      <td>HEBT</td>\n",
       "    </tr>\n",
       "    <tr>\n",
       "      <th>5536</th>\n",
       "      <td>INOVALON HOLDINGS INC - A</td>\n",
       "      <td>INOV</td>\n",
       "    </tr>\n",
       "    <tr>\n",
       "      <th>5767</th>\n",
       "      <td>JUNIPER INDUSTRIAL HLDGS - A</td>\n",
       "      <td>JIH</td>\n",
       "    </tr>\n",
       "    <tr>\n",
       "      <th>6203</th>\n",
       "      <td>MASTERCARD INC - A</td>\n",
       "      <td>MA</td>\n",
       "    </tr>\n",
       "    <tr>\n",
       "      <th>6238</th>\n",
       "      <td>MALIBU BOATS INC - A</td>\n",
       "      <td>MBUU</td>\n",
       "    </tr>\n",
       "    <tr>\n",
       "      <th>6275</th>\n",
       "      <td>MEDLEY MANAGEMENT INC - A</td>\n",
       "      <td>MDLY</td>\n",
       "    </tr>\n",
       "    <tr>\n",
       "      <th>6337</th>\n",
       "      <td>MAGNOLIA OIL &amp; GAS CORP - A</td>\n",
       "      <td>MGY</td>\n",
       "    </tr>\n",
       "    <tr>\n",
       "      <th>6499</th>\n",
       "      <td>MSG NETWORKS INC- A</td>\n",
       "      <td>MSGN</td>\n",
       "    </tr>\n",
       "    <tr>\n",
       "      <th>6818</th>\n",
       "      <td>NUTANIX INC - A</td>\n",
       "      <td>NTNX</td>\n",
       "    </tr>\n",
       "    <tr>\n",
       "      <th>6844</th>\n",
       "      <td>NU SKIN ENTERPRISES INC - A</td>\n",
       "      <td>NUS</td>\n",
       "    </tr>\n",
       "    <tr>\n",
       "      <th>7275</th>\n",
       "      <td>PJT PARTNERS INC - A</td>\n",
       "      <td>PJT</td>\n",
       "    </tr>\n",
       "    <tr>\n",
       "      <th>7415</th>\n",
       "      <td>PLURALSIGHT INC - A</td>\n",
       "      <td>PS</td>\n",
       "    </tr>\n",
       "    <tr>\n",
       "      <th>7450</th>\n",
       "      <td>POSTAL REALTY TRUST INC- A</td>\n",
       "      <td>PSTL</td>\n",
       "    </tr>\n",
       "    <tr>\n",
       "      <th>7479</th>\n",
       "      <td>PROTECTIVE INSURANCE CORP- A</td>\n",
       "      <td>PTVCA</td>\n",
       "    </tr>\n",
       "    <tr>\n",
       "      <th>7757</th>\n",
       "      <td>RMR GROUP INC/THE - A</td>\n",
       "      <td>RMR</td>\n",
       "    </tr>\n",
       "    <tr>\n",
       "      <th>7799</th>\n",
       "      <td>RETAIL PROPERTIES OF AME - A</td>\n",
       "      <td>RPAI</td>\n",
       "    </tr>\n",
       "    <tr>\n",
       "      <th>7974</th>\n",
       "      <td>SECUREWORKS CORP - A</td>\n",
       "      <td>SCWX</td>\n",
       "    </tr>\n",
       "    <tr>\n",
       "      <th>7986</th>\n",
       "      <td>STANDARD DIVERSIFIED INC - A</td>\n",
       "      <td>SDI</td>\n",
       "    </tr>\n",
       "    <tr>\n",
       "      <th>8195</th>\n",
       "      <td>SNAP INC - A</td>\n",
       "      <td>SNAP</td>\n",
       "    </tr>\n",
       "    <tr>\n",
       "      <th>8320</th>\n",
       "      <td>SQUARE INC - A</td>\n",
       "      <td>SQ</td>\n",
       "    </tr>\n",
       "    <tr>\n",
       "      <th>8451</th>\n",
       "      <td>SWITCH INC - A</td>\n",
       "      <td>SWCH</td>\n",
       "    </tr>\n",
       "    <tr>\n",
       "      <th>8573</th>\n",
       "      <td>TERRAFORM POWER INC - A</td>\n",
       "      <td>TERP</td>\n",
       "    </tr>\n",
       "    <tr>\n",
       "      <th>8727</th>\n",
       "      <td>TRONOX HOLDINGS PLC- A</td>\n",
       "      <td>TROX</td>\n",
       "    </tr>\n",
       "    <tr>\n",
       "      <th>8790</th>\n",
       "      <td>TWILIO INC - A</td>\n",
       "      <td>TWLO</td>\n",
       "    </tr>\n",
       "    <tr>\n",
       "      <th>9018</th>\n",
       "      <td>VICTORY CAPITAL HOLDING - A</td>\n",
       "      <td>VCTR</td>\n",
       "    </tr>\n",
       "    <tr>\n",
       "      <th>9153</th>\n",
       "      <td>VERSO CORP - A</td>\n",
       "      <td>VRS</td>\n",
       "    </tr>\n",
       "    <tr>\n",
       "      <th>9262</th>\n",
       "      <td>CACTUS INC - A</td>\n",
       "      <td>WHD</td>\n",
       "    </tr>\n",
       "    <tr>\n",
       "      <th>9495</th>\n",
       "      <td>ZILLOW GROUP INC - A</td>\n",
       "      <td>ZG</td>\n",
       "    </tr>\n",
       "  </tbody>\n",
       "</table>\n",
       "</div>"
      ],
      "text/plain": [
       "                       description symbol\n",
       "2035  ASSOCIATED CAPITAL GROUP - A     AC\n",
       "2038  ACAMAR PARTNERS ACQUISITI- A   ACAM\n",
       "2244    ALTAIR ENGINEERING INC - A   ALTR\n",
       "2271      AMERICAN HOMES 4 RENT- A    AMH\n",
       "2319      ANGI HOMESERVICES INC- A   ANGI\n",
       "2357              APPFOLIO INC - A   APPF\n",
       "2395      ARES MANAGEMENT CORP - A   ARES\n",
       "2487             ALTICE USA INC- A   ATUS\n",
       "2628                ATRECA INC - A   BCEL\n",
       "2661          BLOOM ENERGY CORP- A     BE\n",
       "3034           CARDTRONICS PLC - A   CATM\n",
       "3053            CBRE GROUP INC - A   CBRE\n",
       "3225             CINEDIGM CORP - A   CIDM\n",
       "3388                 COWEN INC - A   COWN\n",
       "3461  CROWDSTRIKE HOLDINGS INC - A   CRWD\n",
       "3706             DISCOVERY INC - A  DISCA\n",
       "4174     EARTHSTONE ENERGY INC - A   ESTE\n",
       "4219        EVOLENT HEALTH INC - A    EVH\n",
       "4228              EVERCORE INC - A    EVR\n",
       "4452                FITBIT INC - A    FIT\n",
       "4669  FINTECH ACQUISITION CORP - A   FTAC\n",
       "4900        GLOBUS MEDICAL INC - A   GMED\n",
       "4916    GREENLANE HOLDINGS INC - A   GNLN\n",
       "5119  HEBRON TECHNOLOGY CO LTD - A   HEBT\n",
       "5536     INOVALON HOLDINGS INC - A   INOV\n",
       "5767  JUNIPER INDUSTRIAL HLDGS - A    JIH\n",
       "6203            MASTERCARD INC - A     MA\n",
       "6238          MALIBU BOATS INC - A   MBUU\n",
       "6275     MEDLEY MANAGEMENT INC - A   MDLY\n",
       "6337   MAGNOLIA OIL & GAS CORP - A    MGY\n",
       "6499           MSG NETWORKS INC- A   MSGN\n",
       "6818               NUTANIX INC - A   NTNX\n",
       "6844   NU SKIN ENTERPRISES INC - A    NUS\n",
       "7275          PJT PARTNERS INC - A    PJT\n",
       "7415           PLURALSIGHT INC - A     PS\n",
       "7450    POSTAL REALTY TRUST INC- A   PSTL\n",
       "7479  PROTECTIVE INSURANCE CORP- A  PTVCA\n",
       "7757         RMR GROUP INC/THE - A    RMR\n",
       "7799  RETAIL PROPERTIES OF AME - A   RPAI\n",
       "7974          SECUREWORKS CORP - A   SCWX\n",
       "7986  STANDARD DIVERSIFIED INC - A    SDI\n",
       "8195                  SNAP INC - A   SNAP\n",
       "8320                SQUARE INC - A     SQ\n",
       "8451                SWITCH INC - A   SWCH\n",
       "8573       TERRAFORM POWER INC - A   TERP\n",
       "8727        TRONOX HOLDINGS PLC- A   TROX\n",
       "8790                TWILIO INC - A   TWLO\n",
       "9018   VICTORY CAPITAL HOLDING - A   VCTR\n",
       "9153                VERSO CORP - A    VRS\n",
       "9262                CACTUS INC - A    WHD\n",
       "9495          ZILLOW GROUP INC - A     ZG"
      ]
     },
     "execution_count": 268,
     "metadata": {},
     "output_type": "execute_result"
    }
   ],
   "source": [
    "data[data['description'].str.endswith('- A')]"
   ]
  },
  {
   "cell_type": "code",
   "execution_count": 267,
   "metadata": {},
   "outputs": [
    {
     "data": {
      "text/html": [
       "<div>\n",
       "<style scoped>\n",
       "    .dataframe tbody tr th:only-of-type {\n",
       "        vertical-align: middle;\n",
       "    }\n",
       "\n",
       "    .dataframe tbody tr th {\n",
       "        vertical-align: top;\n",
       "    }\n",
       "\n",
       "    .dataframe thead th {\n",
       "        text-align: right;\n",
       "    }\n",
       "</style>\n",
       "<table border=\"1\" class=\"dataframe\">\n",
       "  <thead>\n",
       "    <tr style=\"text-align: right;\">\n",
       "      <th></th>\n",
       "      <th>description</th>\n",
       "      <th>symbol</th>\n",
       "    </tr>\n",
       "  </thead>\n",
       "  <tbody>\n",
       "    <tr>\n",
       "      <th>6497</th>\n",
       "      <td>MICROSOFT CORP</td>\n",
       "      <td>MSFT</td>\n",
       "    </tr>\n",
       "  </tbody>\n",
       "</table>\n",
       "</div>"
      ],
      "text/plain": [
       "         description symbol\n",
       "6497  MICROSOFT CORP   MSFT"
      ]
     },
     "execution_count": 267,
     "metadata": {},
     "output_type": "execute_result"
    }
   ],
   "source": [
    "data[data['description'].str.startswith('MICROSOFT')]"
   ]
  },
  {
   "cell_type": "code",
   "execution_count": 271,
   "metadata": {},
   "outputs": [],
   "source": [
    "data.to_csv('/Users/esanc147/Documents/business/bsm03/web_app/data/symbol/symbols.csv', index=False, header=False)"
   ]
  },
  {
   "cell_type": "code",
   "execution_count": 272,
   "metadata": {},
   "outputs": [],
   "source": [
    "d = pd.read_csv('/Users/esanc147/Documents/business/bsm03/web_app/data/symbol/symbols.csv', names=['desc', 'symbol'])"
   ]
  },
  {
   "cell_type": "code",
   "execution_count": 279,
   "metadata": {},
   "outputs": [
    {
     "data": {
      "text/plain": [
       "CDE        1\n",
       "MAXR       1\n",
       "NRZ        1\n",
       "LZB        1\n",
       "WIT        1\n",
       "          ..\n",
       "IYW        1\n",
       "LBE.L      1\n",
       "AAXN       1\n",
       "QCRH       1\n",
       "SGRE.MC    1\n",
       "Name: symbol, Length: 9530, dtype: int64"
      ]
     },
     "execution_count": 279,
     "metadata": {},
     "output_type": "execute_result"
    }
   ],
   "source": [
    "d['symbol'].value_counts()"
   ]
  },
  {
   "cell_type": "code",
   "execution_count": 275,
   "metadata": {},
   "outputs": [
    {
     "data": {
      "text/plain": [
       "75.0"
      ]
     },
     "execution_count": 275,
     "metadata": {},
     "output_type": "execute_result"
    }
   ],
   "source": [
    "9000/120"
   ]
  },
  {
   "cell_type": "code",
   "execution_count": 280,
   "metadata": {},
   "outputs": [],
   "source": [
    "import multiprocessing as mp"
   ]
  },
  {
   "cell_type": "code",
   "execution_count": 302,
   "metadata": {
    "scrolled": true
   },
   "outputs": [
    {
     "name": "stdout",
     "output_type": "stream",
     "text": [
      "2.92 ms ± 64.1 µs per loop (mean ± std. dev. of 7 runs, 100 loops each)\n"
     ]
    }
   ],
   "source": [
    "def cube(x):\n",
    "    return x**3\n",
    "\n",
    "pool = mp.Pool(processes=2)\n",
    "%timeit pool.map(cube, range(1,10000))"
   ]
  },
  {
   "cell_type": "code",
   "execution_count": 303,
   "metadata": {
    "scrolled": true
   },
   "outputs": [
    {
     "name": "stdout",
     "output_type": "stream",
     "text": [
      "3.25 ms ± 41.1 µs per loop (mean ± std. dev. of 7 runs, 100 loops each)\n"
     ]
    }
   ],
   "source": [
    "%timeit [cube(e) for e in range(1, 10000)]"
   ]
  },
  {
   "cell_type": "code",
   "execution_count": 306,
   "metadata": {},
   "outputs": [],
   "source": [
    "f = pd.read_csv('/Users/esanc147/Documents/business/bsm03/web_app/data/symbol/failed_symbols.csv', names=['symbol'])"
   ]
  },
  {
   "cell_type": "code",
   "execution_count": 311,
   "metadata": {},
   "outputs": [],
   "source": [
    "dd = d[~d['symbol'].isin(f['symbol'].values)]"
   ]
  },
  {
   "cell_type": "code",
   "execution_count": 310,
   "metadata": {},
   "outputs": [
    {
     "data": {
      "text/plain": [
       "(9530, 2)"
      ]
     },
     "execution_count": 310,
     "metadata": {},
     "output_type": "execute_result"
    }
   ],
   "source": [
    "d.shape"
   ]
  },
  {
   "cell_type": "code",
   "execution_count": 312,
   "metadata": {},
   "outputs": [
    {
     "data": {
      "text/plain": [
       "(9155, 2)"
      ]
     },
     "execution_count": 312,
     "metadata": {},
     "output_type": "execute_result"
    }
   ],
   "source": [
    "dd.shape"
   ]
  },
  {
   "cell_type": "code",
   "execution_count": 313,
   "metadata": {},
   "outputs": [],
   "source": [
    "dd.to_csv('/Users/esanc147/Documents/business/bsm03/web_app/data/symbol/symbols.csv', index=False, header=False)"
   ]
  },
  {
   "cell_type": "code",
   "execution_count": 314,
   "metadata": {},
   "outputs": [],
   "source": [
    "import os"
   ]
  },
  {
   "cell_type": "code",
   "execution_count": 714,
   "metadata": {},
   "outputs": [
    {
     "data": {
      "text/plain": [
       "8824"
      ]
     },
     "execution_count": 714,
     "metadata": {},
     "output_type": "execute_result"
    }
   ],
   "source": [
    "len(os.listdir('/Users/esanc147/Documents/business/bsm03/web_app/data/tech/'))"
   ]
  },
  {
   "cell_type": "code",
   "execution_count": 704,
   "metadata": {},
   "outputs": [],
   "source": [
    "list_dir = os.listdir('/Users/esanc147/Documents/business/bsm03/web_app/data/tech/')"
   ]
  },
  {
   "cell_type": "code",
   "execution_count": 705,
   "metadata": {},
   "outputs": [
    {
     "data": {
      "text/plain": [
       "7287"
      ]
     },
     "execution_count": 705,
     "metadata": {},
     "output_type": "execute_result"
    }
   ],
   "source": [
    "len(list_dir)"
   ]
  },
  {
   "cell_type": "code",
   "execution_count": 706,
   "metadata": {},
   "outputs": [],
   "source": [
    "ld = [elem.split('.csv')[0] for elem in list_dir]"
   ]
  },
  {
   "cell_type": "code",
   "execution_count": 423,
   "metadata": {},
   "outputs": [],
   "source": [
    "fai = ['MHID.L', 'LTOD.L', 'KAKU.L', 'SPEC.L', 'INX.L', 'IDH.L', 'HNT.L', 'OTES.L', 'FPP.L', 'FP.L', 'BGX.L', 'CGO.L',\n",
    "      'COBR.L', 'CNSD.L', 'SNP.L', 'CHF.L', 'CFHS.L', 'BIH.L', 'BPFU.L', 'BLBD.L', 'BRES.L']"
   ]
  },
  {
   "cell_type": "code",
   "execution_count": 622,
   "metadata": {
    "scrolled": true
   },
   "outputs": [
    {
     "data": {
      "text/plain": [
       "3032"
      ]
     },
     "execution_count": 622,
     "metadata": {},
     "output_type": "execute_result"
    }
   ],
   "source": [
    "len(ld)"
   ]
  },
  {
   "cell_type": "code",
   "execution_count": 428,
   "metadata": {},
   "outputs": [],
   "source": [
    "ld.extend(fai)"
   ]
  },
  {
   "cell_type": "code",
   "execution_count": 623,
   "metadata": {
    "scrolled": true
   },
   "outputs": [
    {
     "data": {
      "text/plain": [
       "3032"
      ]
     },
     "execution_count": 623,
     "metadata": {},
     "output_type": "execute_result"
    }
   ],
   "source": [
    "len(ld)"
   ]
  },
  {
   "cell_type": "code",
   "execution_count": 406,
   "metadata": {},
   "outputs": [],
   "source": [
    "# dd_aux.to_csv('/Users/esanc147/Documents/business/bsm03/web_app/data/symbol/aux_symbols.csv', index=False, header=False)"
   ]
  },
  {
   "cell_type": "code",
   "execution_count": 407,
   "metadata": {},
   "outputs": [],
   "source": [
    "# dd.to_csv('/Users/esanc147/Documents/business/bsm03/web_app/data/symbol/symbols.csv', index=False, header=False)"
   ]
  },
  {
   "cell_type": "code",
   "execution_count": 707,
   "metadata": {},
   "outputs": [],
   "source": [
    "dd_aux = dd_aux[~dd_aux['symbol'].isin(ld)]"
   ]
  },
  {
   "cell_type": "code",
   "execution_count": 708,
   "metadata": {},
   "outputs": [
    {
     "data": {
      "text/plain": [
       "(1843, 2)"
      ]
     },
     "execution_count": 708,
     "metadata": {},
     "output_type": "execute_result"
    }
   ],
   "source": [
    "dd_aux.shape"
   ]
  },
  {
   "cell_type": "code",
   "execution_count": 709,
   "metadata": {},
   "outputs": [],
   "source": [
    "dd_aux.to_csv('/Users/esanc147/Documents/business/bsm03/web_app/data/symbol/aux_symbols.csv', index=False, header=False)"
   ]
  },
  {
   "cell_type": "code",
   "execution_count": null,
   "metadata": {},
   "outputs": [],
   "source": []
  },
  {
   "cell_type": "code",
   "execution_count": null,
   "metadata": {},
   "outputs": [],
   "source": []
  }
 ],
 "metadata": {
  "kernelspec": {
   "display_name": "Python 3",
   "language": "python",
   "name": "python3"
  },
  "language_info": {
   "codemirror_mode": {
    "name": "ipython",
    "version": 3
   },
   "file_extension": ".py",
   "mimetype": "text/x-python",
   "name": "python",
   "nbconvert_exporter": "python",
   "pygments_lexer": "ipython3",
   "version": "3.7.7"
  }
 },
 "nbformat": 4,
 "nbformat_minor": 4
}
