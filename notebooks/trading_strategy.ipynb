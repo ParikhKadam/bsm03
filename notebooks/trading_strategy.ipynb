{
 "cells": [
  {
   "cell_type": "markdown",
   "metadata": {},
   "source": [
    "Este notebook es donde se codifica la estrategia de trading 1 y se comprueba que fiabilidad tiene a la hora de obtener beneficios"
   ]
  },
  {
   "cell_type": "code",
   "execution_count": 1,
   "metadata": {},
   "outputs": [],
   "source": [
    "import sys\n",
    "import warnings\n",
    "import pickle\n",
    "import os\n",
    "from datetime import datetime\n",
    "from dateutil.relativedelta import relativedelta\n",
    "from multiprocessing import Pool\n",
    "\n",
    "import pandas as pd\n",
    "import numpy as np\n",
    "import numba as nb\n",
    "import seaborn as sns\n",
    "import matplotlib.pyplot as plt\n",
    "import plotly.express as px\n",
    "from sklearn.metrics import classification_report\n",
    "from sklearn.decomposition import PCA\n",
    "from sklearn.preprocessing import MinMaxScaler\n",
    "from sklearn.metrics.pairwise import cosine_similarity\n",
    "\n",
    "sns.set()\n",
    "warnings.filterwarnings(\"ignore\")\n",
    "\n",
    "app_path = '/Users/esanc147/Documents/business/bsm03/web_app'\n",
    "if app_path in sys.path:\n",
    "    from tools.tags import create_tags\n",
    "else: \n",
    "    sys.path.append('/Users/esanc147/Documents/business/bsm03/web_app')\n",
    "    from tools.tags import create_tags"
   ]
  },
  {
   "cell_type": "markdown",
   "metadata": {},
   "source": [
    "## Valores por defecto"
   ]
  },
  {
   "cell_type": "code",
   "execution_count": 2,
   "metadata": {},
   "outputs": [],
   "source": [
    "COLUMNS_TECH = ['symbol', 'date', 'MACD_Signal', 'MACD_Hist', 'MACD', 'SlowK', 'SlowD',\n",
    "       'Chaikin A/D', 'OBV', 'RSI21', 'ADX21',\n",
    "       'CCI21', 'Aroon Up21', 'Aroon Down21',\n",
    "       'RSI28', 'ADX28', 'CCI28', 'Aroon Down28', 'Aroon Up28',\n",
    "       'Real Lower Band28', 'Real Upper Band28', 'Real Middle Band28',\n",
    "       'SMA50', 'RSI50', 'ADX50', 'CCI50', 'Aroon Up50',\n",
    "       'Aroon Down50']\n",
    "COLUMNS = ['symbol', 'date', 'close', 'volume', 'open', 'high', 'low']\n",
    "U_COLUMNS = ['close', 'volume', 'MACD_Signal', 'MACD_Hist', 'MACD', 'SlowK', 'SlowD',\n",
    "             'Chaikin A/D', 'OBV', 'RSI21', 'ADX21', 'CCI21', 'Aroon Up21', 'Aroon Down21',\n",
    "             'RSI28', 'ADX28', 'CCI28', 'Aroon Down28', 'Aroon Up28', 'Real Lower Band28',\n",
    "             'Real Upper Band28', 'Real Middle Band28', 'SMA50', 'RSI50', 'ADX50', 'CCI50',\n",
    "             'Aroon Up50', 'Aroon Down50']\n",
    "TAG_COLUMNS = ['tag_7', 'tag_14', 'tag_21', 'tag_28']\n",
    "FULL_PATH = \"/Users/esanc147/Documents/business/bsm03/web_app/data\"\n",
    "SYMBOLS = [s.split('.csv')[0] for s in os.listdir(f\"{FULL_PATH}/tech/\") if '.L' not in s]\n",
    "PERIOD = [7, 14, 21, 28]"
   ]
  },
  {
   "cell_type": "markdown",
   "metadata": {},
   "source": [
    "## Carga de los datos"
   ]
  },
  {
   "cell_type": "raw",
   "metadata": {},
   "source": [
    "def load_all_data(symbol):\n",
    "    path_close = f\"{FULL_PATH}/close/{symbol}.csv\"\n",
    "    df_close = pd.read_csv(path_close, names=COLUMNS)\n",
    "    df_close['date'] = pd.to_datetime(df_close['date'])\n",
    "    df_close['volume'] = df_close['volume'].astype(float)\n",
    "\n",
    "    path_tech = f\"{FULL_PATH}/tech/{symbol}.csv\"\n",
    "    df_tech = pd.read_csv(path_tech, names=COLUMNS_TECH)\n",
    "    df_tech['date'] = pd.to_datetime(df_tech['date'])\n",
    "\n",
    "    list_df_tagged = []\n",
    "    for period in PERIOD:\n",
    "        df_aux = create_tags(df_close, period)\n",
    "        df_aux[f\"pct_change_{period}\"] = df_aux[f\"pct_change_{period}\"].astype(float)\n",
    "        df_aux[f\"pct_change_{period}\"] = df_aux[f\"pct_change_{period}\"].astype(float)\n",
    "        list_df_tagged.append(df_aux)\n",
    "    df_tagged = pd.concat(list_df_tagged, axis=1)\n",
    "    df_tagged.dropna(inplace=True)\n",
    "\n",
    "    df_close = df_close.set_index(['symbol', 'date'])\n",
    "    df_tech = df_tech.set_index(['symbol', 'date'])\n",
    "    dataframe = pd.concat([df_close, df_tech, df_tagged], join='inner', axis=1)\n",
    "    return dataframe"
   ]
  },
  {
   "cell_type": "raw",
   "metadata": {},
   "source": [
    "total_dataframes = list()\n",
    "i = 1\n",
    "with Pool(3) as p:\n",
    "        \n",
    "    total_dataframes.append(p.map(load_all_data, SYMBOLS))\n",
    "\n",
    "tot_dataframe = pd.concat(total_dataframes)"
   ]
  },
  {
   "cell_type": "code",
   "execution_count": 3,
   "metadata": {},
   "outputs": [
    {
     "name": "stdout",
     "output_type": "stream",
     "text": [
      "+1000 symbols loaded\n",
      "+1000 symbols loaded\n",
      "+1000 symbols loaded\n",
      "+1000 symbols loaded\n",
      "+1000 symbols loaded\n",
      "+1000 symbols loaded\n"
     ]
    },
    {
     "ename": "ValueError",
     "evalue": "cannot set a frame with no defined index and a scalar",
     "output_type": "error",
     "traceback": [
      "\u001b[0;31m---------------------------------------------------------------------------\u001b[0m",
      "\u001b[0;31mValueError\u001b[0m                                Traceback (most recent call last)",
      "\u001b[0;32m<ipython-input-3-58a5f8cfb8ff>\u001b[0m in \u001b[0;36m<module>\u001b[0;34m\u001b[0m\n\u001b[1;32m     18\u001b[0m     \u001b[0mlist_df_tagged\u001b[0m \u001b[0;34m=\u001b[0m \u001b[0;34m[\u001b[0m\u001b[0;34m]\u001b[0m\u001b[0;34m\u001b[0m\u001b[0;34m\u001b[0m\u001b[0m\n\u001b[1;32m     19\u001b[0m     \u001b[0;32mfor\u001b[0m \u001b[0mperiod\u001b[0m \u001b[0;32min\u001b[0m \u001b[0mPERIOD\u001b[0m\u001b[0;34m:\u001b[0m\u001b[0;34m\u001b[0m\u001b[0;34m\u001b[0m\u001b[0m\n\u001b[0;32m---> 20\u001b[0;31m         \u001b[0mdf_aux\u001b[0m \u001b[0;34m=\u001b[0m \u001b[0mcreate_tags\u001b[0m\u001b[0;34m(\u001b[0m\u001b[0mdf_close\u001b[0m\u001b[0;34m,\u001b[0m \u001b[0mperiod\u001b[0m\u001b[0;34m)\u001b[0m\u001b[0;34m\u001b[0m\u001b[0;34m\u001b[0m\u001b[0m\n\u001b[0m\u001b[1;32m     21\u001b[0m         \u001b[0mdf_aux\u001b[0m\u001b[0;34m[\u001b[0m\u001b[0;34mf\"pct_change_{period}\"\u001b[0m\u001b[0;34m]\u001b[0m \u001b[0;34m=\u001b[0m \u001b[0mdf_aux\u001b[0m\u001b[0;34m[\u001b[0m\u001b[0;34mf\"pct_change_{period}\"\u001b[0m\u001b[0;34m]\u001b[0m\u001b[0;34m.\u001b[0m\u001b[0mastype\u001b[0m\u001b[0;34m(\u001b[0m\u001b[0mfloat\u001b[0m\u001b[0;34m)\u001b[0m\u001b[0;34m\u001b[0m\u001b[0;34m\u001b[0m\u001b[0m\n\u001b[1;32m     22\u001b[0m         \u001b[0mdf_aux\u001b[0m\u001b[0;34m[\u001b[0m\u001b[0;34mf\"pct_change_{period}\"\u001b[0m\u001b[0;34m]\u001b[0m \u001b[0;34m=\u001b[0m \u001b[0mdf_aux\u001b[0m\u001b[0;34m[\u001b[0m\u001b[0;34mf\"pct_change_{period}\"\u001b[0m\u001b[0;34m]\u001b[0m\u001b[0;34m.\u001b[0m\u001b[0mastype\u001b[0m\u001b[0;34m(\u001b[0m\u001b[0mfloat\u001b[0m\u001b[0;34m)\u001b[0m\u001b[0;34m\u001b[0m\u001b[0;34m\u001b[0m\u001b[0m\n",
      "\u001b[0;32m~/Documents/business/bsm03/web_app/tools/tags.py\u001b[0m in \u001b[0;36mcreate_tags\u001b[0;34m(dataframe, periods)\u001b[0m\n\u001b[1;32m    218\u001b[0m     \u001b[0mdf\u001b[0m \u001b[0;34m=\u001b[0m \u001b[0mstats\u001b[0m\u001b[0;34m(\u001b[0m\u001b[0mdataframe\u001b[0m\u001b[0;34m.\u001b[0m\u001b[0mto_numpy\u001b[0m\u001b[0;34m(\u001b[0m\u001b[0;34m)\u001b[0m\u001b[0;34m,\u001b[0m \u001b[0msign\u001b[0m\u001b[0;34m,\u001b[0m \u001b[0mrelativedelta\u001b[0m\u001b[0;34m(\u001b[0m\u001b[0mmonths\u001b[0m\u001b[0;34m=\u001b[0m\u001b[0;36m4\u001b[0m\u001b[0;34m)\u001b[0m\u001b[0;34m)\u001b[0m\u001b[0;34m\u001b[0m\u001b[0;34m\u001b[0m\u001b[0m\n\u001b[1;32m    219\u001b[0m     \u001b[0mdata\u001b[0m \u001b[0;34m=\u001b[0m \u001b[0mpd\u001b[0m\u001b[0;34m.\u001b[0m\u001b[0mDataFrame\u001b[0m\u001b[0;34m(\u001b[0m\u001b[0mdf\u001b[0m\u001b[0;34m,\u001b[0m \u001b[0mcolumns\u001b[0m\u001b[0;34m=\u001b[0m\u001b[0mCOLS_STATS\u001b[0m\u001b[0;34m)\u001b[0m\u001b[0;34m\u001b[0m\u001b[0;34m\u001b[0m\u001b[0m\n\u001b[0;32m--> 220\u001b[0;31m     \u001b[0mdf\u001b[0m \u001b[0;34m=\u001b[0m \u001b[0mtagging\u001b[0m\u001b[0;34m(\u001b[0m\u001b[0mdata\u001b[0m\u001b[0;34m,\u001b[0m \u001b[0mperiods\u001b[0m\u001b[0;34m)\u001b[0m\u001b[0;34m\u001b[0m\u001b[0;34m\u001b[0m\u001b[0m\n\u001b[0m\u001b[1;32m    221\u001b[0m     \u001b[0mdf\u001b[0m \u001b[0;34m=\u001b[0m \u001b[0mdf\u001b[0m\u001b[0;34m.\u001b[0m\u001b[0mdropna\u001b[0m\u001b[0;34m(\u001b[0m\u001b[0;34m)\u001b[0m\u001b[0;34m\u001b[0m\u001b[0;34m\u001b[0m\u001b[0m\n\u001b[1;32m    222\u001b[0m     \u001b[0;32mreturn\u001b[0m \u001b[0mdf\u001b[0m\u001b[0;34m[\u001b[0m\u001b[0;34m[\u001b[0m\u001b[0;34m'symbol'\u001b[0m\u001b[0;34m,\u001b[0m \u001b[0;34m'date'\u001b[0m\u001b[0;34m,\u001b[0m \u001b[0;34mf'pct_change_{periods}'\u001b[0m\u001b[0;34m,\u001b[0m \u001b[0;34mf'tag_{periods}'\u001b[0m\u001b[0;34m]\u001b[0m\u001b[0;34m]\u001b[0m\u001b[0;34m.\u001b[0m\u001b[0mset_index\u001b[0m\u001b[0;34m(\u001b[0m\u001b[0;34m[\u001b[0m\u001b[0;34m'symbol'\u001b[0m\u001b[0;34m,\u001b[0m \u001b[0;34m'date'\u001b[0m\u001b[0;34m]\u001b[0m\u001b[0;34m)\u001b[0m\u001b[0;34m\u001b[0m\u001b[0;34m\u001b[0m\u001b[0m\n",
      "\u001b[0;32m~/Documents/business/bsm03/web_app/tools/tags.py\u001b[0m in \u001b[0;36mtagging\u001b[0;34m(df, periods)\u001b[0m\n\u001b[1;32m    169\u001b[0m     \u001b[0;31m# no a cero.\u001b[0m\u001b[0;34m\u001b[0m\u001b[0;34m\u001b[0m\u001b[0;34m\u001b[0m\u001b[0m\n\u001b[1;32m    170\u001b[0m     df.loc[(df['sign'] == -1) & (df['iqr_min'] >= df[f'pct_change_{periods}']),\n\u001b[0;32m--> 171\u001b[0;31m            f'tag_{periods}'] = 'outlier bear'\n\u001b[0m\u001b[1;32m    172\u001b[0m     df.loc[(df['sign'] == -1) & (df['iqr_min'] < df[f'pct_change_{periods}']),\n\u001b[1;32m    173\u001b[0m            f'tag_{periods}'] = 'strong bear'\n",
      "\u001b[0;32m//anaconda3/envs/bsm03/lib/python3.7/site-packages/pandas/core/indexing.py\u001b[0m in \u001b[0;36m__setitem__\u001b[0;34m(self, key, value)\u001b[0m\n\u001b[1;32m    669\u001b[0m             \u001b[0mkey\u001b[0m \u001b[0;34m=\u001b[0m \u001b[0mcom\u001b[0m\u001b[0;34m.\u001b[0m\u001b[0mapply_if_callable\u001b[0m\u001b[0;34m(\u001b[0m\u001b[0mkey\u001b[0m\u001b[0;34m,\u001b[0m \u001b[0mself\u001b[0m\u001b[0;34m.\u001b[0m\u001b[0mobj\u001b[0m\u001b[0;34m)\u001b[0m\u001b[0;34m\u001b[0m\u001b[0;34m\u001b[0m\u001b[0m\n\u001b[1;32m    670\u001b[0m         \u001b[0mindexer\u001b[0m \u001b[0;34m=\u001b[0m \u001b[0mself\u001b[0m\u001b[0;34m.\u001b[0m\u001b[0m_get_setitem_indexer\u001b[0m\u001b[0;34m(\u001b[0m\u001b[0mkey\u001b[0m\u001b[0;34m)\u001b[0m\u001b[0;34m\u001b[0m\u001b[0;34m\u001b[0m\u001b[0m\n\u001b[0;32m--> 671\u001b[0;31m         \u001b[0mself\u001b[0m\u001b[0;34m.\u001b[0m\u001b[0m_setitem_with_indexer\u001b[0m\u001b[0;34m(\u001b[0m\u001b[0mindexer\u001b[0m\u001b[0;34m,\u001b[0m \u001b[0mvalue\u001b[0m\u001b[0;34m)\u001b[0m\u001b[0;34m\u001b[0m\u001b[0;34m\u001b[0m\u001b[0m\n\u001b[0m\u001b[1;32m    672\u001b[0m \u001b[0;34m\u001b[0m\u001b[0m\n\u001b[1;32m    673\u001b[0m     \u001b[0;32mdef\u001b[0m \u001b[0m_validate_key\u001b[0m\u001b[0;34m(\u001b[0m\u001b[0mself\u001b[0m\u001b[0;34m,\u001b[0m \u001b[0mkey\u001b[0m\u001b[0;34m,\u001b[0m \u001b[0maxis\u001b[0m\u001b[0;34m:\u001b[0m \u001b[0mint\u001b[0m\u001b[0;34m)\u001b[0m\u001b[0;34m:\u001b[0m\u001b[0;34m\u001b[0m\u001b[0;34m\u001b[0m\u001b[0m\n",
      "\u001b[0;32m//anaconda3/envs/bsm03/lib/python3.7/site-packages/pandas/core/indexing.py\u001b[0m in \u001b[0;36m_setitem_with_indexer\u001b[0;34m(self, indexer, value)\u001b[0m\n\u001b[1;32m    836\u001b[0m                             \u001b[0;32mif\u001b[0m \u001b[0;32mnot\u001b[0m \u001b[0mis_list_like_indexer\u001b[0m\u001b[0;34m(\u001b[0m\u001b[0mvalue\u001b[0m\u001b[0;34m)\u001b[0m\u001b[0;34m:\u001b[0m\u001b[0;34m\u001b[0m\u001b[0;34m\u001b[0m\u001b[0m\n\u001b[1;32m    837\u001b[0m                                 raise ValueError(\n\u001b[0;32m--> 838\u001b[0;31m                                     \u001b[0;34m\"cannot set a frame with no \"\u001b[0m\u001b[0;34m\u001b[0m\u001b[0;34m\u001b[0m\u001b[0m\n\u001b[0m\u001b[1;32m    839\u001b[0m                                     \u001b[0;34m\"defined index and a scalar\"\u001b[0m\u001b[0;34m\u001b[0m\u001b[0;34m\u001b[0m\u001b[0m\n\u001b[1;32m    840\u001b[0m                                 )\n",
      "\u001b[0;31mValueError\u001b[0m: cannot set a frame with no defined index and a scalar"
     ]
    }
   ],
   "source": [
    "symbols = SYMBOLS\n",
    "\n",
    "total_dataframes = list()\n",
    "\n",
    "i = 1\n",
    "for symbol in symbols:\n",
    "    if (i % 1000) == 0:\n",
    "        print(\"+1000 symbols loaded\")\n",
    "    path_close = f\"{FULL_PATH}/close/{symbol}.csv\"\n",
    "    df_close = pd.read_csv(path_close, names=COLUMNS)\n",
    "    df_close['date'] = pd.to_datetime(df_close['date'])\n",
    "    df_close['volume'] = df_close['volume'].astype(float)\n",
    "\n",
    "    path_tech = f\"{FULL_PATH}/tech/{symbol}.csv\"\n",
    "    df_tech = pd.read_csv(path_tech, names=COLUMNS_TECH)\n",
    "    df_tech['date'] = pd.to_datetime(df_tech['date'])\n",
    "\n",
    "    list_df_tagged = []\n",
    "    for period in PERIOD:\n",
    "        df_aux = create_tags(df_close, period)\n",
    "        df_aux[f\"pct_change_{period}\"] = df_aux[f\"pct_change_{period}\"].astype(float)\n",
    "        df_aux[f\"pct_change_{period}\"] = df_aux[f\"pct_change_{period}\"].astype(float)\n",
    "        list_df_tagged.append(df_aux)\n",
    "    df_tagged = pd.concat(list_df_tagged, axis=1)\n",
    "    df_tagged.dropna(inplace=True)\n",
    "\n",
    "    df_close = df_close.set_index(['symbol', 'date'])\n",
    "    df_tech = df_tech.set_index(['symbol', 'date'])\n",
    "    dataframe = pd.concat([df_close, df_tech, df_tagged], join='inner', axis=1)\n",
    "    total_dataframes.append(dataframe)\n",
    "    i += 1\n",
    "tot_dataframe = pd.concat(total_dataframes)"
   ]
  },
  {
   "cell_type": "code",
   "execution_count": 5,
   "metadata": {},
   "outputs": [],
   "source": [
    "tot_dataframe = pd.concat(total_dataframes)"
   ]
  },
  {
   "cell_type": "code",
   "execution_count": 6,
   "metadata": {},
   "outputs": [],
   "source": [
    "dataframe_reset = tot_dataframe.reset_index()\n",
    "dataframe = dataframe_reset[(dataframe_reset['date'].dt.year > 2019)] \\\n",
    "                .set_index(['symbol', 'date']) \\\n",
    "                .sort_values(by='date', ascending=False)\n",
    "df = dataframe_reset[(dataframe_reset['date'].dt.year > 2019) &\n",
    "                     (dataframe_reset['date'].dt.month <= 6)] \\\n",
    "                .set_index(['symbol', 'date']) \\\n",
    "                .sort_values(by='date', ascending=False)"
   ]
  },
  {
   "cell_type": "markdown",
   "metadata": {},
   "source": [
    "## Creación de las medias de las características"
   ]
  },
  {
   "cell_type": "code",
   "execution_count": 9,
   "metadata": {},
   "outputs": [],
   "source": [
    "list_df_agg = list()\n",
    "for day in PERIOD:\n",
    "    path_rf = f\"{FULL_PATH}/model/rf_{day}.pkl\"\n",
    "    path_rs = f\"{FULL_PATH}/model/robust_scaler_{day}.pkl\"\n",
    "#    path_lg = f\"{FULL_PATH}/model/lgbm_{day}.pkl\"\n",
    "    path_pca = f\"{FULL_PATH}/model/pca_{day}.pkl\"\n",
    "    \n",
    "#    clf_lg = pickle.load(open(path_lg, 'rb'))\n",
    "    clf_rf = pickle.load(open(path_rf, 'rb'))\n",
    "    scl = pickle.load(open(path_rs, 'rb'))\n",
    "    pca = pickle.load(open(path_pca, 'rb'))\n",
    "    \n",
    "    X = df[U_COLUMNS].values\n",
    "    y = df[f\"tag_{day}\"].values\n",
    "    y = np.where(y == 'outlier bear', 'strong bear', y)\n",
    "    y = np.where(y == 'outlier bull', 'strong bull', y)\n",
    "    X_scl = scl.transform(X)\n",
    "    y_pred_rf = clf_rf.predict(X_scl)\n",
    "#    y_pred_lg = clf_lg.predict(X_scl)\n",
    "    X_pca = pca.transform(X_scl)\n",
    "    df_aux = pd.DataFrame(X_pca, columns=[f'PC {elem}' for elem in range(1, 5)], index=df.index)\n",
    "    df_aux['tag_y_rf'] = f'{day} - rf' + ' - ' + y_pred_rf + ' - ' + y\n",
    "#    df_aux['tag_y_lg'] = f'{day} - lg' + ' - ' + y_pred_lg + ' - ' + y\n",
    "    df_mean_rf = df_aux.groupby('tag_y_rf', as_index=False).median()\n",
    "#    df_mean_lg = df_aux.groupby('tag_y_lg', as_index=False).median()\n",
    "    df_mean_rf = df_mean_rf.rename(columns={'tag_y_rf': 'tag_y'})\n",
    "#    df_mean_lg = df_mean_lg.rename(columns={'tag_y_lg': 'tag_y'})\n",
    "    list_df_agg.append(df_mean_rf)\n",
    "#    list_df_agg.append(df_mean_lg)\n",
    "    \n",
    "\n",
    "df_agg = pd.concat(list_df_agg, ignore_index=True)"
   ]
  },
  {
   "cell_type": "code",
   "execution_count": 10,
   "metadata": {},
   "outputs": [],
   "source": [
    "df_agg.to_csv(f\"{FULL_PATH}/group/2020_1.csv\", index=False, header=False)"
   ]
  },
  {
   "cell_type": "code",
   "execution_count": 11,
   "metadata": {},
   "outputs": [
    {
     "data": {
      "text/plain": [
       "Index(['tag_y', 'PC 1', 'PC 2', 'PC 3', 'PC 4'], dtype='object')"
      ]
     },
     "execution_count": 11,
     "metadata": {},
     "output_type": "execute_result"
    }
   ],
   "source": [
    "df_agg.columns"
   ]
  },
  {
   "cell_type": "code",
   "execution_count": 12,
   "metadata": {},
   "outputs": [
    {
     "data": {
      "text/plain": [
       "21 - rf - bull - bear           1\n",
       "21 - rf - strong bear - bear    1\n",
       "14 - rf - strong bear - bull    1\n",
       "28 - rf - strong bull - bear    1\n",
       "14 - rf - bull - strong bear    1\n",
       "                               ..\n",
       "28 - rf - bull - strong bear    1\n",
       "14 - rf - keep - strong bull    1\n",
       "14 - rf - bull - strong bull    1\n",
       "7 - rf - bull - strong bull     1\n",
       "21 - rf - bear - keep           1\n",
       "Name: tag_y, Length: 100, dtype: int64"
      ]
     },
     "execution_count": 12,
     "metadata": {},
     "output_type": "execute_result"
    }
   ],
   "source": [
    "df_agg['tag_y'].value_counts()"
   ]
  },
  {
   "cell_type": "markdown",
   "metadata": {},
   "source": [
    "## Creación del set de datos para la estrategia"
   ]
  },
  {
   "cell_type": "code",
   "execution_count": 16,
   "metadata": {},
   "outputs": [],
   "source": [
    "list_df_strategy = list()\n",
    "for day in PERIOD:\n",
    "    path_rf = f\"{FULL_PATH}/model/rf_{day}.pkl\"\n",
    "    path_rs = f\"{FULL_PATH}/model/robust_scaler_{day}.pkl\"\n",
    "#    path_lg = f\"{FULL_PATH}/model/lgbm_{day}.pkl\"\n",
    "    path_pca = f\"{FULL_PATH}/model/pca_{day}.pkl\"\n",
    "    \n",
    "#    clf_lg = pickle.load(open(path_lg, 'rb'))\n",
    "    clf_rf = pickle.load(open(path_rf, 'rb'))\n",
    "    scl = pickle.load(open(path_rs, 'rb'))\n",
    "    pca = pickle.load(open(path_pca, 'rb'))\n",
    "    \n",
    "    X = dataframe[U_COLUMNS].values\n",
    "    y = dataframe[f\"tag_{day}\"].values\n",
    "    y = np.where(y == 'outlier bear', 'strong bear', y)\n",
    "    y = np.where(y == 'outlier bull', 'strong bull', y)\n",
    "    X_scl = scl.transform(X)\n",
    "    y_pred_rf = clf_rf.predict(X_scl)\n",
    "#    y_pred_lg = clf_lg.predict(X_scl)\n",
    "    X_pca = pca.transform(X_scl)\n",
    "    \n",
    "    df_aux = pd.DataFrame(X_pca, columns=[f'PC {elem}' for elem in range(1, 5)], index=dataframe.index)\n",
    "    df_aux[f'rf_tag_y_{day}'] = y_pred_rf + ' - ' + y\n",
    "#    df_aux[f'lg_tag_y_{day}'] = y_pred_lg + ' - ' + y\n",
    "    list_df_strategy.append(df_aux.reset_index().sort_values(by='date', ascending=True))"
   ]
  },
  {
   "cell_type": "code",
   "execution_count": 18,
   "metadata": {},
   "outputs": [],
   "source": [
    "dict_rf = dict()\n",
    "dict_lg = dict()\n",
    "\n",
    "for idx, day in enumerate(PERIOD):\n",
    "    df = list_df_strategy[idx].reset_index(drop=True)\n",
    "    df_rf = df[df[f'rf_tag_y_{day}'].str.startswith('strong')]\n",
    "#    df_lg = df[df[f'lg_tag_y_{day}'].str.startswith('strong')]\n",
    "    for idx_df in range(0, df.shape[0]):\n",
    "        pred_rf = df.loc[idx_df][f'rf_tag_y_{day}'].split(' - ')[0]\n",
    "        clas_rf = df.loc[idx_df][f'rf_tag_y_{day}'].split(' - ')[1]\n",
    "#        pred_lg = df.loc[idx_df][f'lg_tag_y_{day}'].split(' - ')[0]\n",
    "#        clas_lg = df.loc[idx_df][f'lg_tag_y_{day}'].split(' - ')[1]\n",
    "        df_aux_agg_rf = df_agg[df_agg['tag_y'].str.startswith(f'{day} - rf - {pred_rf}')]\n",
    "        if df_aux_agg_rf.shape[0] == 0:\n",
    "            continue\n",
    "#        df_aux_agg_lg = df_agg[df_agg['tag_y'].str.startswith(f'{day} - lg - {pred_lg}')]\n",
    "        symbol = df.loc[idx_df]['symbol']\n",
    "        date = df.loc[idx_df]['date']\n",
    "        pc = df.loc[idx_df][['PC 1', 'PC 2', 'PC 3', 'PC 4']]\n",
    "#        cos_sim_lg = cosine_similarity(pc.values.reshape(1, -1), df_aux_agg_lg.select_dtypes(float))\n",
    "        cos_sim_rf = cosine_similarity(pc.values.reshape(1, -1), df_aux_agg_rf.select_dtypes(float))\n",
    "        idx_max_rf = np.argmax(abs(cos_sim_rf))\n",
    "#        idx_max_lg = np.argmax(abs(cos_sim_lg))\n",
    "        norm_rf = df_aux_agg_rf.reset_index(drop=True).loc[idx_max_rf]['tag_y'].rsplit(' - ', 1)[-1]\n",
    "#        norm_lg = df_aux_agg_lg.reset_index(drop=True).loc[idx_max_lg]['tag_y'].rsplit(' - ', 1)[-1]\n",
    "        if pred_rf.startswith('strong'):\n",
    "            if pred_rf == norm_rf:\n",
    "                if day not in dict_rf.keys():\n",
    "                    dict_rf[day] = list()\n",
    "                    dict_rf[day].append({'symbol': symbol,\n",
    "                                         'date': date,\n",
    "                                         'count': 1,\n",
    "                                         'success': 1 if pred_rf == clas_rf else 0,\n",
    "                                         'pred': pred_rf,\n",
    "                                         'class': clas_rf})\n",
    "                else:\n",
    "                    dict_rf[day].append({'symbol': symbol,\n",
    "                                         'date': date,\n",
    "                                         'count': 1,\n",
    "                                         'success': 1 if pred_rf == clas_rf else 0,\n",
    "                                         'pred': pred_rf,\n",
    "                                         'class': clas_rf})\n",
    "\n",
    "#        if pred_lg.startswith('strong'):\n",
    "#            if pred_lg == norm_lg:\n",
    "#                if day not in dict_lg.keys():\n",
    "#                    dict_lg[day] = list()\n",
    "#                    dict_lg[day].append({'symbol': symbol,\n",
    "#                                         'date': date,\n",
    "#                                         'count': 1,\n",
    "#                                         'success': 1 if pred_lg == clas_lg else 0})\n",
    "#                else:\n",
    "#                    dict_lg[day].append({'symbol': symbol,\n",
    "#                                         'date': date,\n",
    "#                                         'count': 1,\n",
    "#                                         'success': 1 if pred_lg == clas_lg else 0})\n"
   ]
  },
  {
   "cell_type": "code",
   "execution_count": 46,
   "metadata": {},
   "outputs": [],
   "source": [
    "day = 21"
   ]
  },
  {
   "cell_type": "code",
   "execution_count": 47,
   "metadata": {},
   "outputs": [
    {
     "data": {
      "text/plain": [
       "0.5050175672262154"
      ]
     },
     "execution_count": 47,
     "metadata": {},
     "output_type": "execute_result"
    }
   ],
   "source": [
    "(18281 + 3711) / (2527+3711+1583+17445+18281)"
   ]
  },
  {
   "cell_type": "code",
   "execution_count": 54,
   "metadata": {},
   "outputs": [
    {
     "data": {
      "text/html": [
       "<div>\n",
       "<style scoped>\n",
       "    .dataframe tbody tr th:only-of-type {\n",
       "        vertical-align: middle;\n",
       "    }\n",
       "\n",
       "    .dataframe tbody tr th {\n",
       "        vertical-align: top;\n",
       "    }\n",
       "\n",
       "    .dataframe thead th {\n",
       "        text-align: right;\n",
       "    }\n",
       "</style>\n",
       "<table border=\"1\" class=\"dataframe\">\n",
       "  <thead>\n",
       "    <tr style=\"text-align: right;\">\n",
       "      <th></th>\n",
       "      <th>pred</th>\n",
       "      <th>class</th>\n",
       "      <th>count</th>\n",
       "      <th>success</th>\n",
       "    </tr>\n",
       "  </thead>\n",
       "  <tbody>\n",
       "    <tr>\n",
       "      <th>0</th>\n",
       "      <td>strong bear</td>\n",
       "      <td>bear</td>\n",
       "      <td>566</td>\n",
       "      <td>0</td>\n",
       "    </tr>\n",
       "    <tr>\n",
       "      <th>1</th>\n",
       "      <td>strong bear</td>\n",
       "      <td>bull</td>\n",
       "      <td>1211</td>\n",
       "      <td>0</td>\n",
       "    </tr>\n",
       "    <tr>\n",
       "      <th>2</th>\n",
       "      <td>strong bear</td>\n",
       "      <td>keep</td>\n",
       "      <td>426</td>\n",
       "      <td>0</td>\n",
       "    </tr>\n",
       "    <tr>\n",
       "      <th>3</th>\n",
       "      <td>strong bear</td>\n",
       "      <td>strong bear</td>\n",
       "      <td>2674</td>\n",
       "      <td>2674</td>\n",
       "    </tr>\n",
       "    <tr>\n",
       "      <th>4</th>\n",
       "      <td>strong bear</td>\n",
       "      <td>strong bull</td>\n",
       "      <td>1569</td>\n",
       "      <td>0</td>\n",
       "    </tr>\n",
       "    <tr>\n",
       "      <th>5</th>\n",
       "      <td>strong bull</td>\n",
       "      <td>bear</td>\n",
       "      <td>5416</td>\n",
       "      <td>0</td>\n",
       "    </tr>\n",
       "    <tr>\n",
       "      <th>6</th>\n",
       "      <td>strong bull</td>\n",
       "      <td>bull</td>\n",
       "      <td>6145</td>\n",
       "      <td>0</td>\n",
       "    </tr>\n",
       "    <tr>\n",
       "      <th>7</th>\n",
       "      <td>strong bull</td>\n",
       "      <td>keep</td>\n",
       "      <td>3557</td>\n",
       "      <td>0</td>\n",
       "    </tr>\n",
       "    <tr>\n",
       "      <th>8</th>\n",
       "      <td>strong bull</td>\n",
       "      <td>strong bear</td>\n",
       "      <td>16393</td>\n",
       "      <td>0</td>\n",
       "    </tr>\n",
       "    <tr>\n",
       "      <th>9</th>\n",
       "      <td>strong bull</td>\n",
       "      <td>strong bull</td>\n",
       "      <td>29281</td>\n",
       "      <td>29281</td>\n",
       "    </tr>\n",
       "  </tbody>\n",
       "</table>\n",
       "</div>"
      ],
      "text/plain": [
       "          pred        class  count  success\n",
       "0  strong bear         bear    566        0\n",
       "1  strong bear         bull   1211        0\n",
       "2  strong bear         keep    426        0\n",
       "3  strong bear  strong bear   2674     2674\n",
       "4  strong bear  strong bull   1569        0\n",
       "5  strong bull         bear   5416        0\n",
       "6  strong bull         bull   6145        0\n",
       "7  strong bull         keep   3557        0\n",
       "8  strong bull  strong bear  16393        0\n",
       "9  strong bull  strong bull  29281    29281"
      ]
     },
     "execution_count": 54,
     "metadata": {},
     "output_type": "execute_result"
    }
   ],
   "source": [
    "pd.DataFrame(dict_rf[day]).groupby(['pred', 'class'], as_index=False).sum()"
   ]
  },
  {
   "cell_type": "code",
   "execution_count": 49,
   "metadata": {},
   "outputs": [
    {
     "data": {
      "text/html": [
       "<div>\n",
       "<style scoped>\n",
       "    .dataframe tbody tr th:only-of-type {\n",
       "        vertical-align: middle;\n",
       "    }\n",
       "\n",
       "    .dataframe tbody tr th {\n",
       "        vertical-align: top;\n",
       "    }\n",
       "\n",
       "    .dataframe thead th {\n",
       "        text-align: right;\n",
       "    }\n",
       "</style>\n",
       "<table border=\"1\" class=\"dataframe\">\n",
       "  <thead>\n",
       "    <tr style=\"text-align: right;\">\n",
       "      <th></th>\n",
       "      <th>pred</th>\n",
       "      <th>count</th>\n",
       "      <th>success</th>\n",
       "    </tr>\n",
       "  </thead>\n",
       "  <tbody>\n",
       "    <tr>\n",
       "      <th>0</th>\n",
       "      <td>strong bear</td>\n",
       "      <td>6446</td>\n",
       "      <td>2674</td>\n",
       "    </tr>\n",
       "    <tr>\n",
       "      <th>1</th>\n",
       "      <td>strong bull</td>\n",
       "      <td>60792</td>\n",
       "      <td>29281</td>\n",
       "    </tr>\n",
       "  </tbody>\n",
       "</table>\n",
       "</div>"
      ],
      "text/plain": [
       "          pred  count  success\n",
       "0  strong bear   6446     2674\n",
       "1  strong bull  60792    29281"
      ]
     },
     "execution_count": 49,
     "metadata": {},
     "output_type": "execute_result"
    }
   ],
   "source": [
    "pd.DataFrame(dict_rf[day]).groupby(['pred'], as_index=False).sum()"
   ]
  },
  {
   "cell_type": "code",
   "execution_count": 60,
   "metadata": {},
   "outputs": [
    {
     "data": {
      "text/plain": [
       "0.5750617210505964"
      ]
     },
     "execution_count": 60,
     "metadata": {},
     "output_type": "execute_result"
    }
   ],
   "source": [
    "(2674+29281+566+6145)/(60792+6446)"
   ]
  },
  {
   "cell_type": "code",
   "execution_count": 58,
   "metadata": {},
   "outputs": [
    {
     "data": {
      "text/plain": [
       "0.5827411501513357"
      ]
     },
     "execution_count": 58,
     "metadata": {},
     "output_type": "execute_result"
    }
   ],
   "source": [
    "(29281+6145)/(5416 + 6145 + 3557 + 16393 + 29281)"
   ]
  },
  {
   "cell_type": "code",
   "execution_count": 50,
   "metadata": {
    "scrolled": true
   },
   "outputs": [
    {
     "data": {
      "text/plain": [
       "47.53"
      ]
     },
     "execution_count": 50,
     "metadata": {},
     "output_type": "execute_result"
    }
   ],
   "source": [
    "round((pd.DataFrame(dict_rf[day])['success'].sum() / pd.DataFrame(dict_rf[day]).shape[0]) * 100, 2)"
   ]
  },
  {
   "cell_type": "code",
   "execution_count": 34,
   "metadata": {},
   "outputs": [],
   "source": [
    "# round((pd.DataFrame(dict_lg[day])['success'].sum() / pd.DataFrame(dict_lg[day]).shape[0]) * 100, 2)"
   ]
  },
  {
   "cell_type": "code",
   "execution_count": 65,
   "metadata": {},
   "outputs": [
    {
     "name": "stdout",
     "output_type": "stream",
     "text": [
      "           pred        class  count  success\n",
      "0   strong bear         bear    213        0\n",
      "1   strong bear         bull    234        0\n",
      "2   strong bear         keep    102        0\n",
      "3   strong bear  strong bear    744      744\n",
      "4   strong bear  strong bull    391        0\n",
      "5   strong bull         bear    357        0\n",
      "6   strong bull         bull    273        0\n",
      "7   strong bull         keep    187        0\n",
      "8   strong bull  strong bear   1202        0\n",
      "9   strong bull  strong bull    368      368\n",
      "10  strong bear         bear     46        0\n",
      "11  strong bear         bull     34        0\n",
      "12  strong bear         keep     20        0\n",
      "13  strong bear  strong bear   1424     1424\n",
      "14  strong bear  strong bull     52        0\n",
      "15  strong bull         bear    351        0\n",
      "16  strong bull         bull    117        0\n",
      "17  strong bull         keep    126        0\n",
      "18  strong bull  strong bear   5341        0\n",
      "19  strong bull  strong bull    189      189\n",
      "20  strong bear         bear     71        0\n",
      "21  strong bear         bull     94        0\n",
      "22  strong bear         keep     50        0\n",
      "23  strong bear  strong bear    325      325\n",
      "24  strong bear  strong bull    210        0\n",
      "25  strong bull         bear   3835        0\n",
      "26  strong bull         bull   3167        0\n",
      "27  strong bull         keep   2330        0\n",
      "28  strong bull  strong bear   9312        0\n",
      "29  strong bull  strong bull  21501    21501\n",
      "30  strong bear         bear    148        0\n",
      "31  strong bear         bull    398        0\n",
      "32  strong bear         keep    158        0\n",
      "33  strong bear  strong bear    122      122\n",
      "34  strong bear  strong bull    290        0\n",
      "35  strong bull         bear    634        0\n",
      "36  strong bull         bull   1643        0\n",
      "37  strong bull         keep    629        0\n",
      "38  strong bull  strong bear    431        0\n",
      "39  strong bull  strong bull   4984     4984\n",
      "40  strong bear         bear     86        0\n",
      "41  strong bear         bull    436        0\n",
      "42  strong bear         keep     92        0\n",
      "43  strong bear  strong bear     56       56\n",
      "44  strong bear  strong bull    617        0\n",
      "45  strong bull         bear    225        0\n",
      "46  strong bull         bull    924        0\n",
      "47  strong bull         keep    264        0\n",
      "48  strong bull  strong bear    103        0\n",
      "49  strong bull  strong bull   2234     2234\n",
      "50  strong bear         bear      2        0\n",
      "51  strong bear         bull     15        0\n",
      "52  strong bear         keep      4        0\n",
      "53  strong bear  strong bear      3        3\n",
      "54  strong bear  strong bull      9        0\n",
      "55  strong bull         bear     14        0\n",
      "56  strong bull         bull     21        0\n",
      "57  strong bull         keep     21        0\n",
      "58  strong bull  strong bear      4        0\n",
      "59  strong bull  strong bull      5        5\n"
     ]
    },
    {
     "data": {
      "text/plain": [
       "0       0.0\n",
       "1       0.0\n",
       "2       0.0\n",
       "3     100.0\n",
       "4       0.0\n",
       "5       0.0\n",
       "6       0.0\n",
       "7       0.0\n",
       "8       0.0\n",
       "9     100.0\n",
       "10      0.0\n",
       "11      0.0\n",
       "12      0.0\n",
       "13    100.0\n",
       "14      0.0\n",
       "15      0.0\n",
       "16      0.0\n",
       "17      0.0\n",
       "18      0.0\n",
       "19    100.0\n",
       "20      0.0\n",
       "21      0.0\n",
       "22      0.0\n",
       "23    100.0\n",
       "24      0.0\n",
       "25      0.0\n",
       "26      0.0\n",
       "27      0.0\n",
       "28      0.0\n",
       "29    100.0\n",
       "30      0.0\n",
       "31      0.0\n",
       "32      0.0\n",
       "33    100.0\n",
       "34      0.0\n",
       "35      0.0\n",
       "36      0.0\n",
       "37      0.0\n",
       "38      0.0\n",
       "39    100.0\n",
       "40      0.0\n",
       "41      0.0\n",
       "42      0.0\n",
       "43    100.0\n",
       "44      0.0\n",
       "45      0.0\n",
       "46      0.0\n",
       "47      0.0\n",
       "48      0.0\n",
       "49    100.0\n",
       "50      0.0\n",
       "51      0.0\n",
       "52      0.0\n",
       "53    100.0\n",
       "54      0.0\n",
       "55      0.0\n",
       "56      0.0\n",
       "57      0.0\n",
       "58      0.0\n",
       "59    100.0\n",
       "dtype: float64"
      ]
     },
     "execution_count": 65,
     "metadata": {},
     "output_type": "execute_result"
    }
   ],
   "source": [
    "aux = pd.DataFrame(dict_rf[day])\n",
    "aux_a = aux.groupby(by=[aux['date'].dt.month, 'pred', 'class'], as_index=False)[['count', 'success']].sum()\n",
    "print(aux_a)\n",
    "round((aux_a['success'] / aux_a['count']) * 100, 2)"
   ]
  },
  {
   "cell_type": "code",
   "execution_count": 66,
   "metadata": {
    "scrolled": false
   },
   "outputs": [
    {
     "name": "stdout",
     "output_type": "stream",
     "text": [
      "   count  success\n",
      "0   4071     1112\n",
      "1   7700     1613\n",
      "2  40895    21826\n",
      "3   9437     5106\n",
      "4   5037     2290\n",
      "5     98        8\n"
     ]
    },
    {
     "data": {
      "text/plain": [
       "0    27.32\n",
       "1    20.95\n",
       "2    53.37\n",
       "3    54.11\n",
       "4    45.46\n",
       "5     8.16\n",
       "dtype: float64"
      ]
     },
     "execution_count": 66,
     "metadata": {},
     "output_type": "execute_result"
    }
   ],
   "source": [
    "aux = pd.DataFrame(dict_rf[day])\n",
    "aux_a = aux.groupby(by=[aux['date'].dt.month], as_index=False)[['count', 'success']].sum()\n",
    "print(aux_a)\n",
    "round((aux_a['success'] / aux_a['count']) * 100, 2)"
   ]
  },
  {
   "cell_type": "code",
   "execution_count": 25,
   "metadata": {},
   "outputs": [
    {
     "ename": "KeyError",
     "evalue": "7",
     "output_type": "error",
     "traceback": [
      "\u001b[0;31m---------------------------------------------------------------------------\u001b[0m",
      "\u001b[0;31mKeyError\u001b[0m                                  Traceback (most recent call last)",
      "\u001b[0;32m<ipython-input-25-ace18721b8c5>\u001b[0m in \u001b[0;36m<module>\u001b[0;34m\u001b[0m\n\u001b[0;32m----> 1\u001b[0;31m \u001b[0maux\u001b[0m \u001b[0;34m=\u001b[0m \u001b[0mpd\u001b[0m\u001b[0;34m.\u001b[0m\u001b[0mDataFrame\u001b[0m\u001b[0;34m(\u001b[0m\u001b[0mdict_lg\u001b[0m\u001b[0;34m[\u001b[0m\u001b[0mday\u001b[0m\u001b[0;34m]\u001b[0m\u001b[0;34m)\u001b[0m\u001b[0;34m\u001b[0m\u001b[0;34m\u001b[0m\u001b[0m\n\u001b[0m\u001b[1;32m      2\u001b[0m \u001b[0maux_a\u001b[0m \u001b[0;34m=\u001b[0m \u001b[0maux\u001b[0m\u001b[0;34m.\u001b[0m\u001b[0mgroupby\u001b[0m\u001b[0;34m(\u001b[0m\u001b[0mby\u001b[0m\u001b[0;34m=\u001b[0m\u001b[0maux\u001b[0m\u001b[0;34m[\u001b[0m\u001b[0;34m'date'\u001b[0m\u001b[0;34m]\u001b[0m\u001b[0;34m.\u001b[0m\u001b[0mdt\u001b[0m\u001b[0;34m.\u001b[0m\u001b[0mmonth\u001b[0m\u001b[0;34m)\u001b[0m\u001b[0;34m[\u001b[0m\u001b[0;34m[\u001b[0m\u001b[0;34m'count'\u001b[0m\u001b[0;34m,\u001b[0m \u001b[0;34m'success'\u001b[0m\u001b[0;34m]\u001b[0m\u001b[0;34m]\u001b[0m\u001b[0;34m.\u001b[0m\u001b[0msum\u001b[0m\u001b[0;34m(\u001b[0m\u001b[0;34m)\u001b[0m\u001b[0;34m\u001b[0m\u001b[0;34m\u001b[0m\u001b[0m\n\u001b[1;32m      3\u001b[0m \u001b[0mprint\u001b[0m\u001b[0;34m(\u001b[0m\u001b[0maux_a\u001b[0m\u001b[0;34m)\u001b[0m\u001b[0;34m\u001b[0m\u001b[0;34m\u001b[0m\u001b[0m\n\u001b[1;32m      4\u001b[0m \u001b[0mround\u001b[0m\u001b[0;34m(\u001b[0m\u001b[0;34m(\u001b[0m\u001b[0maux_a\u001b[0m\u001b[0;34m[\u001b[0m\u001b[0;34m'success'\u001b[0m\u001b[0;34m]\u001b[0m \u001b[0;34m/\u001b[0m \u001b[0maux_a\u001b[0m\u001b[0;34m[\u001b[0m\u001b[0;34m'count'\u001b[0m\u001b[0;34m]\u001b[0m\u001b[0;34m)\u001b[0m \u001b[0;34m*\u001b[0m \u001b[0;36m100\u001b[0m\u001b[0;34m,\u001b[0m \u001b[0;36m2\u001b[0m\u001b[0;34m)\u001b[0m\u001b[0;34m\u001b[0m\u001b[0;34m\u001b[0m\u001b[0m\n",
      "\u001b[0;31mKeyError\u001b[0m: 7"
     ]
    }
   ],
   "source": [
    "aux = pd.DataFrame(dict_lg[day])\n",
    "aux_a = aux.groupby(by=aux['date'].dt.month)[['count', 'success']].sum()\n",
    "print(aux_a)\n",
    "round((aux_a['success'] / aux_a['count']) * 100, 2)"
   ]
  },
  {
   "cell_type": "code",
   "execution_count": null,
   "metadata": {},
   "outputs": [],
   "source": []
  },
  {
   "cell_type": "code",
   "execution_count": null,
   "metadata": {},
   "outputs": [],
   "source": []
  }
 ],
 "metadata": {
  "kernelspec": {
   "display_name": "Python 3",
   "language": "python",
   "name": "python3"
  },
  "language_info": {
   "codemirror_mode": {
    "name": "ipython",
    "version": 3
   },
   "file_extension": ".py",
   "mimetype": "text/x-python",
   "name": "python",
   "nbconvert_exporter": "python",
   "pygments_lexer": "ipython3",
   "version": "3.7.7"
  }
 },
 "nbformat": 4,
 "nbformat_minor": 4
}
