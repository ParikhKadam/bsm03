{
 "cells": [
  {
   "cell_type": "markdown",
   "metadata": {},
   "source": [
    "Este notebook se usa para crear el modelo de datos que observamos en el análisis."
   ]
  },
  {
   "cell_type": "code",
   "execution_count": 1,
   "metadata": {},
   "outputs": [],
   "source": [
    "import sys\n",
    "import os\n",
    "import warnings\n",
    "import pickle\n",
    "from datetime import datetime\n",
    "from dateutil.relativedelta import relativedelta\n",
    "\n",
    "import pandas as pd\n",
    "import numpy as np\n",
    "from sklearn.metrics import classification_report\n",
    "from sklearn.model_selection import GridSearchCV, train_test_split\n",
    "from sklearn.preprocessing import RobustScaler\n",
    "from sklearn.ensemble import RandomForestClassifier\n",
    "\n",
    "warnings.filterwarnings(\"ignore\")\n",
    "\n",
    "app_path = '/Users/esanc147/Documents/business/bsm03/web_app'\n",
    "if app_path in sys.path:\n",
    "    from tools.tags import create_tags\n",
    "else: \n",
    "    sys.path.append('/Users/esanc147/Documents/business/bsm03/web_app')\n",
    "    from tools.tags import create_tags"
   ]
  },
  {
   "cell_type": "markdown",
   "metadata": {},
   "source": [
    "## Valores por defecto"
   ]
  },
  {
   "cell_type": "code",
   "execution_count": 2,
   "metadata": {},
   "outputs": [],
   "source": [
    "COLUMNS_TECH = ['symbol', 'date', 'MACD_Signal', 'MACD_Hist', 'MACD', 'SlowK', 'SlowD',\n",
    "       'Chaikin A/D', 'OBV', 'RSI21', 'ADX21',\n",
    "       'CCI21', 'Aroon Up21', 'Aroon Down21',\n",
    "       'RSI28', 'ADX28', 'CCI28', 'Aroon Down28', 'Aroon Up28',\n",
    "       'Real Lower Band28', 'Real Upper Band28', 'Real Middle Band28',\n",
    "       'SMA50', 'RSI50', 'ADX50', 'CCI50', 'Aroon Up50',\n",
    "       'Aroon Down50']\n",
    "COLUMNS = ['symbol', 'date', 'close', 'volume', 'open', 'high', 'low']\n",
    "U_COLUMNS = ['close', 'volume', 'MACD_Signal', 'MACD_Hist', 'MACD', 'SlowK', 'SlowD',\n",
    "             'Chaikin A/D', 'OBV', 'RSI21', 'ADX21', 'CCI21', 'Aroon Up21', 'Aroon Down21',\n",
    "             'RSI28', 'ADX28', 'CCI28', 'Aroon Down28', 'Aroon Up28', 'Real Lower Band28',\n",
    "             'Real Upper Band28', 'Real Middle Band28', 'SMA50', 'RSI50', 'ADX50', 'CCI50',\n",
    "             'Aroon Up50', 'Aroon Down50']\n",
    "FULL_PATH = \"/Users/esanc147/Documents/business/bsm03/web_app/data\"\n",
    "# SYMBOLS = [s.split('.csv')[0] for s in os.listdir(f\"{FULL_PATH}/tech/\") if '.L' not in s]\n",
    "SYMBOLS = ['MSFT', 'AAPL', 'AMZN', 'INTC', 'NFLX', 'INTU', 'NVDA']\n",
    "PERIOD = [7, 14, 21, 28]"
   ]
  },
  {
   "cell_type": "markdown",
   "metadata": {},
   "source": [
    "## Carga de los datos"
   ]
  },
  {
   "cell_type": "code",
   "execution_count": 4,
   "metadata": {},
   "outputs": [
    {
     "name": "stdout",
     "output_type": "stream",
     "text": [
      "+1000 symbols loaded\n",
      "+1000 symbols loaded\n",
      "+1000 symbols loaded\n",
      "+1000 symbols loaded\n",
      "+1000 symbols loaded\n",
      "+1000 symbols loaded\n"
     ]
    },
    {
     "ename": "ValueError",
     "evalue": "cannot set a frame with no defined index and a scalar",
     "output_type": "error",
     "traceback": [
      "\u001b[0;31m---------------------------------------------------------------------------\u001b[0m",
      "\u001b[0;31mValueError\u001b[0m                                Traceback (most recent call last)",
      "\u001b[0;32m<ipython-input-4-58a5f8cfb8ff>\u001b[0m in \u001b[0;36m<module>\u001b[0;34m\u001b[0m\n\u001b[1;32m     18\u001b[0m     \u001b[0mlist_df_tagged\u001b[0m \u001b[0;34m=\u001b[0m \u001b[0;34m[\u001b[0m\u001b[0;34m]\u001b[0m\u001b[0;34m\u001b[0m\u001b[0;34m\u001b[0m\u001b[0m\n\u001b[1;32m     19\u001b[0m     \u001b[0;32mfor\u001b[0m \u001b[0mperiod\u001b[0m \u001b[0;32min\u001b[0m \u001b[0mPERIOD\u001b[0m\u001b[0;34m:\u001b[0m\u001b[0;34m\u001b[0m\u001b[0;34m\u001b[0m\u001b[0m\n\u001b[0;32m---> 20\u001b[0;31m         \u001b[0mdf_aux\u001b[0m \u001b[0;34m=\u001b[0m \u001b[0mcreate_tags\u001b[0m\u001b[0;34m(\u001b[0m\u001b[0mdf_close\u001b[0m\u001b[0;34m,\u001b[0m \u001b[0mperiod\u001b[0m\u001b[0;34m)\u001b[0m\u001b[0;34m\u001b[0m\u001b[0;34m\u001b[0m\u001b[0m\n\u001b[0m\u001b[1;32m     21\u001b[0m         \u001b[0mdf_aux\u001b[0m\u001b[0;34m[\u001b[0m\u001b[0;34mf\"pct_change_{period}\"\u001b[0m\u001b[0;34m]\u001b[0m \u001b[0;34m=\u001b[0m \u001b[0mdf_aux\u001b[0m\u001b[0;34m[\u001b[0m\u001b[0;34mf\"pct_change_{period}\"\u001b[0m\u001b[0;34m]\u001b[0m\u001b[0;34m.\u001b[0m\u001b[0mastype\u001b[0m\u001b[0;34m(\u001b[0m\u001b[0mfloat\u001b[0m\u001b[0;34m)\u001b[0m\u001b[0;34m\u001b[0m\u001b[0;34m\u001b[0m\u001b[0m\n\u001b[1;32m     22\u001b[0m         \u001b[0mdf_aux\u001b[0m\u001b[0;34m[\u001b[0m\u001b[0;34mf\"pct_change_{period}\"\u001b[0m\u001b[0;34m]\u001b[0m \u001b[0;34m=\u001b[0m \u001b[0mdf_aux\u001b[0m\u001b[0;34m[\u001b[0m\u001b[0;34mf\"pct_change_{period}\"\u001b[0m\u001b[0;34m]\u001b[0m\u001b[0;34m.\u001b[0m\u001b[0mastype\u001b[0m\u001b[0;34m(\u001b[0m\u001b[0mfloat\u001b[0m\u001b[0;34m)\u001b[0m\u001b[0;34m\u001b[0m\u001b[0;34m\u001b[0m\u001b[0m\n",
      "\u001b[0;32m~/Documents/business/bsm03/web_app/tools/tags.py\u001b[0m in \u001b[0;36mcreate_tags\u001b[0;34m(dataframe, periods)\u001b[0m\n\u001b[1;32m    218\u001b[0m     \u001b[0mdf\u001b[0m \u001b[0;34m=\u001b[0m \u001b[0mstats\u001b[0m\u001b[0;34m(\u001b[0m\u001b[0mdataframe\u001b[0m\u001b[0;34m.\u001b[0m\u001b[0mto_numpy\u001b[0m\u001b[0;34m(\u001b[0m\u001b[0;34m)\u001b[0m\u001b[0;34m,\u001b[0m \u001b[0msign\u001b[0m\u001b[0;34m,\u001b[0m \u001b[0mrelativedelta\u001b[0m\u001b[0;34m(\u001b[0m\u001b[0mmonths\u001b[0m\u001b[0;34m=\u001b[0m\u001b[0;36m4\u001b[0m\u001b[0;34m)\u001b[0m\u001b[0;34m)\u001b[0m\u001b[0;34m\u001b[0m\u001b[0;34m\u001b[0m\u001b[0m\n\u001b[1;32m    219\u001b[0m     \u001b[0mdata\u001b[0m \u001b[0;34m=\u001b[0m \u001b[0mpd\u001b[0m\u001b[0;34m.\u001b[0m\u001b[0mDataFrame\u001b[0m\u001b[0;34m(\u001b[0m\u001b[0mdf\u001b[0m\u001b[0;34m,\u001b[0m \u001b[0mcolumns\u001b[0m\u001b[0;34m=\u001b[0m\u001b[0mCOLS_STATS\u001b[0m\u001b[0;34m)\u001b[0m\u001b[0;34m\u001b[0m\u001b[0;34m\u001b[0m\u001b[0m\n\u001b[0;32m--> 220\u001b[0;31m     \u001b[0mdf\u001b[0m \u001b[0;34m=\u001b[0m \u001b[0mtagging\u001b[0m\u001b[0;34m(\u001b[0m\u001b[0mdata\u001b[0m\u001b[0;34m,\u001b[0m \u001b[0mperiods\u001b[0m\u001b[0;34m)\u001b[0m\u001b[0;34m\u001b[0m\u001b[0;34m\u001b[0m\u001b[0m\n\u001b[0m\u001b[1;32m    221\u001b[0m     \u001b[0mdf\u001b[0m \u001b[0;34m=\u001b[0m \u001b[0mdf\u001b[0m\u001b[0;34m.\u001b[0m\u001b[0mdropna\u001b[0m\u001b[0;34m(\u001b[0m\u001b[0;34m)\u001b[0m\u001b[0;34m\u001b[0m\u001b[0;34m\u001b[0m\u001b[0m\n\u001b[1;32m    222\u001b[0m     \u001b[0;32mreturn\u001b[0m \u001b[0mdf\u001b[0m\u001b[0;34m[\u001b[0m\u001b[0;34m[\u001b[0m\u001b[0;34m'symbol'\u001b[0m\u001b[0;34m,\u001b[0m \u001b[0;34m'date'\u001b[0m\u001b[0;34m,\u001b[0m \u001b[0;34mf'pct_change_{periods}'\u001b[0m\u001b[0;34m,\u001b[0m \u001b[0;34mf'tag_{periods}'\u001b[0m\u001b[0;34m]\u001b[0m\u001b[0;34m]\u001b[0m\u001b[0;34m.\u001b[0m\u001b[0mset_index\u001b[0m\u001b[0;34m(\u001b[0m\u001b[0;34m[\u001b[0m\u001b[0;34m'symbol'\u001b[0m\u001b[0;34m,\u001b[0m \u001b[0;34m'date'\u001b[0m\u001b[0;34m]\u001b[0m\u001b[0;34m)\u001b[0m\u001b[0;34m\u001b[0m\u001b[0;34m\u001b[0m\u001b[0m\n",
      "\u001b[0;32m~/Documents/business/bsm03/web_app/tools/tags.py\u001b[0m in \u001b[0;36mtagging\u001b[0;34m(df, periods)\u001b[0m\n\u001b[1;32m    169\u001b[0m     \u001b[0;31m# no a cero.\u001b[0m\u001b[0;34m\u001b[0m\u001b[0;34m\u001b[0m\u001b[0;34m\u001b[0m\u001b[0m\n\u001b[1;32m    170\u001b[0m     df.loc[(df['sign'] == -1) & (df['iqr_min'] >= df[f'pct_change_{periods}']),\n\u001b[0;32m--> 171\u001b[0;31m            f'tag_{periods}'] = 'outlier bear'\n\u001b[0m\u001b[1;32m    172\u001b[0m     df.loc[(df['sign'] == -1) & (df['iqr_min'] < df[f'pct_change_{periods}']),\n\u001b[1;32m    173\u001b[0m            f'tag_{periods}'] = 'strong bear'\n",
      "\u001b[0;32m//anaconda3/envs/bsm03/lib/python3.7/site-packages/pandas/core/indexing.py\u001b[0m in \u001b[0;36m__setitem__\u001b[0;34m(self, key, value)\u001b[0m\n\u001b[1;32m    669\u001b[0m             \u001b[0mkey\u001b[0m \u001b[0;34m=\u001b[0m \u001b[0mcom\u001b[0m\u001b[0;34m.\u001b[0m\u001b[0mapply_if_callable\u001b[0m\u001b[0;34m(\u001b[0m\u001b[0mkey\u001b[0m\u001b[0;34m,\u001b[0m \u001b[0mself\u001b[0m\u001b[0;34m.\u001b[0m\u001b[0mobj\u001b[0m\u001b[0;34m)\u001b[0m\u001b[0;34m\u001b[0m\u001b[0;34m\u001b[0m\u001b[0m\n\u001b[1;32m    670\u001b[0m         \u001b[0mindexer\u001b[0m \u001b[0;34m=\u001b[0m \u001b[0mself\u001b[0m\u001b[0;34m.\u001b[0m\u001b[0m_get_setitem_indexer\u001b[0m\u001b[0;34m(\u001b[0m\u001b[0mkey\u001b[0m\u001b[0;34m)\u001b[0m\u001b[0;34m\u001b[0m\u001b[0;34m\u001b[0m\u001b[0m\n\u001b[0;32m--> 671\u001b[0;31m         \u001b[0mself\u001b[0m\u001b[0;34m.\u001b[0m\u001b[0m_setitem_with_indexer\u001b[0m\u001b[0;34m(\u001b[0m\u001b[0mindexer\u001b[0m\u001b[0;34m,\u001b[0m \u001b[0mvalue\u001b[0m\u001b[0;34m)\u001b[0m\u001b[0;34m\u001b[0m\u001b[0;34m\u001b[0m\u001b[0m\n\u001b[0m\u001b[1;32m    672\u001b[0m \u001b[0;34m\u001b[0m\u001b[0m\n\u001b[1;32m    673\u001b[0m     \u001b[0;32mdef\u001b[0m \u001b[0m_validate_key\u001b[0m\u001b[0;34m(\u001b[0m\u001b[0mself\u001b[0m\u001b[0;34m,\u001b[0m \u001b[0mkey\u001b[0m\u001b[0;34m,\u001b[0m \u001b[0maxis\u001b[0m\u001b[0;34m:\u001b[0m \u001b[0mint\u001b[0m\u001b[0;34m)\u001b[0m\u001b[0;34m:\u001b[0m\u001b[0;34m\u001b[0m\u001b[0;34m\u001b[0m\u001b[0m\n",
      "\u001b[0;32m//anaconda3/envs/bsm03/lib/python3.7/site-packages/pandas/core/indexing.py\u001b[0m in \u001b[0;36m_setitem_with_indexer\u001b[0;34m(self, indexer, value)\u001b[0m\n\u001b[1;32m    836\u001b[0m                             \u001b[0;32mif\u001b[0m \u001b[0;32mnot\u001b[0m \u001b[0mis_list_like_indexer\u001b[0m\u001b[0;34m(\u001b[0m\u001b[0mvalue\u001b[0m\u001b[0;34m)\u001b[0m\u001b[0;34m:\u001b[0m\u001b[0;34m\u001b[0m\u001b[0;34m\u001b[0m\u001b[0m\n\u001b[1;32m    837\u001b[0m                                 raise ValueError(\n\u001b[0;32m--> 838\u001b[0;31m                                     \u001b[0;34m\"cannot set a frame with no \"\u001b[0m\u001b[0;34m\u001b[0m\u001b[0;34m\u001b[0m\u001b[0m\n\u001b[0m\u001b[1;32m    839\u001b[0m                                     \u001b[0;34m\"defined index and a scalar\"\u001b[0m\u001b[0;34m\u001b[0m\u001b[0;34m\u001b[0m\u001b[0m\n\u001b[1;32m    840\u001b[0m                                 )\n",
      "\u001b[0;31mValueError\u001b[0m: cannot set a frame with no defined index and a scalar"
     ]
    }
   ],
   "source": [
    "symbols = SYMBOLS\n",
    "\n",
    "total_dataframes = list()\n",
    "\n",
    "i = 1\n",
    "for symbol in symbols:\n",
    "    if (i % 1000) == 0:\n",
    "        print(\"\")\n",
    "    path_close = f\"{FULL_PATH}/close/{symbol}.csv\"\n",
    "    df_close = pd.read_csv(path_close, names=COLUMNS)\n",
    "    df_close['date'] = pd.to_datetime(df_close['date'])\n",
    "    df_close['volume'] = df_close['volume'].astype(float)\n",
    "\n",
    "    path_tech = f\"{FULL_PATH}/tech/{symbol}.csv\"\n",
    "    df_tech = pd.read_csv(path_tech, names=COLUMNS_TECH)\n",
    "    df_tech['date'] = pd.to_datetime(df_tech['date'])\n",
    "\n",
    "    list_df_tagged = []\n",
    "    for period in PERIOD:\n",
    "        df_aux = create_tags(df_close, period)\n",
    "        df_aux[f\"pct_change_{period}\"] = df_aux[f\"pct_change_{period}\"].astype(float)\n",
    "        df_aux[f\"pct_change_{period}\"] = df_aux[f\"pct_change_{period}\"].astype(float)\n",
    "        list_df_tagged.append(df_aux)\n",
    "    df_tagged = pd.concat(list_df_tagged, axis=1)\n",
    "    df_tagged.dropna(inplace=True)\n",
    "\n",
    "    df_close = df_close.set_index(['symbol', 'date'])\n",
    "    df_tech = df_tech.set_index(['symbol', 'date'])\n",
    "    dataframe = pd.concat([df_close, df_tech, df_tagged], join='inner', axis=1)\n",
    "    total_dataframes.append(dataframe)\n",
    "    i += 1\n",
    "tot_dataframe = pd.concat(total_dataframes)"
   ]
  },
  {
   "cell_type": "code",
   "execution_count": 5,
   "metadata": {},
   "outputs": [],
   "source": [
    "tot_dataframe = pd.concat(total_dataframes)"
   ]
  },
  {
   "cell_type": "code",
   "execution_count": 6,
   "metadata": {},
   "outputs": [
    {
     "data": {
      "text/plain": [
       "(15079105, 33)"
      ]
     },
     "execution_count": 6,
     "metadata": {},
     "output_type": "execute_result"
    }
   ],
   "source": [
    "tot_dataframe.shape"
   ]
  },
  {
   "cell_type": "code",
   "execution_count": 7,
   "metadata": {},
   "outputs": [],
   "source": [
    "dataframe_reset = tot_dataframe.reset_index()\n",
    "dataframe_train = dataframe_reset[dataframe_reset['date'].dt.year <= 2019] \\\n",
    "                      .set_index(['symbol', 'date']) \\\n",
    "                      .sort_values(by='date', ascending=False)\n",
    "dataframe_test = dataframe_reset[(dataframe_reset['date'].dt.year > 2019)\n",
    "                                 & (dataframe_reset['date'].dt.month <= 6)] \\\n",
    "                      .set_index(['symbol', 'date']) \\\n",
    "                      .sort_values(by='date', ascending=False)"
   ]
  },
  {
   "cell_type": "code",
   "execution_count": 8,
   "metadata": {},
   "outputs": [
    {
     "data": {
      "text/plain": [
       "((14396728, 33), (682377, 33))"
      ]
     },
     "execution_count": 8,
     "metadata": {},
     "output_type": "execute_result"
    }
   ],
   "source": [
    "dataframe_train.shape, dataframe_test.shape"
   ]
  },
  {
   "cell_type": "markdown",
   "metadata": {},
   "source": [
    "#### Remove Outliers"
   ]
  },
  {
   "cell_type": "raw",
   "metadata": {},
   "source": [
    "days_to_predict = 7\n",
    "\n",
    "df_train = dataframe_train[~dataframe_train[f\"tag_{days_to_predict}\"].isin((['outlier bull', 'outlier bear']))]\n",
    "y_train = df_train[f\"tag_{days_to_predict}\"].values\n",
    "\n",
    "y_test = dataframe_test[f\"tag_{days_to_predict}\"].values\n",
    "y_test = np.where(y_test == 'outlier bear', 'strong bear', y_test)\n",
    "y_test = np.where(y_test == 'outlier bull', 'strong bull', y_test)"
   ]
  },
  {
   "cell_type": "markdown",
   "metadata": {},
   "source": [
    "#### Keep the needed data for the model"
   ]
  },
  {
   "cell_type": "raw",
   "metadata": {},
   "source": [
    "X_train = df_train[U_COLUMNS].values\n",
    "X_test = dataframe_test[U_COLUMNS].values"
   ]
  },
  {
   "cell_type": "markdown",
   "metadata": {},
   "source": [
    "#### Apply scaler"
   ]
  },
  {
   "cell_type": "raw",
   "metadata": {},
   "source": [
    "robust_scl = RobustScaler()\n",
    "X_train_scl = robust_scl.fit_transform(X_train)\n",
    "X_test_scl = robust_scl.transform(X_test)"
   ]
  },
  {
   "cell_type": "markdown",
   "metadata": {},
   "source": [
    "#### Apply model"
   ]
  },
  {
   "cell_type": "raw",
   "metadata": {},
   "source": [
    "clf = RandomForestClassifier(criterion='entropy')\n",
    "np.mean(cross_val_score(clf, X_train_scl, y_train, cv=5, scoring='accuracy'))"
   ]
  },
  {
   "cell_type": "raw",
   "metadata": {},
   "source": [
    "clf.fit(X_train_scl, y_train)\n",
    "\n",
    "print(classification_report(y_test, clf.predict(X_test_scl)))"
   ]
  },
  {
   "cell_type": "code",
   "execution_count": 9,
   "metadata": {},
   "outputs": [],
   "source": [
    "param_grid_rf = {\n",
    "    'criterion': ('entropy', 'gini'),\n",
    "    'n_estimators': (10, 100),\n",
    "    'class_weight': ('balanced', 'balanced_subsample', None),\n",
    "    'warm_start': (False, True),\n",
    "    'random_state': (None, 32)\n",
    "}"
   ]
  },
  {
   "cell_type": "raw",
   "metadata": {},
   "source": [
    "# Random Forest\n",
    "gscv_rf = GridSearchCV(RandomForestClassifier(), param_grid_rf, cv=5,\n",
    "                       scoring=['accuracy', 'precision_micro', 'precision_macro'], refit='accuracy')\n",
    "gscv_rf.fit(X_train_scl, y_train);\n",
    "\n",
    "# Light Boosting\n",
    "gscv_lgbm = GridSearchCV(LGBMClassifier(), param_grid_lgbm, cv=5, \n",
    "                         scoring=['accuracy', 'precision_micro', 'precision_macro'], refit='accuracy')\n",
    "gscv_lgbm.fit(X_train_scl, y_train);"
   ]
  },
  {
   "cell_type": "raw",
   "metadata": {},
   "source": [
    "print('#'*5, 'Random Forest', '#'*5)\n",
    "print(classification_report(y_test, gscv_rf.predict(X_test_scl)))\n",
    "print('#'*5, 'Light', '#'*5)\n",
    "print(classification_report(y_test, gscv_lgbm.predict(X_test_scl)))"
   ]
  },
  {
   "cell_type": "markdown",
   "metadata": {},
   "source": [
    "# SAVING MODELS"
   ]
  },
  {
   "cell_type": "code",
   "execution_count": 10,
   "metadata": {},
   "outputs": [
    {
     "name": "stdout",
     "output_type": "stream",
     "text": [
      "##### Random Forest - 28 #####\n",
      "              precision    recall  f1-score   support\n",
      "\n",
      "        bear       0.10      0.09      0.10     65228\n",
      "        bull       0.27      0.46      0.34    146843\n",
      "        keep       0.16      0.03      0.06     67911\n",
      " strong bear       0.42      0.34      0.37    237156\n",
      " strong bull       0.35      0.35      0.35    165239\n",
      "\n",
      "    accuracy                           0.31    682377\n",
      "   macro avg       0.26      0.26      0.24    682377\n",
      "weighted avg       0.31      0.31      0.30    682377\n",
      " \n",
      "\n"
     ]
    }
   ],
   "source": [
    "days = PERIOD\n",
    "for days_to_predict in days:\n",
    "    # Train split into 20% of data\n",
    "    df_train = dataframe_train[~dataframe_train[f\"tag_{days_to_predict}\"].isin((['outlier bull', 'outlier bear']))]\n",
    "    y_train = df_train[f\"tag_{days_to_predict}\"].values\n",
    "\n",
    "    df_train, X_test_garbish, y_train, y_test_garbish = \\\n",
    "        train_test_split(df_train, y_train, train_size=0.05, random_state=32)\n",
    "\n",
    "    y_test = dataframe_test[f\"tag_{days_to_predict}\"].values\n",
    "    y_test = np.where(y_test == 'outlier bear', 'strong bear', y_test)\n",
    "    y_test = np.where(y_test == 'outlier bull', 'strong bull', y_test)\n",
    "\n",
    "    X_train = df_train[U_COLUMNS].values\n",
    "    X_test = dataframe_test[U_COLUMNS].values\n",
    "\n",
    "    robust_scl = RobustScaler()\n",
    "    X_train_scl = robust_scl.fit_transform(X_train)\n",
    "    X_test_scl = robust_scl.transform(X_test)\n",
    "\n",
    "    # Random Forest\n",
    "    gscv_rf = GridSearchCV(RandomForestClassifier(), param_grid_rf, cv=5,\n",
    "                           scoring=['accuracy', 'precision_micro', 'precision_macro'], refit='accuracy')\n",
    "    gscv_rf.fit(X_train_scl, y_train);\n",
    "\n",
    "    print('#'*5, f'Random Forest - {days_to_predict}', '#'*5)\n",
    "    print(classification_report(y_test, gscv_rf.predict(X_test_scl)), '\\n')\n",
    "    \n",
    "    pickle.dump(robust_scl, open(f\"{FULL_PATH}/model/robust_scaler_{days_to_predict}.pkl\", 'wb'))\n",
    "    pickle.dump(gscv_rf, open(f\"{FULL_PATH}/model/rf_{days_to_predict}.pkl\", 'wb'))"
   ]
  },
  {
   "cell_type": "code",
   "execution_count": null,
   "metadata": {},
   "outputs": [],
   "source": []
  }
 ],
 "metadata": {
  "kernelspec": {
   "display_name": "Python 3",
   "language": "python",
   "name": "python3"
  },
  "language_info": {
   "codemirror_mode": {
    "name": "ipython",
    "version": 3
   },
   "file_extension": ".py",
   "mimetype": "text/x-python",
   "name": "python",
   "nbconvert_exporter": "python",
   "pygments_lexer": "ipython3",
   "version": "3.7.7"
  }
 },
 "nbformat": 4,
 "nbformat_minor": 4
}
