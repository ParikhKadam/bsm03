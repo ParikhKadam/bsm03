{
 "cells": [
  {
   "cell_type": "markdown",
   "metadata": {},
   "source": [
    "Notebook usado para crear la función de crear los tags de los datos primeramente.\n",
    "\n",
    "Una vez que eso se completó este notebook pasa a ser solo para ver como se usa la función."
   ]
  },
  {
   "cell_type": "code",
   "execution_count": 1,
   "metadata": {},
   "outputs": [],
   "source": [
    "import sys\n",
    "import warnings\n",
    "\n",
    "import pandas as pd\n",
    "\n",
    "warnings.filterwarnings(\"ignore\")"
   ]
  },
  {
   "cell_type": "code",
   "execution_count": 7,
   "metadata": {},
   "outputs": [],
   "source": [
    "app_path = '/Users/esanc147/Documents/business/bsm03/web_app'\n",
    "if app_path in sys.path:\n",
    "    from tools.tags import create_tags, pct_change\n",
    "else: \n",
    "    sys.path.append('/Users/esanc147/Documents/business/bsm03/web_app')\n",
    "    from tools.tags import create_tags"
   ]
  },
  {
   "cell_type": "code",
   "execution_count": 3,
   "metadata": {},
   "outputs": [],
   "source": [
    "path = \"/Users/esanc147/Documents/business/bsm03/web_app/data/close/AAPL.csv\"\n",
    "COLUMNS = ['symbol', 'date', 'close', 'volume', 'open', 'high', 'low']\n",
    "df = pd.read_csv(path, names=COLUMNS)\n",
    "df['date'] = pd.to_datetime(df['date'])"
   ]
  },
  {
   "cell_type": "code",
   "execution_count": 4,
   "metadata": {},
   "outputs": [
    {
     "data": {
      "text/plain": [
       "Timestamp('2020-06-08 00:00:00')"
      ]
     },
     "execution_count": 4,
     "metadata": {},
     "output_type": "execute_result"
    }
   ],
   "source": [
    "df['date'].max()"
   ]
  },
  {
   "cell_type": "code",
   "execution_count": 5,
   "metadata": {},
   "outputs": [],
   "source": [
    "lc = []\n",
    "for elem in [7, 14, 21, 28]:\n",
    "    lc.append(create_tags(df, elem))\n",
    "df_tagged = pd.concat(lc, axis=1)\n",
    "df_tagged.dropna(inplace=True)"
   ]
  },
  {
   "cell_type": "code",
   "execution_count": 6,
   "metadata": {},
   "outputs": [
    {
     "data": {
      "text/plain": [
       "('AAPL', Timestamp('2020-04-28 00:00:00'))"
      ]
     },
     "execution_count": 6,
     "metadata": {},
     "output_type": "execute_result"
    }
   ],
   "source": [
    "df_tagged.index.max()"
   ]
  },
  {
   "cell_type": "code",
   "execution_count": 13,
   "metadata": {},
   "outputs": [
    {
     "data": {
      "text/html": [
       "<div>\n",
       "<style scoped>\n",
       "    .dataframe tbody tr th:only-of-type {\n",
       "        vertical-align: middle;\n",
       "    }\n",
       "\n",
       "    .dataframe tbody tr th {\n",
       "        vertical-align: top;\n",
       "    }\n",
       "\n",
       "    .dataframe thead th {\n",
       "        text-align: right;\n",
       "    }\n",
       "</style>\n",
       "<table border=\"1\" class=\"dataframe\">\n",
       "  <thead>\n",
       "    <tr style=\"text-align: right;\">\n",
       "      <th></th>\n",
       "      <th>symbol</th>\n",
       "      <th>date</th>\n",
       "      <th>close</th>\n",
       "      <th>pct_change_7</th>\n",
       "    </tr>\n",
       "  </thead>\n",
       "  <tbody>\n",
       "    <tr>\n",
       "      <th>3624</th>\n",
       "      <td>AAPL</td>\n",
       "      <td>2020-05-28</td>\n",
       "      <td>318.25</td>\n",
       "      <td>0.045613</td>\n",
       "    </tr>\n",
       "    <tr>\n",
       "      <th>3623</th>\n",
       "      <td>AAPL</td>\n",
       "      <td>2020-05-27</td>\n",
       "      <td>318.11</td>\n",
       "      <td>0.040392</td>\n",
       "    </tr>\n",
       "    <tr>\n",
       "      <th>3622</th>\n",
       "      <td>AAPL</td>\n",
       "      <td>2020-05-26</td>\n",
       "      <td>316.73</td>\n",
       "      <td>0.017343</td>\n",
       "    </tr>\n",
       "    <tr>\n",
       "      <th>3621</th>\n",
       "      <td>AAPL</td>\n",
       "      <td>2020-05-22</td>\n",
       "      <td>318.89</td>\n",
       "      <td>0.019162</td>\n",
       "    </tr>\n",
       "    <tr>\n",
       "      <th>3620</th>\n",
       "      <td>AAPL</td>\n",
       "      <td>2020-05-21</td>\n",
       "      <td>316.85</td>\n",
       "      <td>0.020072</td>\n",
       "    </tr>\n",
       "    <tr>\n",
       "      <th>3619</th>\n",
       "      <td>AAPL</td>\n",
       "      <td>2020-05-20</td>\n",
       "      <td>319.23</td>\n",
       "      <td>0.008140</td>\n",
       "    </tr>\n",
       "    <tr>\n",
       "      <th>3618</th>\n",
       "      <td>AAPL</td>\n",
       "      <td>2020-05-19</td>\n",
       "      <td>313.14</td>\n",
       "      <td>0.015097</td>\n",
       "    </tr>\n",
       "    <tr>\n",
       "      <th>3617</th>\n",
       "      <td>AAPL</td>\n",
       "      <td>2020-05-18</td>\n",
       "      <td>314.96</td>\n",
       "      <td>0.010338</td>\n",
       "    </tr>\n",
       "    <tr>\n",
       "      <th>3616</th>\n",
       "      <td>AAPL</td>\n",
       "      <td>2020-05-15</td>\n",
       "      <td>307.71</td>\n",
       "      <td>0.032693</td>\n",
       "    </tr>\n",
       "    <tr>\n",
       "      <th>3615</th>\n",
       "      <td>AAPL</td>\n",
       "      <td>2020-05-14</td>\n",
       "      <td>309.54</td>\n",
       "      <td>0.022701</td>\n",
       "    </tr>\n",
       "  </tbody>\n",
       "</table>\n",
       "</div>"
      ],
      "text/plain": [
       "     symbol       date   close  pct_change_7\n",
       "3624   AAPL 2020-05-28  318.25      0.045613\n",
       "3623   AAPL 2020-05-27  318.11      0.040392\n",
       "3622   AAPL 2020-05-26  316.73      0.017343\n",
       "3621   AAPL 2020-05-22  318.89      0.019162\n",
       "3620   AAPL 2020-05-21  316.85      0.020072\n",
       "3619   AAPL 2020-05-20  319.23      0.008140\n",
       "3618   AAPL 2020-05-19  313.14      0.015097\n",
       "3617   AAPL 2020-05-18  314.96      0.010338\n",
       "3616   AAPL 2020-05-15  307.71      0.032693\n",
       "3615   AAPL 2020-05-14  309.54      0.022701"
      ]
     },
     "execution_count": 13,
     "metadata": {},
     "output_type": "execute_result"
    }
   ],
   "source": [
    "pct_change(df, 7).head(10)"
   ]
  },
  {
   "cell_type": "code",
   "execution_count": null,
   "metadata": {},
   "outputs": [],
   "source": []
  }
 ],
 "metadata": {
  "kernelspec": {
   "display_name": "Python 3",
   "language": "python",
   "name": "python3"
  },
  "language_info": {
   "codemirror_mode": {
    "name": "ipython",
    "version": 3
   },
   "file_extension": ".py",
   "mimetype": "text/x-python",
   "name": "python",
   "nbconvert_exporter": "python",
   "pygments_lexer": "ipython3",
   "version": "3.7.7"
  }
 },
 "nbformat": 4,
 "nbformat_minor": 4
}
